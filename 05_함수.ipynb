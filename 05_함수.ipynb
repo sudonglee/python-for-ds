{
  "nbformat": 4,
  "nbformat_minor": 0,
  "metadata": {
    "colab": {
      "name": "05_함수.ipynb",
      "private_outputs": true,
      "provenance": [],
      "collapsed_sections": [],
      "authorship_tag": "ABX9TyOTp+gmW+ZoRHf4djSC2EHk",
      "include_colab_link": true
    },
    "kernelspec": {
      "name": "python3",
      "display_name": "Python 3"
    },
    "language_info": {
      "name": "python"
    }
  },
  "cells": [
    {
      "cell_type": "markdown",
      "metadata": {
        "id": "view-in-github",
        "colab_type": "text"
      },
      "source": [
        "<a href=\"https://colab.research.google.com/github/sudonglee/python-for-ds/blob/main/05_%ED%95%A8%EC%88%98.ipynb\" target=\"_parent\"><img src=\"https://colab.research.google.com/assets/colab-badge.svg\" alt=\"Open In Colab\"/></a>"
      ]
    },
    {
      "cell_type": "markdown",
      "source": [
        "# **Lecture 05. 함수**\n",
        "- 작성자: 이수동 (울산대학교 산업경영공학부 | sudonglee@ulsan.ac.kr)\n",
        "- 참고자료: 빌 루바노빅, 『처음 시작하는 파이썬(2판)』, 최길우 옮김, 한빛미디어(2020)."
      ],
      "metadata": {
        "id": "TrobJWua3o9A"
      }
    },
    {
      "cell_type": "markdown",
      "source": [
        "# **Introduction**\n",
        "- 지금까지는 단순한 일을 처리하는 예제 코드를 살펴봤습니다. \n",
        "- 코드 규모가 커진다면, 어느 누구도 똑같은 코드를 반복해서 입력하고 싶지 않을 것입니다. \n",
        "- 같은 기능을 수행하는 코드의 재사용을 위해 ***함수(function)***를 사용합니다. \n",
        "- 함수는 이름이 붙여진 분리된 하나의 코드 조각(snippet)으로, ***매개변수(parameter)***에 입력할 값을 받아 일련의 작업을 수행한 후 ***결과(result)를 반환(return)***합니다. \n",
        "- 함수는 기본적으로 아래 두 가지 작업을 수행합니다. \n",
        "   - 정의하기(define): 새로운 함수 정의\n",
        "   - 호출하기(call): 사전에 정의된 함수를 불러와 작업 수행"
      ],
      "metadata": {
        "id": "zbZzLARR35kA"
      }
    },
    {
      "cell_type": "markdown",
      "source": [
        "# **함수 정의하기: `def`**\n",
        "- Python 함수를 정의하기 위해서는 `def`와 함수 이름, 괄호를 입력합니다. \n",
        "- 괄호 안에는 옵션으로 **매개변수(parameter)**를 입력할 수 있습니다. \n",
        "- 그리고 마지막으로 콜론(`:`)을 붙입니다. \n",
        "- 함수의 이름은 변수 이름과 동일한 규칙으로 작성합니다."
      ],
      "metadata": {
        "id": "y5cxfchKzXHI"
      }
    },
    {
      "cell_type": "markdown",
      "source": [
        "예시로 매개변수가 없는 간단한 함수를 정의해보겠습니다. "
      ],
      "metadata": {
        "id": "4W95uRMZ0Tz6"
      }
    },
    {
      "cell_type": "code",
      "source": [
        "def hello():\n",
        "  print('hello')"
      ],
      "metadata": {
        "id": "vqrEMkXRE0d1"
      },
      "execution_count": null,
      "outputs": []
    },
    {
      "cell_type": "markdown",
      "source": [
        "- 위 함수는 입력 매개변수가 없고, 단지 `'hello'`라는 문구를 실행합니다. \n",
        "- 만약 함수의 출력값을 반환하고 싶다면 `return`으로 반환값을 정의합니다. "
      ],
      "metadata": {
        "id": "wIOjeZ5yFj5u"
      }
    },
    {
      "cell_type": "code",
      "source": [
        "def say_hello():\n",
        "  return 'hello'"
      ],
      "metadata": {
        "id": "L8rDFLG5FZXQ"
      },
      "execution_count": null,
      "outputs": []
    },
    {
      "cell_type": "markdown",
      "source": [
        "# **함수 호출하기: `()`**"
      ],
      "metadata": {
        "id": "Eld4ygjGE1_2"
      }
    },
    {
      "cell_type": "markdown",
      "source": [
        "함수 이름과 괄호를 입력해서 함수를 호출해봅시다. "
      ],
      "metadata": {
        "id": "INZKEm4YFHCk"
      }
    },
    {
      "cell_type": "code",
      "source": [
        "hello()"
      ],
      "metadata": {
        "id": "Ivr75W0kFMX9"
      },
      "execution_count": null,
      "outputs": []
    },
    {
      "cell_type": "code",
      "source": [
        "result = hello()"
      ],
      "metadata": {
        "id": "ZrLfZ6fDF3c1"
      },
      "execution_count": null,
      "outputs": []
    },
    {
      "cell_type": "code",
      "source": [
        "print(result)"
      ],
      "metadata": {
        "id": "D5e3X__OF7C1"
      },
      "execution_count": null,
      "outputs": []
    },
    {
      "cell_type": "code",
      "source": [
        "say_hello()"
      ],
      "metadata": {
        "id": "FhwR-YsEF9oV"
      },
      "execution_count": null,
      "outputs": []
    },
    {
      "cell_type": "code",
      "source": [
        "result = say_hello()"
      ],
      "metadata": {
        "id": "Hdi00dRtGAcf"
      },
      "execution_count": null,
      "outputs": []
    },
    {
      "cell_type": "code",
      "source": [
        "print(result)"
      ],
      "metadata": {
        "id": "erdG0u2sFNT9"
      },
      "execution_count": null,
      "outputs": []
    },
    {
      "cell_type": "markdown",
      "source": [
        "# **인수와 매개변수**\n",
        "- 이제는 함수 괄호 안에 무언가를 넣어 봅시다. \n",
        "- 두 변수 `x`, `y`를 입력 받아 합을 반환하는 함수 `add`를 만들어보겠습니다. "
      ],
      "metadata": {
        "id": "LboASl6CGJWV"
      }
    },
    {
      "cell_type": "code",
      "source": [
        "def add(x, y):\n",
        "  return x + y"
      ],
      "metadata": {
        "id": "G9WDe5jVGMOd"
      },
      "execution_count": null,
      "outputs": []
    },
    {
      "cell_type": "code",
      "source": [
        "result = add(3, 5)\n",
        "print(result)"
      ],
      "metadata": {
        "id": "JkwlgrkcGfxl"
      },
      "execution_count": null,
      "outputs": []
    },
    {
      "cell_type": "markdown",
      "source": [
        "- 위 코드에서 함수에 전달한 값 `3`과 `5`를 **인수(argument)**라고 합니다. \n",
        "- 인수와 함수를 호출하면 인수의 값은 함수 내에 상응하는 **매개변수(parameter)**에 복사됩니다. <br>\n",
        "> 💡 함수 외부에서는 **인수**, 함수 내부에서는 **매개변수**"
      ],
      "metadata": {
        "id": "Pw7PGzEIGv-M"
      }
    },
    {
      "cell_type": "markdown",
      "source": [
        "이번에는 좀 더 많은 작업을 수행하는 함수를 만들어 봅시다. "
      ],
      "metadata": {
        "id": "Z6bAlttpG9C1"
      }
    },
    {
      "cell_type": "code",
      "source": [
        "def commentary(color):\n",
        "  if color == \"빨강\":\n",
        "      print(\"토마토입니다.\")\n",
        "  elif color == \"주황\":\n",
        "      print(\"오렌지입니다.\")\n",
        "  elif color == \"노랑\":\n",
        "      print(\"레몬입니다.\")\n",
        "  else: \n",
        "      print(color+\"색 과일은 들어본 적이 없는데요?!\")"
      ],
      "metadata": {
        "id": "mnUut6HUHkiD"
      },
      "execution_count": null,
      "outputs": []
    },
    {
      "cell_type": "code",
      "source": [
        "commentary('빨강')"
      ],
      "metadata": {
        "id": "U08ozF57HlhN"
      },
      "execution_count": null,
      "outputs": []
    },
    {
      "cell_type": "code",
      "source": [
        "commentary('분홍')"
      ],
      "metadata": {
        "id": "8RIQH1rbH0Sq"
      },
      "execution_count": null,
      "outputs": []
    },
    {
      "cell_type": "markdown",
      "source": [
        "## 위치 인수(Positional Arguments)\n",
        "PYthon의 함수는 인수의 순서를 기억해 그 순서에 맞게 매개변수와 매칭합니다 "
      ],
      "metadata": {
        "id": "WRTwR1E-H2D0"
      }
    },
    {
      "cell_type": "code",
      "source": [
        "def menu(wine, entree, dessert):\n",
        "  print('Wine:', wine)\n",
        "  print('Entree:', entree)\n",
        "  print('Dessert:', dessert)"
      ],
      "metadata": {
        "id": "1K1VyP9CFD4e"
      },
      "execution_count": null,
      "outputs": []
    },
    {
      "cell_type": "code",
      "source": [
        "menu('bordeaux', 'beef', 'bagel')"
      ],
      "metadata": {
        "id": "pgvUsBh7IZIM"
      },
      "execution_count": null,
      "outputs": []
    },
    {
      "cell_type": "markdown",
      "source": [
        "위치 인수는 편리하지만 각 위치의 의미를 기억해야 한다는 단점이 있습니다."
      ],
      "metadata": {
        "id": "flyI1Ff3IwGc"
      }
    },
    {
      "cell_type": "code",
      "source": [
        "menu('beef', 'bagel', 'bordeaux')"
      ],
      "metadata": {
        "id": "JEbFfGXLIV9k"
      },
      "execution_count": null,
      "outputs": []
    },
    {
      "cell_type": "markdown",
      "source": [
        "## 키워드 인수(Keyword Arguments)\n",
        "- 위치 인수의 혼란을 피하기 위해 매개변수에 상응하는 이름을 인수에 지정할 수 있습니다. \n",
        "- 이 경우에는 인수를 함수 정의와 다른 순서로 지정해도 무방합니다."
      ],
      "metadata": {
        "id": "JIc5jJetIZgO"
      }
    },
    {
      "cell_type": "code",
      "source": [
        "menu(entree='beef', dessert='bagel', wine='bordeaux')"
      ],
      "metadata": {
        "id": "E2f-p_AiIg-s"
      },
      "execution_count": null,
      "outputs": []
    },
    {
      "cell_type": "markdown",
      "source": [
        "위치 인수와 키워드 인수를 섞어서 쓸 수 있습니다."
      ],
      "metadata": {
        "id": "L9HPraE9Ith8"
      }
    },
    {
      "cell_type": "code",
      "source": [
        "menu('bordeaux', dessert='bagel', entree='beef')"
      ],
      "metadata": {
        "id": "bj_diIw1I4TE"
      },
      "execution_count": null,
      "outputs": []
    },
    {
      "cell_type": "markdown",
      "source": [
        "## 기본 매개변수 값(Default Parameter Values) 지정하기\n",
        "- 매개변수에 기본값을 지정할 수 있습니다. \n",
        "- 사용자가 대응하는 인수를 제공하지 않으면 함수는 기본값을 사용하게 됩니다. "
      ],
      "metadata": {
        "id": "jB4PCogPI8H8"
      }
    },
    {
      "cell_type": "code",
      "source": [
        "def menu(wine, entree, dessert='pudding'):\n",
        "  print('Wine:', wine)\n",
        "  print('Entree:', entree)\n",
        "  print('Dessert:', dessert)"
      ],
      "metadata": {
        "id": "fTMJ4rgjJBWT"
      },
      "execution_count": null,
      "outputs": []
    },
    {
      "cell_type": "code",
      "source": [
        "menu('chardonnay', 'chicken')"
      ],
      "metadata": {
        "id": "kQIkyizPJRyc"
      },
      "execution_count": null,
      "outputs": []
    },
    {
      "cell_type": "code",
      "source": [
        "menu('chardonnay', 'chicken', 'doughnut')"
      ],
      "metadata": {
        "id": "wDkmkofAJTh0"
      },
      "execution_count": null,
      "outputs": []
    },
    {
      "cell_type": "markdown",
      "source": [
        "# 독스트링(Docstring)\n",
        "- 독스트링은 함수를 설명하는 문서입니다.\n",
        "- 사용자의 편의와 코드 유지보수 용이성을 위해 독스트링을 잘 작성하는 습관을 가집시다."
      ],
      "metadata": {
        "id": "-0i18E8eJTwc"
      }
    },
    {
      "cell_type": "code",
      "source": [
        "def echo(anything):\n",
        "    'echo returns its input argument'\n",
        "    return anything"
      ],
      "metadata": {
        "id": "Q9iIT8apJzlr"
      },
      "execution_count": null,
      "outputs": []
    },
    {
      "cell_type": "markdown",
      "source": [
        "`help()` 함수를 통해 함수의 독스트링을 확인할 수 있습니다."
      ],
      "metadata": {
        "id": "9_oFgpqaKVtD"
      }
    },
    {
      "cell_type": "code",
      "source": [
        "help(echo)"
      ],
      "metadata": {
        "id": "1JgKNJkuKdGE"
      },
      "execution_count": null,
      "outputs": []
    },
    {
      "cell_type": "markdown",
      "source": [
        "보다 긴 단락으로 작성할 수도 있습니다. "
      ],
      "metadata": {
        "id": "zUm1PhF9KeOz"
      }
    },
    {
      "cell_type": "code",
      "source": [
        "def print_if_true(thing, check):\n",
        "    '''\n",
        "    Print the first argument if a second argument is true.\n",
        "    The operation is:\n",
        "        1. Check whether the *second* argument is true.\n",
        "        2. If it is, print the *first* argument.\n",
        "    '''\n",
        "    if check:\n",
        "        print(thing)\n"
      ],
      "metadata": {
        "id": "_lcNlbEcKloj"
      },
      "execution_count": null,
      "outputs": []
    },
    {
      "cell_type": "code",
      "source": [
        "help(print_if_true)"
      ],
      "metadata": {
        "id": "TPDnirZ0KmWj"
      },
      "execution_count": null,
      "outputs": []
    },
    {
      "cell_type": "markdown",
      "source": [
        "# 예외(Exception)\n",
        "- Python에서는 코드 관련 에러가 발생할 때 실행되는 **예외(exception)**를 사용합니다. \n",
        "- 특정 상황에서 실패할 수 있는 코드를 실행할 때, 잠재적인 모든 에러를 방지하기 위해 적절한 **예외처리(exception handler)**가 필요합니다. \n",
        "- 사용자가 어디에서 예외를 발생할 것인지 예측하고, 예외처리를 미리 하는 것은 좋은 습관입니다. 이것으로 문제를 완전히 해결하지 못할 수도 있지만, 최소한 사용자에게 이 상황을 알리고 프로그램을 종료시킬 수 있습니다. "
      ],
      "metadata": {
        "id": "pH7YLu05KqzE"
      }
    },
    {
      "cell_type": "code",
      "source": [
        "short_word = 'Korea'\n",
        "position = 10\n",
        "short_word[position]"
      ],
      "metadata": {
        "id": "7C9FaSP8K8Tc"
      },
      "execution_count": null,
      "outputs": []
    },
    {
      "cell_type": "markdown",
      "source": [
        "에러가 발생하도록 코드를 내버려두는 것보다 에러가 예상되는 코드에 `try`문을 사용하고, 그 에러를 처리하기 위해 `except`문을 사용해봅시다."
      ],
      "metadata": {
        "id": "StS9ET-6XDHm"
      }
    },
    {
      "cell_type": "code",
      "source": [
        "short_word = 'Korea'\n",
        "position = 10\n",
        "try:\n",
        "    short_word[position]\n",
        "except:\n",
        "    print('Need a position between 0 and', len(short_word)-1, 'but got', position)"
      ],
      "metadata": {
        "id": "dCWlVH9sXU0N"
      },
      "execution_count": null,
      "outputs": []
    },
    {
      "cell_type": "markdown",
      "source": [
        "- `try`문의 코드를 실행할 때 에러가 있다면 예외가 발생하고, `except`문의 코드가 실행됩니다. \n",
        "- `try`문에 에러가 없다면 `except`문을 건너뜁니다."
      ],
      "metadata": {
        "id": "HIV1JVLaXVVm"
      }
    },
    {
      "cell_type": "markdown",
      "source": [
        "각 에러에 대한 특정 예외 핸들러를 사용할 수도 있습니다.\n",
        "```\n",
        "exept exceptiontype as name\n",
        "```"
      ],
      "metadata": {
        "id": "GTKPkqqPXxcN"
      }
    },
    {
      "cell_type": "code",
      "source": [
        "short_word = 'Korea'\n",
        "while True:\n",
        "    value = input('Position [q to quit]? ')\n",
        "    if value == 'q':\n",
        "        break\n",
        "    try: \n",
        "        position = int(value)\n",
        "        print(short_word[position])\n",
        "    except IndexError as err:\n",
        "        print('Bad index:', position)\n",
        "    except Exception as other:\n",
        "        print('Something else broke:', other)\n"
      ],
      "metadata": {
        "id": "5nRjPv3wXdSU"
      },
      "execution_count": null,
      "outputs": []
    },
    {
      "cell_type": "markdown",
      "source": [
        "# **모듈과 패키지**\n",
        "- 큰 규모의 프로그램을 작성하기 위해서는 미리 정의된 함수들을 체계적으로 정리하여 활용해야 합니다.\n",
        "- 완결된 형태의 Python 코드로 저장된 파일을 **모듈(module)**이라고 합니다. Python 프로그래밍에서 일반적으로 하나의 모듈(.py)은 여러 함수로 구성되어 있습니다. \n",
        "- **패키지(package)**는 모듈이 모여 있는 디렉터리(폴더)라고 생각하시면 됩니다. 패키지는 여러 계층의 디렉터리로 구성할 수 있습니다. \n",
        "- **라이브러리(library)**는 패키지의 집합으로 패키지보다 포괄적인 개념이지만, 패키지와 라이브러리를 혼용해서 사용하기도 합니다. \n",
        "- 정리하면, \n",
        "  - 모듈: 함수의 집합 (함수를 정의해놓은 Python 코드 파일)\n",
        "  - 패키지: 모듈의 집합 (모듈을 정리해놓은 폴더)\n",
        "  - 라이브러리: 패키지의 집합 (패키지를 정리해놓은 폴더)"
      ],
      "metadata": {
        "id": "OFYyYzqpXqXE"
      }
    },
    {
      "cell_type": "markdown",
      "source": [
        "`import`로 모듈을 불러올 수 있습니다. `functions.py` 파일을 불러옵시다.\n",
        "- `import module_name as alias`\n",
        "- `alias`는 모듈의 별명으로 모듈명이 길거나 복잡한 경우 단순한 별칭을 붙여 코드를 보다 간결하게 만들 수 있습니다. "
      ],
      "metadata": {
        "id": "JIxCJMvzUYMg"
      }
    },
    {
      "cell_type": "code",
      "source": [
        "import functions as ff\n",
        "print(ff)"
      ],
      "metadata": {
        "id": "W4a6ao3YKJ0y"
      },
      "execution_count": null,
      "outputs": []
    },
    {
      "cell_type": "markdown",
      "source": [
        "모듈명 뒤에 마침표(`.`)를 찍고 호출하고 싶은 함수명을 적으면 됩니다. "
      ],
      "metadata": {
        "id": "7291l8wzX1eI"
      }
    },
    {
      "cell_type": "code",
      "source": [
        "print(ff.add(3, 5))"
      ],
      "metadata": {
        "id": "EdtZI2OIYAig"
      },
      "execution_count": null,
      "outputs": []
    },
    {
      "cell_type": "code",
      "source": [
        "print(ff.mul(3, 5))"
      ],
      "metadata": {
        "id": "-wjGD29QYED9"
      },
      "execution_count": null,
      "outputs": []
    },
    {
      "cell_type": "markdown",
      "source": [
        "모듈(또는 패키지)에서 특정 함수(또는 모듈)만 `import`하고 싶을 때는 `from` 명령어를 사용하면 됩니다. "
      ],
      "metadata": {
        "id": "DyRWtEh4YHDY"
      }
    },
    {
      "cell_type": "code",
      "source": [
        "from functions import add\n",
        "print(add(3, 5))"
      ],
      "metadata": {
        "id": "3wOltsn6P8go"
      },
      "execution_count": null,
      "outputs": []
    },
    {
      "cell_type": "markdown",
      "source": [
        "- 이와 같은 방식으로 필요한 모듈/패키지를 직접 작성할 수 있습니다. \n",
        "- Python은 오픈소스 프로그래밍 언어이므로 다양한 종류의 라이브러리/패키지를 무료로 사용할 수 있습니다. 이후 강의에서 데이터 분석에 필요한 대표적인 라이브러리들에 대해 배워보겠습니다."
      ],
      "metadata": {
        "id": "SSz5LIO9QGTA"
      }
    }
  ]
}