{
  "nbformat": 4,
  "nbformat_minor": 0,
  "metadata": {
    "colab": {
      "name": "02_변수와 자료형.ipynb",
      "private_outputs": true,
      "provenance": [],
      "collapsed_sections": [],
      "authorship_tag": "ABX9TyO/YyDX+QssfpHEYBNb2fR/",
      "include_colab_link": true
    },
    "kernelspec": {
      "name": "python3",
      "display_name": "Python 3"
    },
    "language_info": {
      "name": "python"
    }
  },
  "cells": [
    {
      "cell_type": "markdown",
      "metadata": {
        "id": "view-in-github",
        "colab_type": "text"
      },
      "source": [
        "<a href=\"https://colab.research.google.com/github/sudonglee/python-for-ds/blob/main/02_%EB%B3%80%EC%88%98%EC%99%80_%EC%9E%90%EB%A3%8C%ED%98%95.ipynb\" target=\"_parent\"><img src=\"https://colab.research.google.com/assets/colab-badge.svg\" alt=\"Open In Colab\"/></a>"
      ]
    },
    {
      "cell_type": "markdown",
      "source": [
        "# **Lecture 02. 변수와 자료형**\n",
        "- 작성자: 이수동 (울산대학교 산업경영공학부 | sudonglee@ulsan.ac.kr)\n",
        "- 참고자료: 빌 루바노빅, 『처음 시작하는 파이썬(2판)』, 최길우 옮김, 한빛미디어(2020)."
      ],
      "metadata": {
        "id": "TkKBRpFyHkO-"
      }
    },
    {
      "cell_type": "markdown",
      "source": [
        "# **Introduction**"
      ],
      "metadata": {
        "id": "9FvwRTEskQuU"
      }
    },
    {
      "cell_type": "markdown",
      "source": [
        "## 첫 Python 코드 작성\n",
        "저와 함께 여러분의 첫번째 Python 코드를 작성해봅시다!"
      ],
      "metadata": {
        "id": "GK3JDMgXhmbt"
      }
    },
    {
      "cell_type": "code",
      "source": [
        "a = 7\n",
        "print(a)\n",
        "\n",
        "hello = 'Hello, world!'\n",
        "print(hello)"
      ],
      "metadata": {
        "id": "_U2rq7FhhjEO"
      },
      "execution_count": null,
      "outputs": []
    },
    {
      "cell_type": "markdown",
      "source": [
        "- 축하합니다! 🎉 이제 어디 가셔서 \"나 Python 코딩 해봤어!\"라고 말하셔도 됩니다. 👏👏👏\n",
        "- 이제 여러분이 작성한 코드를 함께 살펴봅시다. "
      ],
      "metadata": {
        "id": "k-gGRI_nh6Ig"
      }
    },
    {
      "cell_type": "markdown",
      "source": [
        "## \"Python 데이터는 **객체**다\""
      ],
      "metadata": {
        "id": "mFOxKJooON0z"
      }
    },
    {
      "cell_type": "markdown",
      "source": [
        "- 여러분이 작성한 코드의 산출물(output)은 컴퓨터의 *메모리(memory)*에 저장됩니다. \n",
        "- 컴퓨터 메모리는 일련의 긴 선반으로 생각할 수 있습니다. \n",
        "<br></br>\n",
        "![image](https://user-images.githubusercontent.com/27403189/149460897-fb8736bc-a367-43f9-8255-89b111e4cf17.png)\n"
      ],
      "metadata": {
        "id": "vHuxaFvTOWPL"
      }
    },
    {
      "cell_type": "markdown",
      "source": [
        "- *객체(object)*는 선반 위의 상자라고 생각해보세요.\n",
        "- 방금 작성한 코드의 `a = 7`이라는 명령문에 의해, 한 상자에 `7`이라는 __정수(integer)__ 타입의 __값__이 담겼습니다.\n",
        "<br></br>\n",
        "<img src='https://user-images.githubusercontent.com/27403189/149461714-42fe89dc-8bde-4fbe-adb7-813f71fec874.png' width=200>"
      ],
      "metadata": {
        "id": "7YTuxK3gPjCa"
      }
    },
    {
      "cell_type": "markdown",
      "source": [
        "Python에서 객체란 데이터를 표현하는 최소의 단위로, 아래의 정보를 포함합니다. \n",
        "1. **타입(type)** 정의\n",
        "2. 타입과 연관된 **값**\n",
        "3. 다른 객체와 구별하기 위한 고유 **ID**\n",
        "4. 객체의 사용 빈도를 추적하는 **참조 횟수**\n",
        "\n",
        "(본 강의의 특성 상 3, 4는 자세히 다루지 않겠습니다. 👌)\n"
      ],
      "metadata": {
        "id": "Dthcg1anTekx"
      }
    },
    {
      "cell_type": "markdown",
      "source": [
        "# **변수(Variable)**\n",
        "- *변수(variable)*는 프로그래밍 언어의 핵심 개념입니다. \n",
        "- 변수를 통해 객체를 정의하고 다룰 수 있습니다. "
      ],
      "metadata": {
        "id": "-2jbbZiekFhv"
      }
    },
    {
      "cell_type": "markdown",
      "source": [
        "## 변수의 할당(assignment)"
      ],
      "metadata": {
        "id": "Thjqy05Sl4-t"
      }
    },
    {
      "cell_type": "markdown",
      "source": [
        "`a = 7`의 해석\n",
        "- 수학: \"`a`에 `7`을 대입한다.\" or \"`a`와 `7`은 같다.\"\n",
        "- Python: \"`a`에 `7`을 할당한다.\""
      ],
      "metadata": {
        "id": "uXnkKwa3l9TH"
      }
    },
    {
      "cell_type": "markdown",
      "source": [
        "선반과 상자 예시로 돌아가면, 변수의 할당은 객체에 해당하는 상자에 **이름표**를 붙이는 것과 같습니다. \n",
        "<br>\n",
        "<br>\n",
        "<img src='https://user-images.githubusercontent.com/27403189/149472567-bc96dada-c3db-4eae-bd01-0e305e81a849.png' width='200'>\n"
      ],
      "metadata": {
        "id": "hSt2IzPZmQm9"
      }
    },
    {
      "cell_type": "markdown",
      "source": [
        "상자 안의 내용을 바꿔볼까요?"
      ],
      "metadata": {
        "id": "rE9Wzww5nsjr"
      }
    },
    {
      "cell_type": "code",
      "source": [
        "print(a)\n",
        "a = 3\n",
        "print(a)"
      ],
      "metadata": {
        "id": "2buIeTc1nz1b"
      },
      "execution_count": null,
      "outputs": []
    },
    {
      "cell_type": "markdown",
      "source": [
        "Python의 변수명(variable name)에는 몇 가지 규칙이 있습니다. \n",
        "- 다음 문자만 사용할 수 있다. \n",
        "  - 영어 소문자(`a`-`z`)\n",
        "  - 영어 대문자(`A`-`Z`)\n",
        "  - 숫자(`0`-`9`)\n",
        "  - 언더바(`_`)\n",
        "- **대소 문자**를 구분한다. 즉, `thing`, `Thing`, `THING`은 서로 다른 이름이다.\n",
        "- 숫자가 아닌 문자나 언더바로 시작한다.\n",
        "- Python 예약어(키워드)는 사용할 수 없다. ([Python Keyword List](https://docs.python.org/3/reference/lexical_analysis.html#keywords))"
      ],
      "metadata": {
        "id": "7z9qSXeeoJRy"
      }
    },
    {
      "cell_type": "markdown",
      "source": [
        "**사용할 수 *있는* 변수명 예시:**\n",
        "- a\n",
        "- a1\n",
        "- a_b_c___95\n",
        "- _abc\n",
        "- _1a\n",
        "\n",
        "**사용할 수 *없는* 변수명 예시:**\n",
        "- 1\n",
        "- 1a\n",
        "- 1_\n",
        "- name!\n",
        "- another-name"
      ],
      "metadata": {
        "id": "AvaHCGGd1ixr"
      }
    },
    {
      "cell_type": "markdown",
      "source": [
        "## \"변수는 장소가 아니라 이름이다.\"\n",
        "\n",
        "- 변수에 대해 꼭 알아야 할 점! Python의 변수는 단지 **이름**입니다.(이 특징은 프로그래밍 언어마다 다릅니다.)\n",
        "- 할당(assignment)은 값을 복사하지 않고, 단지 데이터를 포함하는 객체에 이름을 붙입니다.\n"
      ],
      "metadata": {
        "id": "fSFjX1XwkvGL"
      }
    },
    {
      "cell_type": "markdown",
      "source": [
        "아래 예시를 살펴봅시다.\n"
      ],
      "metadata": {
        "id": "_LSDqwEW2gtj"
      }
    },
    {
      "cell_type": "code",
      "source": [
        "a = 7\n",
        "print(a)\n",
        "\n",
        "b = a\n",
        "print(b)"
      ],
      "metadata": {
        "id": "t3dRmi9wnzQV"
      },
      "execution_count": null,
      "outputs": []
    },
    {
      "cell_type": "markdown",
      "source": [
        "<img src='https://user-images.githubusercontent.com/27403189/149526023-7649cf5c-c09d-4094-b490-0a8e29746ff9.png' width=200>"
      ],
      "metadata": {
        "id": "UFsgkhue3CC4"
      }
    },
    {
      "cell_type": "markdown",
      "source": [
        "컴퓨터(인터프리터)가 위 코드를 처리하는 과정:\n",
        "1. 변수 `a`에 값 `7`을 할당한다. 즉, 정수 `7`을 포함하는 객체 상자를 만든다.\n",
        "2. 변수 `a`를 출력한다.\n",
        "3. 변수 `a`를 변수 `b`에 할당한다. 변수 `b`도 `7`을 포함하는 객체 상자를 가리킨다.\n",
        "4. 변수 `b`의 값을 출력한다.\n"
      ],
      "metadata": {
        "id": "mzXWir_v3hSQ"
      }
    },
    {
      "cell_type": "code",
      "source": [
        "print(a)"
      ],
      "metadata": {
        "id": "NIDHd8keIotv"
      },
      "execution_count": null,
      "outputs": []
    },
    {
      "cell_type": "code",
      "source": [
        "a = 3\n",
        "print(a)\n",
        "print(b)"
      ],
      "metadata": {
        "id": "_dl9Y7bM3Qyp"
      },
      "execution_count": null,
      "outputs": []
    },
    {
      "cell_type": "markdown",
      "source": [
        "<img src='https://user-images.githubusercontent.com/27403189/149527454-cfed4d24-1d51-4c28-8cb8-f99c507b34ad.png' width=400>"
      ],
      "metadata": {
        "id": "EzRd9Xbn5Xro"
      }
    },
    {
      "cell_type": "code",
      "source": [
        "a = [1, 2]\n",
        "b = a\n",
        "print(a, b)"
      ],
      "metadata": {
        "id": "6VqRzI9I7rHP"
      },
      "execution_count": null,
      "outputs": []
    },
    {
      "cell_type": "code",
      "source": [
        "a[0] = 3\n",
        "print(a, b)"
      ],
      "metadata": {
        "id": "5X0ICazx7uwb"
      },
      "execution_count": null,
      "outputs": []
    },
    {
      "cell_type": "markdown",
      "source": [
        "# **자료형(Type)**"
      ],
      "metadata": {
        "id": "jnWpGBP5T4Vj"
      }
    },
    {
      "cell_type": "markdown",
      "source": [
        "- Python은 다양한 자료형(type)의 데이터를 다룰 수 있습니다.\n",
        "- `type()` 함수를 이용하여 데이터의 자료형을 확인할 수 있습니다."
      ],
      "metadata": {
        "id": "ygGZ8tZUkXWa"
      }
    },
    {
      "cell_type": "markdown",
      "source": [
        "<img src='https://user-images.githubusercontent.com/27403189/149528522-0db5604e-5dc6-4511-b1d6-224459294611.png' width=600>"
      ],
      "metadata": {
        "id": "spkvV5nYjoDk"
      }
    },
    {
      "cell_type": "code",
      "source": [
        "a = 3\n",
        "b = True\n",
        "c = 2.8\n",
        "print(type(a), type(b), type(c))"
      ],
      "metadata": {
        "id": "MlNM01iv7_Gz"
      },
      "execution_count": null,
      "outputs": []
    },
    {
      "cell_type": "markdown",
      "source": [
        "이번 강의에서는 불리언(`bool`), 정수(`int`), 부동소수점(`float`), 텍스트 문자열(`str`)에 대해 자세히 살펴보겠습니다."
      ],
      "metadata": {
        "id": "UmLiseM-6irN"
      }
    },
    {
      "cell_type": "markdown",
      "source": [
        "## 불리언(Boolean, `bool`)\n",
        "Python에서 불리언 데이터 타입은 `True`(참)와 `False`(거짓) 중 하나의 값만 가질 수 있습니다. \n",
        "\n"
      ],
      "metadata": {
        "id": "PJmlDYBm7wUt"
      }
    },
    {
      "cell_type": "code",
      "source": [
        "a = True\n",
        "print(a)\n",
        "print(type(a))"
      ],
      "metadata": {
        "id": "nuxv_Ovl9fRG"
      },
      "execution_count": null,
      "outputs": []
    },
    {
      "cell_type": "code",
      "source": [
        "b = False\n",
        "print(b)\n",
        "print(type(b))"
      ],
      "metadata": {
        "id": "8zasY28A-bmk"
      },
      "execution_count": null,
      "outputs": []
    },
    {
      "cell_type": "markdown",
      "source": [
        " Python 함수 `bool()`은 모든 파이썬 데이터 타입을 불리언으로 변환합니다.\n",
        "\n",
        "- 7주차에 **함수**에 대해 자세히 다룹니다.\n",
        "- 지금은 함수의 **이름** 뒤 **()**에 입력 **인수(argument)**를 입력하고, 이를 처리하여 반환되는 **반환값(return value)**이 있다는 정도만 알아둡시다. \n",
        "- `bool()` 함수는 인수로 입력된 값을 불리언으로 변환하여 반환합니다.  "
      ],
      "metadata": {
        "id": "C7ZEx0-w9ZZ0"
      }
    },
    {
      "cell_type": "markdown",
      "source": [
        "0이 아닌 값은 `True`로 간주합니다."
      ],
      "metadata": {
        "id": "3kf50Be8-10C"
      }
    },
    {
      "cell_type": "code",
      "source": [
        "print(bool(True))\n",
        "print(bool(1))\n",
        "print(bool(45))\n",
        "print(bool(-45))"
      ],
      "metadata": {
        "id": "YzOq7Y1E8NFm"
      },
      "execution_count": null,
      "outputs": []
    },
    {
      "cell_type": "markdown",
      "source": [
        "0인 값은 `False`로 간주합니다."
      ],
      "metadata": {
        "id": "j8CmpSiS-wkc"
      }
    },
    {
      "cell_type": "code",
      "source": [
        "print(bool(False))\n",
        "print(bool(0))\n",
        "print(bool(0.0))\n",
        "print(bool(-0))"
      ],
      "metadata": {
        "id": "PdlDXNKc_C6a"
      },
      "execution_count": null,
      "outputs": []
    },
    {
      "cell_type": "markdown",
      "source": [
        "- \"불리언.. 대체 왜 배우고 언제 쓰는 거야..?\"라고 생각 중이실지 모르겠습니다. 👀\n",
        "- **조건문과 반복문** 강의에서 불리언의 쓰임과 유용성을 자세히 살펴보겠습니다."
      ],
      "metadata": {
        "id": "K8EGRXcj_ISF"
      }
    },
    {
      "cell_type": "markdown",
      "source": [
        "## 정수(Integer, `int`)\n",
        "- 정수는 모두 숫자로 이루어져 있으며, 분수나 소수점이 없습니다.\n",
        "- 정수 앞에 부호가 올 수 있습니다. \n",
        "- 일반적으로 10진수를 사용하나 그 외 다른 진수로도 표현할 수 있습니다."
      ],
      "metadata": {
        "id": "FgW8pYEG_cGT"
      }
    },
    {
      "cell_type": "code",
      "source": [
        "print(type(1))\n",
        "print(type(25))\n",
        "print(type(-4))\n",
        "print(type(0))"
      ],
      "metadata": {
        "id": "jhOHJM61_fiS"
      },
      "execution_count": null,
      "outputs": []
    },
    {
      "cell_type": "markdown",
      "source": [
        "### 수리 연산(Numerical Operations)"
      ],
      "metadata": {
        "id": "-LZ-hK4X_1iZ"
      }
    },
    {
      "cell_type": "markdown",
      "source": [
        "- 간단한 수리 연산 예제를 살펴봅시다. \n",
        "- 다음 표의 연산자(operator)를 활용하여 수리 연산을 수행할 수 있습니다.\n",
        "\n",
        "|연산자|설명|예시|결과|\n",
        "|:-|:-|:-|:-|\n",
        "|+|더하기|5 + 8|13|\n",
        "|-|빼기|90 - 10|80|\n",
        "|* |곱하기|4 * 7|28|\n",
        "|/|부동소수점 나누기|7 / 2|3.5|\n",
        "|//|정수 나누기(소수점 이하 버림)|7 // 2|3|\n",
        "|%|나머지|7 % 3|1|\n",
        "|**|지수|3 ** 4|81|"
      ],
      "metadata": {
        "id": "csp5Qkww_-Le"
      }
    },
    {
      "cell_type": "markdown",
      "source": [
        "덧셈과 뺄셈의 예시를 살펴봅시다."
      ],
      "metadata": {
        "id": "NO41GKpkAssl"
      }
    },
    {
      "cell_type": "code",
      "source": [
        "5 + 9"
      ],
      "metadata": {
        "id": "cSPj49sLAhYj"
      },
      "execution_count": null,
      "outputs": []
    },
    {
      "cell_type": "code",
      "source": [
        "100 - 7"
      ],
      "metadata": {
        "id": "7xMN6T3kBCPZ"
      },
      "execution_count": null,
      "outputs": []
    },
    {
      "cell_type": "code",
      "source": [
        "4 - 10"
      ],
      "metadata": {
        "id": "EmPKCXlwBD16"
      },
      "execution_count": null,
      "outputs": []
    },
    {
      "cell_type": "markdown",
      "source": [
        "원하는 만큼 숫자와 연산자를 추가하여 계산할 수 있습니다. "
      ],
      "metadata": {
        "id": "HfacGYAvBElS"
      }
    },
    {
      "cell_type": "code",
      "source": [
        "5 + 9 + 3"
      ],
      "metadata": {
        "id": "2JGaCkOABIDh"
      },
      "execution_count": null,
      "outputs": []
    },
    {
      "cell_type": "code",
      "source": [
        "4 + 3 - 2 - 1 + 6"
      ],
      "metadata": {
        "id": "wy2TQlsJBJyL"
      },
      "execution_count": null,
      "outputs": []
    },
    {
      "cell_type": "markdown",
      "source": [
        "숫자나 연산자 사이의 공백은 무시됩니다."
      ],
      "metadata": {
        "id": "PDz6-ynVBMmD"
      }
    },
    {
      "cell_type": "code",
      "source": [
        "5+9  +        3"
      ],
      "metadata": {
        "id": "hbH-tokxBPjS"
      },
      "execution_count": null,
      "outputs": []
    },
    {
      "cell_type": "code",
      "source": [
        "5+9"
      ],
      "metadata": {
        "id": "zMyiaoJtKzD0"
      },
      "execution_count": null,
      "outputs": []
    },
    {
      "cell_type": "markdown",
      "source": [
        "곱셈도 해볼까요?"
      ],
      "metadata": {
        "id": "qGkta3TkBRgC"
      }
    },
    {
      "cell_type": "code",
      "source": [
        "6 * 7"
      ],
      "metadata": {
        "id": "ZtDNMEbRBUwZ"
      },
      "execution_count": null,
      "outputs": []
    },
    {
      "cell_type": "markdown",
      "source": [
        "지수(제곱)는 `**`"
      ],
      "metadata": {
        "id": "kqABemqlE4cO"
      }
    },
    {
      "cell_type": "code",
      "source": [
        "3 ** 2"
      ],
      "metadata": {
        "id": "pJCC-CpgE7ke"
      },
      "execution_count": null,
      "outputs": []
    },
    {
      "cell_type": "markdown",
      "source": [
        "연산 순서는 수학에서의 연산 순서와 같습니다.\n",
        "- '*지수 > 곱셈, 나눗셈 > 덧셈, 뺄셈* ' 순서로 진행\n",
        "- 괄호를 통해 연산 순서 지정 가능"
      ],
      "metadata": {
        "id": "FDDfnz5xCtgp"
      }
    },
    {
      "cell_type": "code",
      "source": [
        "6 * 3 ** 2 + 2"
      ],
      "metadata": {
        "id": "SyuiCYUvBV_a"
      },
      "execution_count": null,
      "outputs": []
    },
    {
      "cell_type": "code",
      "source": [
        "6 * (3 ** 2 + 2)"
      ],
      "metadata": {
        "id": "5tSimuZWBZ2R"
      },
      "execution_count": null,
      "outputs": []
    },
    {
      "cell_type": "code",
      "source": [
        "6 * 3 ** (2 + 2)"
      ],
      "metadata": {
        "id": "pc4l7s1JDN3J"
      },
      "execution_count": null,
      "outputs": []
    },
    {
      "cell_type": "markdown",
      "source": [
        "나눗셈은 다음 세 가지 연산자의 차이를 이해하셔야 합니다. \n",
        "- `/`는 **부동소수점**을 포함한 결과를 반환합니다.\n",
        "- `//`는 부동소수점을 제외한 결과, 즉 **정수**가 출력됩니다.(나눗셈의 `몫`)\n",
        "- `%`는 나눗셈의 **나머지**를 반환합니다.\n"
      ],
      "metadata": {
        "id": "AmznDQpKBcJC"
      }
    },
    {
      "cell_type": "code",
      "source": [
        "9 / 5"
      ],
      "metadata": {
        "id": "I3rkIGDbBi4B"
      },
      "execution_count": null,
      "outputs": []
    },
    {
      "cell_type": "code",
      "source": [
        "9 // 5"
      ],
      "metadata": {
        "id": "0JEg0WS4B0ua"
      },
      "execution_count": null,
      "outputs": []
    },
    {
      "cell_type": "code",
      "source": [
        "9 % 5"
      ],
      "metadata": {
        "id": "bqkYxwCIB2Mi"
      },
      "execution_count": null,
      "outputs": []
    },
    {
      "cell_type": "markdown",
      "source": [
        "변수의 수리 연산을 살펴보겠습니다."
      ],
      "metadata": {
        "id": "0frl29QPCBAZ"
      }
    },
    {
      "cell_type": "code",
      "source": [
        "a = 3\n",
        "b = a + 2 \n",
        "print(b)"
      ],
      "metadata": {
        "id": "IHd0giPkCLwB"
      },
      "execution_count": null,
      "outputs": []
    },
    {
      "cell_type": "code",
      "source": [
        "a = 3\n",
        "a = a + 3\n",
        "print(a)"
      ],
      "metadata": {
        "id": "xvJHkFwdCOyZ"
      },
      "execution_count": null,
      "outputs": []
    },
    {
      "cell_type": "code",
      "source": [
        "a = 3\n",
        "a += 3\n",
        "print(a)"
      ],
      "metadata": {
        "id": "KX34fOnACS2p"
      },
      "execution_count": null,
      "outputs": []
    },
    {
      "cell_type": "markdown",
      "source": [
        "`-=`, `*=`, `**=`, `/=`, `//=`도 가능합니다!"
      ],
      "metadata": {
        "id": "M5EW8qFCCeZ4"
      }
    },
    {
      "cell_type": "markdown",
      "source": [
        "### 진수(Base)\n",
        "10진수 외의 진수도 표현할 수 있습니다. \n",
        "- 2진수(binary): `0b` 또는 `0B`\n",
        "- 8진수(octal): `0o` 또는 `0O`\n",
        "- 16진수(hex): `0x` 또는 `0X`"
      ],
      "metadata": {
        "id": "WxjPjB0NDtdC"
      }
    },
    {
      "cell_type": "code",
      "source": [
        "print(10)\n",
        "print(0b10)\n",
        "print(0o10)\n",
        "print(0x10)"
      ],
      "metadata": {
        "id": "A-DDNAQUEBk4"
      },
      "execution_count": null,
      "outputs": []
    },
    {
      "cell_type": "markdown",
      "source": [
        "`bool()` 함수와 마찬가지로 `int()` 함수를 통해 다른 자료형의 데이터를 정수로 변환할 수 있습니다. "
      ],
      "metadata": {
        "id": "aKcWrU4ZEHeA"
      }
    },
    {
      "cell_type": "code",
      "source": [
        "print(int(True))\n",
        "print(int(False))\n",
        "print(int(1.0))\n",
        "print(int(1.4))\n",
        "print(int(1.6))\n",
        "print(int(1.99))\n",
        "print(int(2.01))"
      ],
      "metadata": {
        "id": "UCq5ooxWEhE3"
      },
      "execution_count": null,
      "outputs": []
    },
    {
      "cell_type": "markdown",
      "source": [
        "## 부동소수점(Float, `float`)\n",
        "정수는 숫자만으로 표현되지만, 부동소수점(floating point) 숫자(Python에서는 `float`)는 소수점을 포함합니다."
      ],
      "metadata": {
        "id": "KjwoGgG9EisI"
      }
    },
    {
      "cell_type": "code",
      "source": [
        "print(type(5.0))"
      ],
      "metadata": {
        "id": "ml6FtsAhEyU-"
      },
      "execution_count": null,
      "outputs": []
    },
    {
      "cell_type": "code",
      "source": [
        "print(5.)\n",
        "print(5.0)\n",
        "print(05.0)"
      ],
      "metadata": {
        "id": "hLsV1O3xFNYg"
      },
      "execution_count": null,
      "outputs": []
    },
    {
      "cell_type": "code",
      "source": [
        "print(05)"
      ],
      "metadata": {
        "id": "R-VQQWR1FQ2J"
      },
      "execution_count": null,
      "outputs": []
    },
    {
      "cell_type": "code",
      "source": [
        "print(0.1)\n",
        "print(.1)\n",
        "print(00.1)"
      ],
      "metadata": {
        "id": "9A4RifVRFR7n"
      },
      "execution_count": null,
      "outputs": []
    },
    {
      "cell_type": "markdown",
      "source": [
        "부동소수점 숫자는 문자 `e`와 정수인 지수로 나타낼 수 있습니다."
      ],
      "metadata": {
        "id": "iXrry-EGFWH3"
      }
    },
    {
      "cell_type": "code",
      "source": [
        "print(5e0)\n",
        "print(5e1) # e1 = 10**1\n",
        "print(5.0e1)\n",
        "print(5.0 * (10**1))"
      ],
      "metadata": {
        "id": "VsNUgVrxFcs4"
      },
      "execution_count": null,
      "outputs": []
    },
    {
      "cell_type": "markdown",
      "source": [
        "`float()` 함수를 통해 다른 자료형을 `float` type으로 변환할 수 있습니다."
      ],
      "metadata": {
        "id": "Fo0lEnZRFmC2"
      }
    },
    {
      "cell_type": "code",
      "source": [
        "print(float(True)) # boolean\n",
        "print(float(98)) # integer\n",
        "print(float('99')) # integer in string\n",
        "print(float('98.6')) # float in string\n",
        "print(float('-1.5'))\n",
        "print(float('1.0e4'))"
      ],
      "metadata": {
        "id": "G19MKWjaF0gO"
      },
      "execution_count": null,
      "outputs": []
    },
    {
      "cell_type": "markdown",
      "source": [
        "서로 다른 자료형의 연산을 수행하면 결과는 **더 큰** 자료형으로 나타납니다. (`bool` < `int` < `float`)"
      ],
      "metadata": {
        "id": "cReCuN8RF2aB"
      }
    },
    {
      "cell_type": "code",
      "source": [
        "print(False + 0)\n",
        "print(0 + 0.)\n",
        "print(False + 0.)\n",
        "print(True + 0)\n",
        "print(1 + 0.)\n",
        "print(True + 0.)"
      ],
      "metadata": {
        "id": "u7dqs6UBGJz2"
      },
      "execution_count": null,
      "outputs": []
    },
    {
      "cell_type": "markdown",
      "source": [
        "## 텍스트 문자열(Text String, `str`)"
      ],
      "metadata": {
        "id": "8bsMEzG6Gudf"
      }
    },
    {
      "cell_type": "markdown",
      "source": [
        "작은따옴표(`''`)와 큰따옴표(`\"\"`)를 사용해서 텍스트 문자열을 만들 수 있습니다. "
      ],
      "metadata": {
        "id": "Ug4L3nm9G1NZ"
      }
    },
    {
      "cell_type": "code",
      "source": [
        "a = 'hello'\n",
        "print(type(a))\n",
        "print(a)"
      ],
      "metadata": {
        "id": "906STTpiHi-I"
      },
      "execution_count": null,
      "outputs": []
    },
    {
      "cell_type": "code",
      "source": [
        "a = \"hello\"\n",
        "print(type(a))\n",
        "print(a)"
      ],
      "metadata": {
        "id": "SCpxVhcOHl4W"
      },
      "execution_count": null,
      "outputs": []
    },
    {
      "cell_type": "code",
      "source": [
        "print(\"'hello'\")\n",
        "print('\"hello\"')"
      ],
      "metadata": {
        "id": "SA265dh-HvpN"
      },
      "execution_count": null,
      "outputs": []
    },
    {
      "cell_type": "markdown",
      "source": [
        "여러 줄의 문자열은 삼중작은따옴표(`'''`) 또는 삼중큰따옴표(`\"\"\"`)로 만들 수 있습니다."
      ],
      "metadata": {
        "id": "WPuCgXwWH4zG"
      }
    },
    {
      "cell_type": "code",
      "source": [
        "a = '''\n",
        "안녕하세요.\n",
        "반갑습니다.\n",
        "'''\n",
        "\n",
        "print(a)"
      ],
      "metadata": {
        "id": "Jn3RNYefIDvm"
      },
      "execution_count": null,
      "outputs": []
    },
    {
      "cell_type": "markdown",
      "source": [
        "\"문자열의 수리적 연산이 가능할까?\""
      ],
      "metadata": {
        "id": "iNTiLrhuIKtW"
      }
    },
    {
      "cell_type": "code",
      "source": [
        "first = 'Sudong'\n",
        "last = 'Lee'\n",
        "name = first + ' ' + last\n",
        "print(name)"
      ],
      "metadata": {
        "id": "2GxbOe63IYE9"
      },
      "execution_count": null,
      "outputs": []
    },
    {
      "cell_type": "markdown",
      "source": [
        "그럼 뺄셈도?!"
      ],
      "metadata": {
        "id": "xe8YxD7KIqRX"
      }
    },
    {
      "cell_type": "code",
      "source": [
        "print(first - last)"
      ],
      "metadata": {
        "id": "sDyVO1fFIgR-"
      },
      "execution_count": null,
      "outputs": []
    },
    {
      "cell_type": "markdown",
      "source": [
        "곱셈..?"
      ],
      "metadata": {
        "id": "8zUv2-6mIoos"
      }
    },
    {
      "cell_type": "code",
      "source": [
        "print(first * 3)"
      ],
      "metadata": {
        "id": "pWluP2wvIwZl"
      },
      "execution_count": null,
      "outputs": []
    },
    {
      "cell_type": "markdown",
      "source": [
        "💡"
      ],
      "metadata": {
        "id": "mRBDfm46IypN"
      }
    },
    {
      "cell_type": "markdown",
      "source": [
        "`str()` 함수를 통해 다른 자료형 데이터를 `str`으로 변환할 수 있습니다."
      ],
      "metadata": {
        "id": "tbSLOYI1I5id"
      }
    },
    {
      "cell_type": "code",
      "source": [
        "print(str(98.6)) # '98.6'\n",
        "print(str(1.0e4))\n",
        "print(True)"
      ],
      "metadata": {
        "id": "FrcJYHlAJATM"
      },
      "execution_count": null,
      "outputs": []
    }
  ]
}