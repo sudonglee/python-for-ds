{
  "nbformat": 4,
  "nbformat_minor": 0,
  "metadata": {
    "kernelspec": {
      "display_name": "Python 3",
      "language": "python",
      "name": "python3"
    },
    "language_info": {
      "codemirror_mode": {
        "name": "ipython",
        "version": 3
      },
      "file_extension": ".py",
      "mimetype": "text/x-python",
      "name": "python",
      "nbconvert_exporter": "python",
      "pygments_lexer": "ipython3",
      "version": "3.8.5"
    },
    "colab": {
      "name": "13_마크다운.ipynb",
      "provenance": [],
      "collapsed_sections": [],
      "include_colab_link": true
    }
  },
  "cells": [
    {
      "cell_type": "markdown",
      "metadata": {
        "id": "view-in-github",
        "colab_type": "text"
      },
      "source": [
        "<a href=\"https://colab.research.google.com/github/sudonglee/python-for-ds/blob/main/13_%EB%A7%88%ED%81%AC%EB%8B%A4%EC%9A%B4.ipynb\" target=\"_parent\"><img src=\"https://colab.research.google.com/assets/colab-badge.svg\" alt=\"Open In Colab\"/></a>"
      ]
    },
    {
      "cell_type": "markdown",
      "metadata": {
        "id": "e9-FkB_DQ0qQ"
      },
      "source": [
        "# **Markdown을 활용한 데이터 분석 문서 작성법**\n",
        "  \n",
        "작성자: 이수동 (울산대학교 산업경영공학부 | sudonglee@ulsan.ac.kr)\n"
      ]
    },
    {
      "cell_type": "markdown",
      "metadata": {
        "id": "L4kwnwUBEXt_"
      },
      "source": [
        "## __1. 마크다운(Markdown) 소개__"
      ]
    },
    {
      "cell_type": "markdown",
      "metadata": {
        "id": "Wt-0AwrNGsVz"
      },
      "source": [
        "### __마크다운이 뭔가요?__\n",
        "- 문서 작성 방식의 하나입니다.\n",
        "- 여러분이 지금 읽고 계신 이 문서가 마크다운으로 작성되었습니다.\n",
        "- 마크다운 문서는 쓰기 쉽고, 읽기 쉽고, 여러 곳에 활용하기 좋습니다."
      ]
    },
    {
      "cell_type": "markdown",
      "metadata": {
        "id": "RVVE59hoGj0k"
      },
      "source": [
        "### __마크다운을 조금 어렵게 소개하자면?__\n",
        "> **마크다운(Markdown)** (출처 | [위키백과](https://ko.wikipedia.org/wiki/%EB%A7%88%ED%81%AC%EB%8B%A4%EC%9A%B4))<br/>\n",
        "마크다운(markdown)은 `일반 텍스트` 기반의 경량 `마크업 언어`다. <br/>\n",
        "일반 텍스트로 서식이 있는 문서를 작성하는 데 사용되면, <br/>\n",
        "일반 마크업 언어에 비해 문법이 쉽고 간단한 것이 특징이다.\n",
        ">> __일반 텍스트(plain text)__<br/>\n",
        "플레인 텍스트(plain text)는 그래픽 표현이나 그 밖의 오브젝트(그림 등)이 아닌, 읽을 수 있는 자료의 문자열만을 대표하는 언어이다. <br/>\n",
        "![uou](https://user-images.githubusercontent.com/27403189/99190873-85591c80-27ac-11eb-9634-780b0664fa52.png)\n",
        "\n",
        ">> __마크업 언어(markup language)__<br/>\n",
        "마크업 언어(markup language)는 태그 등을 이용하여 문서나 데이터의 구조를 명기하는 언어의 한가지이다."
      ]
    },
    {
      "cell_type": "markdown",
      "metadata": {
        "id": "1aCTGWZMF1d2"
      },
      "source": [
        "### __마크다운, 왜 배워야 하나요?__\n",
        "포트폴리오 작성에서 가장 중요한 두가지: \n",
        "1. 수행한 결과물을 **읽기 쉽게** 표현할 수 있어야 합니다. \n",
        "  - 마크다운은 간단한 문법(syntax)으로 가독성 좋은 서식을 지원합니다.\n",
        "  - 마크다운을 통해 프로그래밍 코드가 포함된 문서를 손쉽게 작성할 수 있습니다.\n",
        "2. 다른 사람에게 **쉽게 공유**할 수 있어야 합니다. \n",
        "  - 최근 대부분의 콘텐츠(문서, 사진, 영상 등)는 웹(Web)에서 소비됩니다.\n",
        "  - 마크다운 문서는 손쉽게 웹페이지 작성용 언어인 HTML으로 변환됩니다.\n",
        "  - 마크다운은 다양한 플랫폼(Python의 Jupyter Notebook, R의 R Markdown 등)에서 손쉽게 호환됩니다.\n"
      ]
    },
    {
      "cell_type": "markdown",
      "metadata": {
        "id": "QxIkecm_Rsps"
      },
      "source": [
        "### **Colab에서 Markdown 활용하기**\n",
        "- Colab은 Markdown을 _아주 잘_ 지원합니다. \n",
        "- 일반적인 Markdown의 syntax 대부분과 함께 _미리보기 기능_ 을 지원하여 편집이 용이합니다. \n",
        "- Markdown 작성을 위해 `+ 텍스트` 버튼을 클릭하거나, 단축키 `ctrl+M+B`로 코드 셀을 추가한 후 `ctrl+M+M`으로 생성된 코드 셀을 텍스트 셀로 변환할 수 있습니다."
      ]
    },
    {
      "cell_type": "markdown",
      "metadata": {
        "id": "06jLmYY1Nu3w"
      },
      "source": [
        "## __2. 마크다운 문법(Markdown Syntax)__"
      ]
    },
    {
      "cell_type": "markdown",
      "metadata": {
        "id": "N22gWlOdOaig"
      },
      "source": [
        "### __제목(Header) 작성하기__\n",
        "- 단락의 제목을 작성합니다.\n",
        "```\n",
        "# 제목 수준 1\n",
        "## 제목 수준 2\n",
        "### 제목 수준 3\n",
        "#### 제목 수준 4\n",
        "##### 제목 수준 5\n",
        "###### 제목 수준 6\n",
        "```\n",
        "# 제목 수준 1\n",
        "## 제목 수준 2\n",
        "### 제목 수준 3\n",
        "#### 제목 수준 4\n",
        "##### 제목 수준 5\n",
        "###### 제목 수준 6\n",
        "\n",
        "<br/>\n",
        "\n",
        "__Exercise #1__\n",
        "# 연습문제\n",
        "## 연습문제 1\n",
        "### 연습문제 1-1\n",
        "### 연습문제 1-2\n",
        "## 연습문제 2"
      ]
    },
    {
      "cell_type": "markdown",
      "source": [
        ""
      ],
      "metadata": {
        "id": "vcX3orckOcKG"
      }
    },
    {
      "cell_type": "markdown",
      "metadata": {
        "id": "_GaAhmbpXK9E"
      },
      "source": [
        "### __목록(List) 만들기__\n",
        "```\n",
        "-, *, + 로 글머리기호 입력\n",
        "들여쓰기로 수준 구분\n",
        "\n",
        "- 목록 1\n",
        " - 목록 2\n",
        "  - 목록 3\n",
        "   ...\n",
        "```\n",
        "- 목록 1\n",
        " - 목록 2\n",
        "   - 목록 3\n",
        "\n",
        "``` \n",
        "숫자 목록은 1., 2., 3., ...을 입력합니다.\n",
        "1. 목록 1\n",
        "2. 목록 2\n",
        "```"
      ]
    },
    {
      "cell_type": "markdown",
      "metadata": {
        "id": "uqdMrYqVmBz9"
      },
      "source": [
        "__Exercise #2__\n",
        "- 순서가 없는 글머리 기호\n",
        "  - -\n",
        "  - *\n",
        "  - +\n",
        "- 순서가 있는 글머리 기호\n",
        "  1. 1번\n",
        "  2. 2번\n",
        "  3. 3번\n"
      ]
    },
    {
      "cell_type": "markdown",
      "metadata": {
        "id": "RTu9TWwkT4Cb"
      },
      "source": [
        ""
      ]
    },
    {
      "cell_type": "markdown",
      "metadata": {
        "id": "DFTdKtplViDU"
      },
      "source": [
        "### __구분선 넣기__\n",
        "```\n",
        "* 또는 -를 3개 이상 입력합니다.\n",
        "***\n",
        "******\n",
        "------ \n",
        "* * * \n",
        "-  -  -  -\n",
        "```\n",
        "텍스트\n",
        "***\n",
        "텍스트\n",
        "******\n",
        "텍스트\n",
        "\n",
        "------\n",
        "텍스트\n",
        "* * *\n",
        "텍스트\n",
        "-  -  -  -"
      ]
    },
    {
      "cell_type": "markdown",
      "metadata": {
        "id": "V4m7TLXVmXmq"
      },
      "source": [
        "__Excercise #3__\n",
        "\n",
        "설명은 여기까지\n",
        "***\n",
        "새로운 문단을 시작합니다.\n"
      ]
    },
    {
      "cell_type": "markdown",
      "metadata": {
        "id": "fWcxN7IET6CT"
      },
      "source": [
        ""
      ]
    },
    {
      "cell_type": "markdown",
      "metadata": {
        "id": "xA27htatVKhn"
      },
      "source": [
        "### __글자 꾸미기__\n",
        "볼드, 이탤릭체, 취소선, 밑줄 등으로 글자를 꾸밀 수 있습니다.\n",
        "\n",
        "```\n",
        "**볼드(진하게)** (또는 __볼드(진하게)__)\n",
        "*이탤릭체(기울이기)* (또는 _이탤릭체(기울이기)_)\n",
        "~~취소선~~\n",
        "<u>밑줄</u>\n",
        "```\n",
        "**볼드(진하게)** (또는 __볼드(진하게)__) <br/>\n",
        "*이탤릭체(기울이기)* (또는 _이탤릭체(기울이기)_) <br/>\n",
        "~~취소선~~ <br/>\n",
        "<u>밑줄</u>\n"
      ]
    },
    {
      "cell_type": "markdown",
      "metadata": {
        "id": "nnsVnDXRmyKF"
      },
      "source": [
        "__Excercise #4__\n",
        "- __강조할 단어__는 볼드체로\n",
        "- *고유명사*는 이탤릭체로\n",
        "- __*볼드와 이탤릭체를 동시에..*__ 어떻게 할까요?\n",
        "- ~~취소선~~과 <u>밑줄</u>은 필요에 따라"
      ]
    },
    {
      "cell_type": "markdown",
      "metadata": {
        "id": "IbDRNf3bT7Xn"
      },
      "source": [
        ""
      ]
    },
    {
      "cell_type": "markdown",
      "metadata": {
        "id": "8bEPUwBxT3Rn"
      },
      "source": [
        "### __인용구 넣기__\n",
        "인용문을 삽입할 수 있습니다. \n",
        "```\n",
        "> 인용문 \n",
        ">> 인용문 안의 인용문\n",
        "```\n",
        "> 인용문 \n",
        ">> 인용문 안의 인용문"
      ]
    },
    {
      "cell_type": "markdown",
      "metadata": {
        "id": "GeAzgogoo2mf"
      },
      "source": [
        "__Excercise #5__\n",
        "\n",
        "찰스 다윈은 이렇게 말했습니다. \n",
        "\n",
        "> \"가장 센 종이 살아남는 것이 아니다. <br> 가장 똑똑한 종이 살아남는 것도 아니다. <br> 변화에 가장 잘 적응하는 종이 살아 남는다.\" <br> - Charles Darwin\n",
        ">> \"DT는 기업의 비지니스와 ICT가 하나로 결합되는 과정이다.\" <br> - 이수동\n",
        "\n"
      ]
    },
    {
      "cell_type": "markdown",
      "metadata": {
        "id": "MIydamu2T8FU"
      },
      "source": [
        ""
      ]
    },
    {
      "cell_type": "markdown",
      "metadata": {
        "id": "vSEmxuuTO-Qp"
      },
      "source": [
        "### __코드 삽입__\n",
        "~~~\n",
        "- 단어(word) 단위 입력\n",
        "  `word`\n",
        "- 블록(block) 단위 입력\n",
        "  ``` (또는 ~~~)\n",
        "  word 1\n",
        "  word 2\n",
        "  ``` (또는 ~~~)\n",
        "~~~\n",
        "\n",
        "- 단어(word) 단위 입력 <br>\n",
        "  `word`를 통해 라이브러리를 불러올 수 있습니다.\n",
        "- 블록(block) 단위 입력 <br>\n",
        "  ```\n",
        "  word 1\n",
        "  word 2\n",
        "  ```"
      ]
    },
    {
      "cell_type": "markdown",
      "metadata": {
        "id": "mNXYSYjzpRDS"
      },
      "source": [
        "__Excercise #6__\n",
        "- 단어(word) 단위 입력 <br>\n",
        "  `import`를 통해 라이브러리를 불러올 수 있습니다.\n",
        "- 블록(block) 단위 입력 <br>\n",
        "  ```\n",
        "  import pandas as pd\n",
        "  data = pd.read_csv(file_path)\n",
        "  ```"
      ]
    },
    {
      "cell_type": "markdown",
      "metadata": {
        "id": "VM30KTLuT9Ws"
      },
      "source": [
        ""
      ]
    },
    {
      "cell_type": "markdown",
      "metadata": {
        "id": "u1xV0eMiPJJf"
      },
      "source": [
        "### __링크 삽입__\n",
        "~~~\n",
        "1. URL로 바로 링크:\n",
        "  <https://xxx.xx.xx>\n",
        "\n",
        "2. 링크 텍스트로 링크\n",
        "  - 타이틀 속성이 없는 링크: [링크 텍스트](https://xxx.xx.xx)\n",
        "  - 타이틀 속성이 있는 링크: [링크 텍스트](https://xxx.xx.xx \"마우스 커서 올렸을 때 뜨는 단어\")\n",
        "\n",
        "3. 참조(Reference) 스타일 링크\n",
        "안내드리는 3개의 링크는 [링크1][1], [링크2][2], [링크3][3]입니다.\n",
        "\n",
        "[1]: https://xxx.xx.xx/\n",
        "[2]: https://xxx.xx.xx/\n",
        "[3]: https://xxx.xx.xx/\n",
        "~~~"
      ]
    },
    {
      "cell_type": "markdown",
      "metadata": {
        "id": "4CRDP_XFpycz"
      },
      "source": [
        "__Excercise #7__\n",
        "\n",
        "1. URL로 바로 링크: <br>\n",
        "<https://www.ulsan.ac.kr/>\n",
        "\n",
        "2. 링크 텍스트로 링크\n",
        "  - 타이틀 속성이 없는 링크: <br>\n",
        "  [울산대학교](https://www.ulsan.ac.kr/) ← 마우스 커서를 올려보세요.\n",
        "  - 타이틀 속성이 있는 링크:  <br>\n",
        "  [울산대학교](https://www.ulsan.ac.kr/ \"UOU\") ← 마우스 커서를 올려보세요.\n",
        "\n",
        "3. 참조(Reference) 스타일 링크 <br>\n",
        "대표적인 포털 사이트로는 [구글][1], [네이버][2], [다음][3] 등이 있다. \n",
        "\n",
        "[1]: https://www.google.com/\n",
        "[2]: https://www.naver.com/\n",
        "[3]: https://www.daum.net/"
      ]
    },
    {
      "cell_type": "markdown",
      "metadata": {
        "id": "pPCRFkWyQ0qb"
      },
      "source": [
        ""
      ]
    },
    {
      "cell_type": "markdown",
      "metadata": {
        "id": "pBM_eMd0VkM3"
      },
      "source": [
        "### __표 삽입__\n",
        "~~~\n",
        "|열1|열2|열3|\n",
        "|:-|-:|:-:|    |:-| 좌로 정렬, |-:| 우로 정렬\n",
        "|행1|행2|행3|\n",
        "~~~   \n",
        "|열1|열2|열3|\n",
        "|:-|-:|:-:|\n",
        "|행1|행2|행3|"
      ]
    },
    {
      "cell_type": "markdown",
      "metadata": {
        "id": "12UUTh0KrU47"
      },
      "source": [
        "__Excercise #8__\n",
        "\n",
        "|열1|열2|열3|\n",
        "|:-|-:|:-:|\n",
        "|안녕|안녕|안녕|\n",
        "|안녕하세요|안녕하세요|안녕하세요|\n"
      ]
    },
    {
      "cell_type": "markdown",
      "metadata": {
        "id": "Q7MQxetyQ0qb"
      },
      "source": [
        ""
      ]
    },
    {
      "cell_type": "markdown",
      "metadata": {
        "id": "1UbfPNqYWmVx"
      },
      "source": [
        "### __이미지 삽입__\n",
        "URL을 통해 Web 상의 이미지를 삽입할 수 있습니다. <br/>\n",
        "```\n",
        "![이미지](이미지 주소)\n",
        "```"
      ]
    },
    {
      "cell_type": "markdown",
      "metadata": {
        "id": "W2UskeghsBMT"
      },
      "source": [
        "__Excercise #9__\n",
        "이미지 주소: <br> https://images.chosun.com/resizer/U9DdH4kGoikEVFt0suO_VygPlQU=/464x0/smart/cloudfront-ap-northeast-1.images.arcpublishing.com/chosun/TQ5XELGG5GENHSQHZH24ZVWR5M.jpg\n",
        "\n",
        "![아이유](https://images.chosun.com/resizer/U9DdH4kGoikEVFt0suO_VygPlQU=/464x0/smart/cloudfront-ap-northeast-1.images.arcpublishing.com/chosun/TQ5XELGG5GENHSQHZH24ZVWR5M.jpg)"
      ]
    },
    {
      "cell_type": "markdown",
      "metadata": {
        "id": "zji6zm-uQ0qb"
      },
      "source": [
        "또는 이미지 파일의 경로를 입력하여 출력할 수도 있습니다. <br/>\n",
        "```\n",
        "![이미지](이미지 파일 경로)\n",
        "```"
      ]
    }
  ]
}