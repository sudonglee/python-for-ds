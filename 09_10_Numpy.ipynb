{
  "cells": [
    {
      "cell_type": "markdown",
      "metadata": {
        "id": "view-in-github",
        "colab_type": "text"
      },
      "source": [
        "<a href=\"https://colab.research.google.com/github/sudonglee/python-for-ds/blob/main/09_10_Numpy.ipynb\" target=\"_parent\"><img src=\"https://colab.research.google.com/assets/colab-badge.svg\" alt=\"Open In Colab\"/></a>"
      ]
    },
    {
      "cell_type": "markdown",
      "metadata": {
        "id": "21RtDkSbPXlf"
      },
      "source": [
        "# **Numpy**\n",
        "- 작성자: 이수동 (울산대학교 산업경영공학부 | sudonglee@ulsan.ac.kr)\n",
        "- 참고자료: 권철민, 『파이썬 머신러닝 완벽 가이드』, 위키북스(2020)."
      ]
    },
    {
      "cell_type": "markdown",
      "source": [
        "# **Introduction**"
      ],
      "metadata": {
        "id": "H2SBi-6ZDXbV"
      }
    },
    {
      "cell_type": "markdown",
      "metadata": {
        "id": "sh7RIAhoPXli"
      },
      "source": [
        "- 데이터 분석을 위해서는 대용량 배열을 기반으로 한 다양한 종류의 수리 연산이 필요합니다. \n",
        "- 특히, 선형대수(linear algebra) 기반의 행렬 연산을 자주 수행하게 됩니다.\n",
        "- *Numerical Python*을 의미하는 **Numpy**는 대용량의 배열과 행렬 연산을 빠르게 수행하며, 고차원적인 수학 연산자와 함수를 포함하고 있는 Python 라이브러리입니다."
      ]
    },
    {
      "cell_type": "markdown",
      "metadata": {
        "id": "yLz9A_crPXli"
      },
      "source": [
        "## **Numpy `ndarray` 개요**\n",
        "- `ndarray`는 Numpy가 지원하는 대표 데이터 타입입니다. \n",
        "- `ndarray`는 고차원의 배열 데이터(행렬) 기반 작업을 효과적으로 수행할 수 있도록 다양한 기능을 지원합니다. "
      ]
    },
    {
      "cell_type": "markdown",
      "metadata": {
        "id": "Ge6OTh0LPXlj"
      },
      "source": [
        "가장 먼저 `numpy`를 `import` 해보겠습니다."
      ]
    },
    {
      "cell_type": "code",
      "execution_count": null,
      "metadata": {
        "id": "0zfzg4KOPXlj"
      },
      "outputs": [],
      "source": [
        "import numpy as np"
      ]
    },
    {
      "cell_type": "markdown",
      "metadata": {
        "id": "IZ9dzzEyPXlk"
      },
      "source": [
        "`numpy`의 기본 데이터 타입은 `ndarray`입니다. `ndarray`를 이용해 다차원 배열을 쉽게 생성하고 연산을 수행할 수 있습니다."
      ]
    },
    {
      "cell_type": "code",
      "execution_count": null,
      "metadata": {
        "id": "RS5FhO3jPXlk"
      },
      "outputs": [],
      "source": [
        "ls = [2, 3, 4]\n",
        "print(type(ls))"
      ]
    },
    {
      "cell_type": "markdown",
      "metadata": {
        "id": "ZiBpmA0BPXln"
      },
      "source": [
        "## **`ndarray`의 데이터 타입**"
      ]
    },
    {
      "cell_type": "markdown",
      "metadata": {
        "id": "rUIgDRwsPXln"
      },
      "source": [
        "- `ndarray` 내의 값은 숫자, 문자열, 불리언 등 모두 가능합니다. \n",
        "- 하지만 연산을 위해 하나의 `ndarray` 내에는 하나의 데이터 타입만 존재할 수 있습니다.\n",
        "- `ndarray` 안에 서로 다른 데이터 타입이 존재하는 경우, 모든 값은 크기가 더 큰 타입으로 자동 변환됩니다."
      ]
    },
    {
      "cell_type": "code",
      "execution_count": null,
      "metadata": {
        "id": "LwtMI2UWPXln"
      },
      "outputs": [],
      "source": [
        "list1 = [1,2,3]\n",
        "print(type(list1))\n",
        "array1 = np.array(list1)\n",
        "print(type(array1))\n",
        "print(array1, array1.dtype)"
      ]
    },
    {
      "cell_type": "code",
      "execution_count": null,
      "metadata": {
        "id": "1IHDuuwzPXlo"
      },
      "outputs": [],
      "source": [
        "list2 = [1, 2, 'test']\n",
        "array2 = np.array(list2)\n",
        "print(array2, array2.dtype)\n",
        "\n",
        "list3 = [1, 2, 3.0]\n",
        "array3 = np.array(list3)\n",
        "print(array3, array3.dtype)"
      ]
    },
    {
      "cell_type": "code",
      "execution_count": null,
      "metadata": {
        "id": "wuzNt-rUPXlo"
      },
      "outputs": [],
      "source": [
        "array_int = np.array([1, 2, 3])\n",
        "array_float = array_int.astype('float64')\n",
        "print(array_float, array_float.dtype)\n",
        "\n",
        "array_int1= array_float.astype('int32')\n",
        "print(array_int1, array_int1.dtype)\n",
        "\n",
        "array_float1 = np.array([1.1, 2.1, 3.1])\n",
        "array_int2= array_float1.astype('int32')\n",
        "print(array_int2, array_int2.dtype)\n"
      ]
    },
    {
      "cell_type": "markdown",
      "metadata": {
        "id": "HfbR52IlPXlq"
      },
      "source": [
        "## **`ndarray`의 차원 이해하기**\n",
        "- `npdarray`은 주로 *다차원 배열*을 효과적으로 다루기 위해 사용합니다.\n",
        "- *다차원 배열*의 특징을 이해하기 위해서 먼저 `ndarray`의 **차원**이 무엇인지 살펴봅시다. "
      ]
    },
    {
      "cell_type": "markdown",
      "source": [
        "### `ndarray.shape()`: `ndarray`의 형태\n",
        "`ndarray`의 `shape()` 메서드는 `ndarray`의 *형태*를 출력합니다. \n"
      ],
      "metadata": {
        "id": "3DyX5CF5LT_0"
      }
    },
    {
      "cell_type": "code",
      "execution_count": null,
      "metadata": {
        "id": "9FnX3IEBPXll"
      },
      "outputs": [],
      "source": [
        "array1 = np.array([1,2,3])\n",
        "print('array1: \\n', array1)\n",
        "print('array1 array 형태:', array1.shape)\n",
        "\n",
        "array2 = np.array([[1,2,3],\n",
        "                  [2,3,4]])\n",
        "print('array2: \\n', array2)\n",
        "print('array2 array 형태:', array2.shape)\n",
        "\n",
        "array3 = np.array([[1,2,3]])\n",
        "print('array3: \\n', array3)\n",
        "print('array3 array 형태:', array3.shape)"
      ]
    },
    {
      "cell_type": "code",
      "source": [
        "array4 = np.array([[[1, 2, 3], [4, 5, 6]], [[7, 8, 9], [10, 11, 12]]])\n",
        "print('array4: \\n', array4)\n",
        "print('array4 array 형태:', array4.shape)"
      ],
      "metadata": {
        "id": "PkKWVMIPMBVK"
      },
      "execution_count": null,
      "outputs": []
    },
    {
      "cell_type": "markdown",
      "source": [
        "### `ndarray.ndim()`: `ndarray`의 차원의 수"
      ],
      "metadata": {
        "id": "clh7p8Q2KKdD"
      }
    },
    {
      "cell_type": "code",
      "execution_count": null,
      "metadata": {
        "id": "M2K-0T-2PXlm"
      },
      "outputs": [],
      "source": [
        "print(f'array1: {array1.ndim}차원, array2: {array2.ndim}차원, array3: {array3.ndim}차원, array4: {array4.ndim}차원')"
      ]
    },
    {
      "cell_type": "markdown",
      "metadata": {
        "id": "I9BspxUJPXlq"
      },
      "source": [
        "### `ndarray.reshape()`: 차원 변환\n",
        "`reshape()` 메서드는 `ndarray`를 특정 차원 및 크기로 변환합니다. "
      ]
    },
    {
      "cell_type": "code",
      "execution_count": null,
      "metadata": {
        "id": "8DhKbJHOPXlq"
      },
      "outputs": [],
      "source": [
        "array1 = np.array([1, 2, 3, 4, 5, 6, 7, 8, 9, 10])\n",
        "print('array1:\\n', array1)\n",
        "\n",
        "array2 = array1.reshape(2,5)\n",
        "print('array2:\\n',array2)\n",
        "\n",
        "array3 = array1.reshape(5,2)\n",
        "print('array3:\\n',array3)"
      ]
    },
    {
      "cell_type": "markdown",
      "metadata": {
        "id": "Q6RI2BrXPXlr"
      },
      "source": [
        "`reshape()`은 지정된 사이즈로 변경이 불가능하면 오류를 발생합니다."
      ]
    },
    {
      "cell_type": "code",
      "execution_count": null,
      "metadata": {
        "id": "VIK5lGWFPXlr"
      },
      "outputs": [],
      "source": [
        "array1.reshape(4,3)"
      ]
    },
    {
      "cell_type": "markdown",
      "metadata": {
        "id": "AtTwrXLSPXlr"
      },
      "source": [
        "- 인자를 `-1`로 사용하면 편리합니다.\n",
        "- `-1` 인자는 나머지 사이즈 인자로 변환이 가능하도록 자동으로 값을 할당하라는 의미입니다."
      ]
    },
    {
      "cell_type": "code",
      "execution_count": null,
      "metadata": {
        "id": "ROKlQsAmPXls"
      },
      "outputs": [],
      "source": [
        "array1 = np.arange(10)\n",
        "print(array1)\n",
        "print('array1 shape:',array1.shape)\n",
        "\n",
        "array2 = array1.reshape(-1,5)\n",
        "print('array2 shape:',array2.shape)\n",
        "\n",
        "array3 = array1.reshape(5,-1)\n",
        "print('array3 shape:',array3.shape)"
      ]
    },
    {
      "cell_type": "code",
      "source": [
        "array1 = np.arange(10)\n",
        "array1.reshape(7,-1)"
      ],
      "metadata": {
        "id": "hbJ-5dv4Z9E_"
      },
      "execution_count": null,
      "outputs": []
    },
    {
      "cell_type": "code",
      "execution_count": null,
      "metadata": {
        "id": "7ApN_nciPXls"
      },
      "outputs": [],
      "source": [
        "array1 = np.array([1, 2, 3, 4, 5, 6, 7, 8])\n",
        "print('array1:\\n',array1)\n",
        "\n",
        "array3d = array1.reshape((2,2,2))\n",
        "print('array3d:\\n',array3d)\n",
        "\n",
        "# 3차원 ndarray를 2차원 ndarray로 변환\n",
        "array5 = array3d.reshape(-1,1)\n",
        "print('array5:\\n',array5)\n",
        "print('array5 shape:',array5.shape)\n",
        "\n",
        "# 1차원 ndarray를 2차원 ndarray로 변환\n",
        "array6 = array1.reshape(-1,1)\n",
        "print('array6:\\n',array6)\n",
        "print('array6 shape:',array6.shape)"
      ]
    },
    {
      "cell_type": "markdown",
      "metadata": {
        "id": "k8at9LA7PXlo"
      },
      "source": [
        "## **`ndarray` 편리하게 생성하기 - `arange`, `zeros`, `ones`**"
      ]
    },
    {
      "cell_type": "markdown",
      "metadata": {
        "id": "SWyefzd5PXlp"
      },
      "source": [
        "- 초기화, 인덱싱 등의 목적으로 특정 크기와 차원을 가진 연속값, `0` 또는 `1`로 채워진 배열을 생성할 일이 자주 있습니다. \n",
        "- 이때 `numpy`가 제공하는 함수를 이용하면 편리합니다."
      ]
    },
    {
      "cell_type": "markdown",
      "source": [
        "### `np.arange()`: 연속된 정수 값의 `ndarray` 생성"
      ],
      "metadata": {
        "id": "gXPb-_GGJUXC"
      }
    },
    {
      "cell_type": "code",
      "execution_count": null,
      "metadata": {
        "id": "J13kwnGTPXlp"
      },
      "outputs": [],
      "source": [
        "sequence_array = np.arange(10) # np.arange(end)\n",
        "print(sequence_array)\n",
        "print(sequence_array.dtype, sequence_array.shape)"
      ]
    },
    {
      "cell_type": "code",
      "execution_count": null,
      "metadata": {
        "id": "q-FUoOWiPXlp"
      },
      "outputs": [],
      "source": [
        "print(np.arange(2, 4)) # np.arange(start, end)"
      ]
    },
    {
      "cell_type": "markdown",
      "source": [
        "### `np.zeros()`: `0`이 채워진 `ndarray` 생성"
      ],
      "metadata": {
        "id": "aybjuoAsJfPM"
      }
    },
    {
      "cell_type": "code",
      "execution_count": null,
      "metadata": {
        "id": "sg8qicliPXlp"
      },
      "outputs": [],
      "source": [
        "zero_array1 = np.zeros(1)\n",
        "print(zero_array1)\n",
        "print(zero_array1.dtype, zero_array1.shape)\n",
        "\n",
        "zero_array2 = np.zeros((3,2),dtype='int32')\n",
        "print(zero_array2)\n",
        "print(zero_array2.dtype, zero_array2.shape)"
      ]
    },
    {
      "cell_type": "markdown",
      "source": [
        "### `np.ones()`: `1`이 채워진 `ndarray` 생성"
      ],
      "metadata": {
        "id": "UTW3rIiTJoWT"
      }
    },
    {
      "cell_type": "code",
      "source": [
        "one_array = np.ones((3,2))\n",
        "print(one_array)\n",
        "print(one_array.dtype, one_array.shape)"
      ],
      "metadata": {
        "id": "qpF3P_rXJtep"
      },
      "execution_count": null,
      "outputs": []
    },
    {
      "cell_type": "code",
      "source": [
        "print(np.ones(10))\n",
        "print(np.ones((10, 1)))"
      ],
      "metadata": {
        "id": "kwyknpr8bHkZ"
      },
      "execution_count": null,
      "outputs": []
    },
    {
      "cell_type": "markdown",
      "metadata": {
        "id": "bJ6SHvqUPXls"
      },
      "source": [
        "## **`ndarray` 데이터 선택하기 - 인덱싱(Indexing)**"
      ]
    },
    {
      "cell_type": "markdown",
      "metadata": {
        "id": "3SBhYUNePXlt"
      },
      "source": [
        "`ndarray` 내의 특정 데이터만을 선택할 수 있는 인덱싱(indexing)에 대해 알아보겠습니다. \n",
        "1. 특정 데이터만 추출: 원하는 위치의 인덱스 값을 지정하면 해당 위치의 데이터가 반환됩니다.\n",
        "2. 슬라이싱(Slicing): 연속된 순서의 데이터를 반환합니다. (i.e., m번째부터 n번째까지)\n",
        "3. 팬시 인덱싱(Fancy Indexing): 인덱싱 집합을 `list` 또는 `ndarray` 형태로 지정해 해당 위치에 있는 데이터의 `ndarray`를 반환합니다. \n",
        "4. 불리언 인덱싱(Boolean Indexing): True/False 값 인덱싱 집합을 기반으로 데이터를 반환합니다."
      ]
    },
    {
      "cell_type": "markdown",
      "metadata": {
        "id": "_PnEGv7KPXlt"
      },
      "source": [
        "### 단일값 추출\n",
        "가장 유의해야 할 점은 인덱스의 시작 값이 `0`이라는 것입니다."
      ]
    },
    {
      "cell_type": "code",
      "execution_count": null,
      "metadata": {
        "id": "uxZcMgh_PXlt"
      },
      "outputs": [],
      "source": [
        "# 1에서 부터 9 까지의 1차원 ndarray 생성 \n",
        "array1 = np.arange(start=1, stop=10)\n",
        "print('array1:',array1)\n",
        "# index는 0 부터 시작하므로 array1[2]는 3번째 index 위치의 데이터 값을 의미\n",
        "value = array1[2]\n",
        "print('value:',value)\n",
        "print(type(value))"
      ]
    },
    {
      "cell_type": "code",
      "execution_count": null,
      "metadata": {
        "id": "sbWsFuQaPXlt"
      },
      "outputs": [],
      "source": [
        "print(array1[0])"
      ]
    },
    {
      "cell_type": "code",
      "execution_count": null,
      "metadata": {
        "id": "2KG7TFyGPXlt"
      },
      "outputs": [],
      "source": [
        "print('맨 뒤의 값:',array1[-1], ', 맨 뒤에서 두번째 값:',array1[-2])"
      ]
    },
    {
      "cell_type": "code",
      "source": [
        "ls = [1, 2, 3]\n",
        "tp = (1, 2, 3)\n",
        "print(ls, tp)"
      ],
      "metadata": {
        "id": "qrC9E8VIwXQn"
      },
      "execution_count": null,
      "outputs": []
    },
    {
      "cell_type": "code",
      "source": [
        "ls[0] = 5\n",
        "print(ls)"
      ],
      "metadata": {
        "id": "KAFPaU2Rwakd"
      },
      "execution_count": null,
      "outputs": []
    },
    {
      "cell_type": "code",
      "source": [
        "tp[0] = 5\n",
        "print(tp)"
      ],
      "metadata": {
        "id": "i4yeu0vmwc4s"
      },
      "execution_count": null,
      "outputs": []
    },
    {
      "cell_type": "code",
      "execution_count": null,
      "metadata": {
        "id": "_gyOY7PLPXlt"
      },
      "outputs": [],
      "source": [
        "array1[0] = 9\n",
        "array1[8] = 0\n",
        "print('array1:',array1)"
      ]
    },
    {
      "cell_type": "code",
      "execution_count": null,
      "metadata": {
        "id": "2UFXWeD7PXlu"
      },
      "outputs": [],
      "source": [
        "array1d = np.arange(start=1, stop=10)\n",
        "array2d = array1d.reshape(3,3)\n",
        "print(array2d)\n",
        "\n",
        "print('(row=0,col=0) index 가리키는 값:', array2d[0,0] )\n",
        "print('(row=0,col=1) index 가리키는 값:', array2d[0,1] )\n",
        "print('(row=1,col=0) index 가리키는 값:', array2d[1,0] )\n",
        "print('(row=2,col=2) index 가리키는 값:', array2d[2,2] )"
      ]
    },
    {
      "cell_type": "code",
      "source": [
        "print(array2d[0][2])\n",
        "print(array2d[0, 2])"
      ],
      "metadata": {
        "id": "3Z_cUvyaw_8V"
      },
      "execution_count": null,
      "outputs": []
    },
    {
      "cell_type": "markdown",
      "metadata": {
        "id": "tJwVkxuwPXlu"
      },
      "source": [
        "### Slicing"
      ]
    },
    {
      "cell_type": "code",
      "execution_count": null,
      "metadata": {
        "id": "pM4mFGz3PXlu"
      },
      "outputs": [],
      "source": [
        "array1 = np.arange(1, 10)\n",
        "print('array1:\\n', array1)\n",
        "array3 = array1[0:3]\n",
        "print('array3:\\n', array3)\n",
        "print(type(array3))"
      ]
    },
    {
      "cell_type": "code",
      "execution_count": null,
      "metadata": {
        "id": "wpfEm70-PXlu"
      },
      "outputs": [],
      "source": [
        "array1 = np.arange(start=1, stop=10)\n",
        "array4 = array1[:3]\n",
        "print(array4)\n",
        "\n",
        "array5 = array1[3:]\n",
        "print(array5)\n",
        "\n",
        "array6 = array1[:]\n",
        "print(array6)"
      ]
    },
    {
      "cell_type": "code",
      "execution_count": null,
      "metadata": {
        "id": "cxnRXN_GPXlu"
      },
      "outputs": [],
      "source": [
        "array1d = np.arange(start=1, stop=10)\n",
        "array2d = array1d.reshape(3,3)\n",
        "print('array2d:\\n',array2d)"
      ]
    },
    {
      "cell_type": "code",
      "execution_count": null,
      "metadata": {
        "id": "D6jbV3GWPXlu"
      },
      "outputs": [],
      "source": [
        "print('array2d[0:2, 0:2] \\n', array2d[0:2, 0:2])\n",
        "print('array2d[1:3, 0:3] \\n', array2d[1:3, 0:3])\n",
        "print('array2d[1:3, :] \\n', array2d[1:3, :])\n",
        "print('array2d[:, :] \\n', array2d[:, :])\n",
        "print('array2d[:2, 1:] \\n', array2d[:2, 1:])\n",
        "print('array2d[:2, 0] \\n', array2d[:2, 0])"
      ]
    },
    {
      "cell_type": "code",
      "execution_count": null,
      "metadata": {
        "id": "Nf2aCF6vPXlv"
      },
      "outputs": [],
      "source": [
        "print(array2d[0])\n",
        "print(array2d[1])\n",
        "print('array2d[0] shape:', array2d[0].shape, 'array2d[1] shape:', array2d[1].shape )"
      ]
    },
    {
      "cell_type": "markdown",
      "metadata": {
        "id": "3V_wFN8KPXlv"
      },
      "source": [
        "### **Fancy indexing**"
      ]
    },
    {
      "cell_type": "code",
      "execution_count": null,
      "metadata": {
        "id": "RzHP1r4lPXlv"
      },
      "outputs": [],
      "source": [
        "array1d = np.arange(start=1, stop=10)\n",
        "array2d = array1d.reshape(3,3)\n",
        "print('array2d:\\n', array2d)\n",
        "\n",
        "array3 = array2d[[0,1], 2]\n",
        "print('array2d[[0,1], 2]:\\n', array3)\n",
        "\n",
        "array4 = array2d[[0,1], 0:2]\n",
        "print('array2d[[0,1], 0:2]:\\n', array4)\n",
        "\n",
        "array5 = array2d[[0,1]]\n",
        "print('array2d[[0,1]]:\\n', array5)"
      ]
    },
    {
      "cell_type": "code",
      "source": [
        "print(array2d[0, 1])"
      ],
      "metadata": {
        "id": "US32baqby2zy"
      },
      "execution_count": null,
      "outputs": []
    },
    {
      "cell_type": "markdown",
      "metadata": {
        "id": "8_hh-07aPXlv"
      },
      "source": [
        "### Boolean indexing"
      ]
    },
    {
      "cell_type": "code",
      "execution_count": null,
      "metadata": {
        "id": "gxzzgwlpPXlv"
      },
      "outputs": [],
      "source": [
        "array1d = np.arange(start=1, stop=10)\n",
        "# [ ] 안에 array1d > 5 Boolean indexing을 적용 \n",
        "array3 = array1d[array1d > 5]\n",
        "print('array1d:', array1d)\n",
        "print('array1d > 5:', array1d > 5)\n",
        "print('array1d > 5 불린 인덱싱 결과 값 :', array3)"
      ]
    },
    {
      "cell_type": "code",
      "source": [
        "ind = array1d > 5\n",
        "print(ind)\n",
        "print(type(ind))"
      ],
      "metadata": {
        "id": "5F9C-5tBzsju"
      },
      "execution_count": null,
      "outputs": []
    },
    {
      "cell_type": "code",
      "execution_count": null,
      "metadata": {
        "id": "NbcVtnPzPXlv"
      },
      "outputs": [],
      "source": [
        "print('array1d 중 짝수:', array1d[array1d%2 == 0])"
      ]
    },
    {
      "cell_type": "markdown",
      "metadata": {
        "id": "M-LduEp2PXlv"
      },
      "source": [
        "## **행렬의 정렬 – sort( )와 argsort( )**\n",
        "\n",
        "- `numpy`에서 행렬을 정렬하는 `np.sort()`와 `ndarray.sort()`, 그리고 정렬된 행렬의 인덱스를 반환하는 `argsort()`에 대해 알아보겠습니다.\n",
        "- 덧붙여 함수(`np.sort()`)와 메서드(`ndarray.sort()`)의 차이점도 알아보겠습니다."
      ]
    },
    {
      "cell_type": "code",
      "execution_count": null,
      "metadata": {
        "id": "ll5E69-WPXlw"
      },
      "outputs": [],
      "source": [
        "org_array = np.array([3, 1, 9, 5]) \n",
        "print('원본 행렬:', org_array)\n",
        "# np.sort( )로 정렬 \n",
        "sort_array1 = np.sort(org_array)\n",
        "print ('np.sort( ) 호출 후 반환된 정렬 행렬:', sort_array1)\n",
        "print('np.sort( ) 호출 후 원본 행렬:', org_array)\n",
        "# ndarray.sort( )로 정렬\n",
        "sort_array2 = org_array.sort()\n",
        "print('org_array.sort( ) 호출 후 반환된 행렬:', sort_array2)\n",
        "print('org_array.sort( ) 호출 후 원본 행렬:', org_array)"
      ]
    },
    {
      "cell_type": "code",
      "execution_count": null,
      "metadata": {
        "id": "g1IbWlGzPXlw"
      },
      "outputs": [],
      "source": [
        "org_array = np.array([3, 1, 9, 5]) \n",
        "print(org_array)\n",
        "print(org_array[::-1])\n",
        "print(org_array)"
      ]
    },
    {
      "cell_type": "code",
      "execution_count": null,
      "metadata": {
        "id": "F52HI0XPPXlw"
      },
      "outputs": [],
      "source": [
        "sort_array1_desc = np.sort(org_array)[::-1]\n",
        "print ('내림차순으로 정렬:', sort_array1_desc) "
      ]
    },
    {
      "cell_type": "code",
      "execution_count": null,
      "metadata": {
        "id": "rmNjH3LhPXlw"
      },
      "outputs": [],
      "source": [
        "array2d = np.array([[8, 12], \n",
        "                   [7, 1 ]])\n",
        "\n",
        "sort_array2d_axis0 = np.sort(array2d, axis=0)\n",
        "print('로우 방향으로 정렬:\\n', sort_array2d_axis0)\n",
        "print('로우 방향으로 역순 정렬:\\n', sort_array2d_axis0[::-1])\n",
        "\n",
        "sort_array2d_axis1 = np.sort(array2d, axis=1)\n",
        "print('컬럼 방향으로 정렬:\\n', sort_array2d_axis1)\n",
        "print('컬럼 방향으로 역순 정렬:\\n', sort_array2d_axis1[:,::-1])"
      ]
    },
    {
      "cell_type": "markdown",
      "metadata": {
        "id": "AKPcXtQrPXlw"
      },
      "source": [
        "### 정렬 행렬의 인덱스 반환"
      ]
    },
    {
      "cell_type": "code",
      "execution_count": null,
      "metadata": {
        "id": "hkMjN20_PXlw"
      },
      "outputs": [],
      "source": [
        "org_array = np.array([3, 1, 9, 5]) \n",
        "sort_indices = np.argsort(org_array)\n",
        "print(type(sort_indices))\n",
        "print('행렬 정렬 시 원본 행렬의 인덱스:', sort_indices)"
      ]
    },
    {
      "cell_type": "code",
      "execution_count": null,
      "metadata": {
        "id": "QJIZ234IPXlx"
      },
      "outputs": [],
      "source": [
        "org_array = np.array([3, 1, 9, 5]) \n",
        "sort_indices_desc = np.argsort(org_array)[::-1]\n",
        "print('행렬 내림차순 정렬 시 원본 행렬의 인덱스:', sort_indices_desc)"
      ]
    },
    {
      "cell_type": "code",
      "execution_count": null,
      "metadata": {
        "id": "f9khBWhYPXlx"
      },
      "outputs": [],
      "source": [
        "import numpy as np\n",
        "\n",
        "name_array = np.array(['John', 'Mike', 'Sarah', 'Kate', 'Samuel'])\n",
        "score_array= np.array([78, 95, 84, 98, 88])\n",
        "\n",
        "sort_indices_asc = np.argsort(score_array)\n",
        "print('성적 오름차순 정렬 시 score_array의 인덱스:', sort_indices_asc)\n",
        "print('성적 오름차순으로 name_array의 이름 출력:', name_array[sort_indices_asc])"
      ]
    },
    {
      "cell_type": "markdown",
      "metadata": {
        "id": "Qnum3lX0PXlx"
      },
      "source": [
        "## **행렬 연산**"
      ]
    },
    {
      "cell_type": "markdown",
      "metadata": {
        "id": "EDGME31lPXlx"
      },
      "source": [
        "### 행렬의 사칙연산"
      ]
    },
    {
      "cell_type": "code",
      "execution_count": null,
      "metadata": {
        "id": "pFBoel0tPXlx"
      },
      "outputs": [],
      "source": [
        "A = np.array([[1, 2, 3],\n",
        "              [4, 5, 6]])\n",
        "B = np.array([[7, 8, 9],\n",
        "              [10, 11, 12]])\n",
        "sum_array = A+B\n",
        "sub_array = A-B\n",
        "print('행렬 덧셈 결과:\\n', sum_array)\n",
        "print('행렬 뺄셈 결과:\\n', sub_array)\n",
        "print('행렬 곱셈 결과:\\n', A*B)\n",
        "print('행렬 나눗셈 결과:\\n', A/B)"
      ]
    },
    {
      "cell_type": "markdown",
      "metadata": {
        "id": "_1uJ6JadPXlx"
      },
      "source": [
        "### 행렬 내적"
      ]
    },
    {
      "cell_type": "code",
      "execution_count": null,
      "metadata": {
        "id": "PYSW4cmOPXlx"
      },
      "outputs": [],
      "source": [
        "A = np.array([[1, 2, 3],\n",
        "              [4, 5, 6]])\n",
        "B = np.array([[7, 8],\n",
        "              [9, 10],\n",
        "              [11, 12]])\n",
        "\n",
        "dot_product = np.dot(A, B)\n",
        "print('행렬 내적 결과:\\n', dot_product)"
      ]
    },
    {
      "cell_type": "markdown",
      "metadata": {
        "id": "6RGxbjmnPXly"
      },
      "source": [
        "### 전치 행렬"
      ]
    },
    {
      "cell_type": "code",
      "execution_count": null,
      "metadata": {
        "id": "5f0faXkBPXly"
      },
      "outputs": [],
      "source": [
        "A = np.array([[1, 2],\n",
        "              [3, 4]])\n",
        "transpose_mat = np.transpose(A)\n",
        "print('A의 전치 행렬:\\n', transpose_mat)"
      ]
    }
  ],
  "metadata": {
    "language_info": {
      "name": "python"
    },
    "orig_nbformat": 4,
    "colab": {
      "name": "09_10_Numpy.ipynb",
      "provenance": [],
      "collapsed_sections": [],
      "include_colab_link": true
    },
    "kernelspec": {
      "name": "python3",
      "display_name": "Python 3"
    }
  },
  "nbformat": 4,
  "nbformat_minor": 0
}