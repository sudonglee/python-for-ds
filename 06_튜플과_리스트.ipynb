{
  "nbformat": 4,
  "nbformat_minor": 0,
  "metadata": {
    "colab": {
      "name": "06_튜플과 리스트.ipynb",
      "private_outputs": true,
      "provenance": [],
      "collapsed_sections": [],
      "authorship_tag": "ABX9TyOJY8RPSp6kuKHw+nPP6yuC",
      "include_colab_link": true
    },
    "kernelspec": {
      "name": "python3",
      "display_name": "Python 3"
    },
    "language_info": {
      "name": "python"
    }
  },
  "cells": [
    {
      "cell_type": "markdown",
      "metadata": {
        "id": "view-in-github",
        "colab_type": "text"
      },
      "source": [
        "<a href=\"https://colab.research.google.com/github/sudonglee/python-for-ds/blob/main/06_%ED%8A%9C%ED%94%8C%EA%B3%BC_%EB%A6%AC%EC%8A%A4%ED%8A%B8.ipynb\" target=\"_parent\"><img src=\"https://colab.research.google.com/assets/colab-badge.svg\" alt=\"Open In Colab\"/></a>"
      ]
    },
    {
      "cell_type": "markdown",
      "source": [
        "# **Lecture 06. 튜플과 리스트**\n",
        "- 작성자: 이수동 (울산대학교 산업경영공학부 | sudonglee@ulsan.ac.kr)\n",
        "- 참고자료: 빌 루바노빅, 『처음 시작하는 파이썬(2판)』, 최길우 옮김, 한빛미디어(2020)."
      ],
      "metadata": {
        "id": "qtMd6cQe2-Zl"
      }
    },
    {
      "cell_type": "markdown",
      "source": [
        "# **Introduction**\n",
        "- 이전 강의에서는 불리언(`bool`), 정수(`int`), 부동소수점 숫자(`float`), 문자열(`str`) 등의 기본 데이터 타입을 살펴봤습니다. \n",
        "- 이들 데이터 타입을 **원자**에 비유한다면, 이번 강의에서 배울 자료구조는 **분자**라고 할 수 있습니다. 즉, 기본 타입들이 다양한 형태로 결합한다는 것을 의미합니다. \n",
        "- 컴퓨터 프로그래밍을 하다 보면 많은 경우에 첫 번째, 두번째, ...의 순서를 가지는 항목들의 나열이 필요합니다. 이를 ***시퀀스(sequence)***라고 합니다. \n",
        "- 파이썬에는 대표적인 두 가지 ***시퀀스 구조(sequence structure)***, ***튜플(tuple)***과 ***리스트(list)***가 있습니다."
      ],
      "metadata": {
        "id": "_e9SqxlWymKQ"
      }
    },
    {
      "cell_type": "markdown",
      "source": [
        "# **튜플(Tuple)**"
      ],
      "metadata": {
        "id": "JEvGpHT4DFCu"
      }
    },
    {
      "cell_type": "markdown",
      "source": [
        "## 튜플 생성하기: `,`와 `()`\n",
        "튜플은 다양한 방법으로 생성할 수 있습니다. 먼저 `()`를 사용해서 빈 튜플을 만들어봅시다. "
      ],
      "metadata": {
        "id": "wLJlValSE5fM"
      }
    },
    {
      "cell_type": "code",
      "source": [
        "empty_tuple = ()\n",
        "print(empty_tuple)"
      ],
      "metadata": {
        "id": "Qm_ZUxM5GRqV"
      },
      "execution_count": null,
      "outputs": []
    },
    {
      "cell_type": "markdown",
      "source": [
        "한 요소(element) 이상의 튜플을 만들기 위해서는 각 요소 뒤에 콤마(`,`)를 붙입니다. 먼저, 튜플에 한 요소를 저장해봅니다."
      ],
      "metadata": {
        "id": "xMRxk-G7G-A0"
      }
    },
    {
      "cell_type": "code",
      "source": [
        "countries = 'Korea', \n",
        "print(countries)"
      ],
      "metadata": {
        "id": "-DnhZ9gcGWEj"
      },
      "execution_count": null,
      "outputs": []
    },
    {
      "cell_type": "markdown",
      "source": [
        "요소가 두 개 이상이면 마지막에는 콤마를 붙이지 않습니다."
      ],
      "metadata": {
        "id": "Pm6zfg9WIK3k"
      }
    },
    {
      "cell_type": "code",
      "source": [
        "countries = 'Korea', 'Japan'\n",
        "countries"
      ],
      "metadata": {
        "id": "b_yjmygYGhxt"
      },
      "execution_count": null,
      "outputs": []
    },
    {
      "cell_type": "markdown",
      "source": [
        "`()` 없이 `,`만으로도 튜플을 정의할 수 있지만, `()`를 사용하면 튜플을 보다 구분하기 쉽습니다. "
      ],
      "metadata": {
        "id": "Y2ykInfoISNd"
      }
    },
    {
      "cell_type": "code",
      "source": [
        "countries = ('Korea', 'Japan')\n",
        "countries"
      ],
      "metadata": {
        "id": "O-hTb8ZnGkBU"
      },
      "execution_count": null,
      "outputs": []
    },
    {
      "cell_type": "markdown",
      "source": [
        "튜플로 한 번에 여러 변수를 할당할 수 있습니다."
      ],
      "metadata": {
        "id": "I6Mi_wYeInkB"
      }
    },
    {
      "cell_type": "code",
      "source": [
        "a, b = countries\n",
        "print(a)\n",
        "print(b)"
      ],
      "metadata": {
        "id": "gs8wsNXRItZ0"
      },
      "execution_count": null,
      "outputs": []
    },
    {
      "cell_type": "markdown",
      "source": [
        "## 생성하기: `tuple()`"
      ],
      "metadata": {
        "id": "XKjG6kGRIujU"
      }
    },
    {
      "cell_type": "markdown",
      "source": [
        "`tuple()` 함수는 다른 객체를 튜플로 만들어준다."
      ],
      "metadata": {
        "id": "CpMw_7ETI5ub"
      }
    },
    {
      "cell_type": "code",
      "source": [
        "tuple('cat') # str → tuple"
      ],
      "metadata": {
        "id": "izE3nIr2I9Cc"
      },
      "execution_count": null,
      "outputs": []
    },
    {
      "cell_type": "code",
      "source": [
        "tuple('Korea')"
      ],
      "metadata": {
        "id": "cQYXCOHXI_I7"
      },
      "execution_count": null,
      "outputs": []
    },
    {
      "cell_type": "code",
      "source": [
        "countries = ['Korea', 'Japan']\n",
        "print(countries)\n",
        "countries = tuple(countries) # list → tuple\n",
        "print(countries)"
      ],
      "metadata": {
        "id": "giPxaQuPJAqr"
      },
      "execution_count": null,
      "outputs": []
    },
    {
      "cell_type": "code",
      "source": [
        "tuple(3)"
      ],
      "metadata": {
        "id": "4_Ktr9VdBEUJ"
      },
      "execution_count": null,
      "outputs": []
    },
    {
      "cell_type": "markdown",
      "source": [
        "## 결합하기: `+`\n",
        "`+`로 두 개 이상의 튜플을 결합할 수 있습니다."
      ],
      "metadata": {
        "id": "IxDadIxCJB8j"
      }
    },
    {
      "cell_type": "code",
      "source": [
        "('Korea', 'India') + ('Japan', 'China')"
      ],
      "metadata": {
        "id": "0iCBiu-VJVLz"
      },
      "execution_count": null,
      "outputs": []
    },
    {
      "cell_type": "markdown",
      "source": [
        "## 항목 복제하기: `*`\n",
        "`*`  연산자는 `+` 연산자를 반복하는 것과 같습니다."
      ],
      "metadata": {
        "id": "GB0mFD0mKOXU"
      }
    },
    {
      "cell_type": "code",
      "source": [
        "countries * 3"
      ],
      "metadata": {
        "id": "hu-NRM4JKRVL"
      },
      "execution_count": null,
      "outputs": []
    },
    {
      "cell_type": "markdown",
      "source": [
        "## 비교하기"
      ],
      "metadata": {
        "id": "tWDU5us1KTYc"
      }
    },
    {
      "cell_type": "code",
      "source": [
        "a = (7, 2)\n",
        "b = (7, 3)\n",
        "print(a == b)"
      ],
      "metadata": {
        "id": "1VQIioQPKf7r"
      },
      "execution_count": null,
      "outputs": []
    },
    {
      "cell_type": "code",
      "source": [
        "print(a <= b)"
      ],
      "metadata": {
        "id": "lsJ_qMuOKkdr"
      },
      "execution_count": null,
      "outputs": []
    },
    {
      "cell_type": "code",
      "source": [
        "print(a < b)"
      ],
      "metadata": {
        "id": "rAb7UzmAKpqk"
      },
      "execution_count": null,
      "outputs": []
    },
    {
      "cell_type": "code",
      "source": [
        "a = (2, 7)\n",
        "b = (1, 8)"
      ],
      "metadata": {
        "id": "RtwF_3bW35d0"
      },
      "execution_count": null,
      "outputs": []
    },
    {
      "cell_type": "code",
      "source": [
        "print(a > b)\n",
        "print(a < b)"
      ],
      "metadata": {
        "id": "0At-xTeU3_Wq"
      },
      "execution_count": null,
      "outputs": []
    },
    {
      "cell_type": "markdown",
      "source": [
        "## 요소 확인하기: `in`"
      ],
      "metadata": {
        "id": "Ols5nYYrKrAL"
      }
    },
    {
      "cell_type": "code",
      "source": [
        "countries = ('Korea', 'India', 'Japan', 'China')\n",
        "print(countries)"
      ],
      "metadata": {
        "id": "_yuU1SclK5SD"
      },
      "execution_count": null,
      "outputs": []
    },
    {
      "cell_type": "code",
      "source": [
        "print('Korea' in countries)"
      ],
      "metadata": {
        "id": "75F8pwABLOxr"
      },
      "execution_count": null,
      "outputs": []
    },
    {
      "cell_type": "code",
      "source": [
        "print('Denmark' in countries)"
      ],
      "metadata": {
        "id": "wG66IJgRLR-b"
      },
      "execution_count": null,
      "outputs": []
    },
    {
      "cell_type": "markdown",
      "source": [
        "## 수정하기\n",
        "- 튜플을 수정하는 법: **\"할 수 없습니다!\"**"
      ],
      "metadata": {
        "id": "5bWEBGAFLWfT"
      }
    },
    {
      "cell_type": "code",
      "source": [
        "words = ('I', 'am', 'a', 'boy')\n",
        "words[3] = 'girl'"
      ],
      "metadata": {
        "id": "IQlWyL8CLiOE"
      },
      "execution_count": null,
      "outputs": []
    },
    {
      "cell_type": "markdown",
      "source": [
        "튜플은 *불가변(immutable)* 타입입니다. "
      ],
      "metadata": {
        "id": "Ht1zY-ClN3bL"
      }
    },
    {
      "cell_type": "code",
      "source": [
        "t1 = ('a', 'b', 'c')\n",
        "print(t1)\n",
        "t2 = (1, 2, 3)\n",
        "t1 += t2\n",
        "print(t1)"
      ],
      "metadata": {
        "id": "5LscU2lOOBtL"
      },
      "execution_count": null,
      "outputs": []
    },
    {
      "cell_type": "markdown",
      "source": [
        "튜플 `t1`을 수정한 것 처럼 보입니다. 하지만 그렇지 않습니다. "
      ],
      "metadata": {
        "id": "1KstJE3nOJ1K"
      }
    },
    {
      "cell_type": "code",
      "source": [
        "t1 = ('a', 'b', 'c')\n",
        "print('t1:', t1)\n",
        "print('id(t1):', id(t1))\n",
        "t2 = (1, 2, 3)\n",
        "t1 += t2\n",
        "print('t1:', t1)\n",
        "print('id(t1):', id(t1))"
      ],
      "metadata": {
        "id": "z7PMXcNHOQxK"
      },
      "execution_count": null,
      "outputs": []
    },
    {
      "cell_type": "markdown",
      "source": [
        "- 수정 후 `t1`은 예전의 `t1`이 아닙니다! \n",
        "- 메모리 선반 위 `('a', 'b', 'c')`가 담긴 상자에 `t1`이라는 이름표가 붙어 있었습니다. **이 상자는 완전히 밀봉되어 있었습니다.**\n",
        "- 사용자가 `t1`이라는 이름을 새로운 튜플, `('a', 'b', 'c', 1, 2, 3)`에 사용하고 싶습니다.\n",
        "- 새로운 상자에 `('a', 'b', 'c', 1, 2, 3)`을 담고, `t1` 이름표를 기존 상자에서 떼어 이 상자에 붙였습니다. \n",
        "- 상자의 위치는 `id()`로 확인할 수 있습니다.\n",
        "- 가변(mutable) 타입은 어떻게 다른지 리스트(list)에서 더 자세히 살펴 보도록 하겠습니다. "
      ],
      "metadata": {
        "id": "9oewneDXObhi"
      }
    },
    {
      "cell_type": "markdown",
      "source": [
        "# **리스트(List)**\n",
        "Python에서 가장 중요한 자료형이 무엇인지 제게 묻는다면, 저는 리스트(list)라고 대답하겠습니다!\n",
        "- 리스트는 데이터를 순차적으로 파악하는 데 매우 유용합니다. \n",
        "- 튜플과 달리 리스트는 가변적(mutable)입니다. 즉, 리스트의 현재 위치에서 새로운 요소를 추가, 삭제하거나 기존 요소를 덮어쓸 수 있습니다. \n"
      ],
      "metadata": {
        "id": "QnFzNNJJP1kB"
      }
    },
    {
      "cell_type": "markdown",
      "source": [
        "## 생성하기: `[]`\n",
        "- 리스트는 0개 혹은 그 이상의 요소로 만들어집니다. \n",
        "- 콤마(`,`)로 구분하고, 대괄호(`[]`)로 둘러싸여 있습니다. "
      ],
      "metadata": {
        "id": "87CgLHRr1cYj"
      }
    },
    {
      "cell_type": "code",
      "source": [
        "empty_list = []\n",
        "weekdays = ['Monday', 'Tuesday', 'Wednesday', 'Thursday', 'Friday']\n",
        "integers = [1, 2, 3, 4, 5]\n",
        "print(empty_list)\n",
        "print(weekdays)\n",
        "print(integers)"
      ],
      "metadata": {
        "id": "gHpR2f-l1gQr"
      },
      "execution_count": null,
      "outputs": []
    },
    {
      "cell_type": "markdown",
      "source": [
        "리스트에는 동일한 값이 여러 번 나올 수 있습니다. "
      ],
      "metadata": {
        "id": "Y1cdpt6z1sjk"
      }
    },
    {
      "cell_type": "code",
      "source": [
        "last_names = ['Kim', 'Lee', 'Park', 'Lee']\n",
        "last_names"
      ],
      "metadata": {
        "id": "_oVRKlkT11CS"
      },
      "execution_count": null,
      "outputs": []
    },
    {
      "cell_type": "markdown",
      "source": [
        "## 생성 및 변환하기: `list()`"
      ],
      "metadata": {
        "id": "5Tuwx96112NM"
      }
    },
    {
      "cell_type": "markdown",
      "source": [
        "`list()` 함수로 빈 리스트를 만들 수 있습니다. "
      ],
      "metadata": {
        "id": "9FjPJmd52APl"
      }
    },
    {
      "cell_type": "code",
      "source": [
        "another_empty_list = list()\n",
        "another_empty_list"
      ],
      "metadata": {
        "id": "LN80-T7Z15SD"
      },
      "execution_count": null,
      "outputs": []
    },
    {
      "cell_type": "code",
      "source": [
        "list('cat')"
      ],
      "metadata": {
        "id": "V4GMx3rD16qE"
      },
      "execution_count": null,
      "outputs": []
    },
    {
      "cell_type": "code",
      "source": [
        "countries = ('Korea', 'Japan')\n",
        "print(countries)\n",
        "print(list(countries))"
      ],
      "metadata": {
        "id": "v-wwj4_G17v7"
      },
      "execution_count": null,
      "outputs": []
    },
    {
      "cell_type": "markdown",
      "source": [
        "## 문자열 분할로 생성하기: `split()`\n",
        "`split()` 함수(메서드)는 문자열을 구분자 단위로 분할하여 리스트를 생성합니다."
      ],
      "metadata": {
        "id": "XJ3wuzR218uT"
      }
    },
    {
      "cell_type": "code",
      "source": [
        "date = '9/28/2021'\n",
        "date_list = date.split('/')\n",
        "date_list"
      ],
      "metadata": {
        "id": "ypL0peA-3hDq"
      },
      "execution_count": null,
      "outputs": []
    },
    {
      "cell_type": "markdown",
      "source": [
        "## `[offset]`으로 항목 얻기"
      ],
      "metadata": {
        "id": "AJUUBS0lBWoQ"
      }
    },
    {
      "cell_type": "markdown",
      "source": [
        "문자열과 마찬가지로 리스트도 시퀀스(sequence)이므로 오프셋(offset)으로 특정 위치의 값을 추출할 수 있다. "
      ],
      "metadata": {
        "id": "KSzF6PX8BcvX"
      }
    },
    {
      "cell_type": "code",
      "source": [
        "countries = ['Korea', 'Japan', 'China']\n",
        "print(countries[0])\n",
        "print(countries[1])\n",
        "print(countries[2])"
      ],
      "metadata": {
        "id": "Uycvl4rWBjVI"
      },
      "execution_count": null,
      "outputs": []
    },
    {
      "cell_type": "markdown",
      "source": [
        "문자열과 마찬가지로 음수 오프셋은 끝에서부터 거꾸로 값을 추출합니다."
      ],
      "metadata": {
        "id": "z-6wyMq2ChFv"
      }
    },
    {
      "cell_type": "code",
      "source": [
        "print(countries[-1])\n",
        "print(countries[-2])\n",
        "print(countries[-3])"
      ],
      "metadata": {
        "id": "QJheUOp-CMUn"
      },
      "execution_count": null,
      "outputs": []
    },
    {
      "cell_type": "markdown",
      "source": [
        "가능한 범위를 벗어는 오프셋을 입력하면 오류가 발생합니다."
      ],
      "metadata": {
        "id": "AP8VOfC8D4pf"
      }
    },
    {
      "cell_type": "code",
      "source": [
        "print(countries[4])"
      ],
      "metadata": {
        "id": "mxK_Gqj_IeMl"
      },
      "execution_count": null,
      "outputs": []
    },
    {
      "cell_type": "code",
      "source": [
        "print(countries[-5])"
      ],
      "metadata": {
        "id": "kHvxrQCtIizF"
      },
      "execution_count": null,
      "outputs": []
    },
    {
      "cell_type": "markdown",
      "source": [
        "## 슬라이스로 항목 얻기"
      ],
      "metadata": {
        "id": "uZDEja5u5Yg6"
      }
    },
    {
      "cell_type": "markdown",
      "source": [
        "**슬라이스**를 사용해서 리스트의 서브시퀀스를 추출할 수 있습니다. "
      ],
      "metadata": {
        "id": "ZHjw7G9kA0-V"
      }
    },
    {
      "cell_type": "code",
      "source": [
        "countries = ['Korea', 'Japan', 'China', 'India']\n",
        "print(countries[:])\n",
        "print(countries[0:2])\n",
        "print(countries[:2])\n",
        "print(countries[1:])"
      ],
      "metadata": {
        "id": "SawGeM_KBDOw"
      },
      "execution_count": null,
      "outputs": []
    },
    {
      "cell_type": "markdown",
      "source": [
        "슬라이스에 스텝을 사용해봅시다. "
      ],
      "metadata": {
        "id": "jK3Muqt3BPUv"
      }
    },
    {
      "cell_type": "code",
      "source": [
        "print(countries[::2])\n",
        "print(countries[::-2])\n",
        "print(countries[::-1])"
      ],
      "metadata": {
        "id": "DxlxQCmXGtxN"
      },
      "execution_count": null,
      "outputs": []
    },
    {
      "cell_type": "code",
      "source": [
        "countries[::-1]"
      ],
      "metadata": {
        "id": "bWJubgxBG2yl"
      },
      "execution_count": null,
      "outputs": []
    },
    {
      "cell_type": "markdown",
      "source": [
        "위 슬라이스는 `countries`에 할당되지 않아서, `countries` 리스트 자체를 반대로 뒤집지는 않습니다. "
      ],
      "metadata": {
        "id": "sZnUZgHNG7fV"
      }
    },
    {
      "cell_type": "code",
      "source": [
        "print(countries)"
      ],
      "metadata": {
        "id": "Gf4Y6ierG58F"
      },
      "execution_count": null,
      "outputs": []
    },
    {
      "cell_type": "markdown",
      "source": [
        "`countries`의 순서를 반대로 뒤집기 위해 `list.reverse()` 메서드를 사용합니다."
      ],
      "metadata": {
        "id": "HKDnIA8LHbyu"
      }
    },
    {
      "cell_type": "code",
      "source": [
        "countries = ['Korea', 'Japan', 'China', 'India']\n",
        "print(countries)\n",
        "print(countries[::-1])\n",
        "print(countries)\n",
        "countries.reverse()\n",
        "print(countries)"
      ],
      "metadata": {
        "id": "HU-_0WlOHQv_"
      },
      "execution_count": null,
      "outputs": []
    },
    {
      "cell_type": "markdown",
      "source": [
        "리스트 끝에 항목 추가하기: `append()`"
      ],
      "metadata": {
        "id": "MudJkfheHez1"
      }
    },
    {
      "cell_type": "markdown",
      "source": [
        "- `append()`는 리스트 끝에 새 항목을 한 개씩 추가합니다. \n",
        "- 리스트는 가변(mutable)이므로 항목을 추가할 수 있습니다. "
      ],
      "metadata": {
        "id": "v7FVd-4-HibN"
      }
    },
    {
      "cell_type": "code",
      "source": [
        "countries = ['Korea', 'Japan', 'China']\n",
        "countries.append('India')\n",
        "countries"
      ],
      "metadata": {
        "id": "hAbGMXuFHruf"
      },
      "execution_count": null,
      "outputs": []
    },
    {
      "cell_type": "markdown",
      "source": [
        "반면 불가변(immutable) 타입인 튜플은 이러한 기능을 제공하지 않습니다. "
      ],
      "metadata": {
        "id": "SSKs1IwhHvmW"
      }
    },
    {
      "cell_type": "code",
      "source": [
        "c_tuple = ('Korea', 'Japan', 'China')\n",
        "c_tuple.append()"
      ],
      "metadata": {
        "id": "7BC86-F1HuZd"
      },
      "execution_count": null,
      "outputs": []
    },
    {
      "cell_type": "markdown",
      "source": [
        "!['types'](https://user-images.githubusercontent.com/27403189/149898040-e37bf6cc-dcfd-41c5-b6e0-793df1c2bd6d.png)"
      ],
      "metadata": {
        "id": "G_f6OzNoP4sS"
      }
    },
    {
      "cell_type": "markdown",
      "source": [
        "## 오프셋과 `insert()`로 항목 추가하기"
      ],
      "metadata": {
        "id": "6qwNf4LpID-N"
      }
    },
    {
      "cell_type": "markdown",
      "source": [
        "- `insert()` 메서드는 리스트의 원하는 위치에 항목을 추가할 수 있습니다. \n",
        "- Python 시퀀스의 오프셋은 `0`부터 시작한다는 것을 꼭 기억하세요!"
      ],
      "metadata": {
        "id": "1Jv7OT-SIHIV"
      }
    },
    {
      "cell_type": "code",
      "source": [
        "countries = ['Korea', 'Japan', 'China']\n",
        "countries.insert(2, 'India')\n",
        "countries"
      ],
      "metadata": {
        "id": "KlLTLaMUmod_"
      },
      "execution_count": null,
      "outputs": []
    },
    {
      "cell_type": "code",
      "source": [
        "countries = ['Korea', 'Japan', 'China']\n",
        "countries[2] = 'India'\n",
        "countries"
      ],
      "metadata": {
        "id": "KR2hs_rXG06y"
      },
      "execution_count": null,
      "outputs": []
    },
    {
      "cell_type": "code",
      "source": [
        "countries.insert(100, 'New Zealand')\n",
        "countries"
      ],
      "metadata": {
        "id": "7nUMfP1xmwiv"
      },
      "execution_count": null,
      "outputs": []
    },
    {
      "cell_type": "markdown",
      "source": [
        "## 리스트 병합하기: `extend()`와 `+`\n",
        "`extend()`를 사용해서 다른 리스트를 병합할 수 있습니다. "
      ],
      "metadata": {
        "id": "uJiN8EtAReV3"
      }
    },
    {
      "cell_type": "code",
      "source": [
        "asian_countries = ['Korea', 'Japan', 'China']\n",
        "european_countries = ['Germany', 'France', 'Italy']"
      ],
      "metadata": {
        "id": "XBfbd5D3nP3O"
      },
      "execution_count": null,
      "outputs": []
    },
    {
      "cell_type": "code",
      "source": [
        "asian_countries.extend(european_countries)\n",
        "print(asian_countries)"
      ],
      "metadata": {
        "id": "aCwFMaOJndkW"
      },
      "execution_count": null,
      "outputs": []
    },
    {
      "cell_type": "markdown",
      "source": [
        "또는 `+`나 `+=`로 병합할 수도 있습니다. "
      ],
      "metadata": {
        "id": "NJMJ3tj5neXl"
      }
    },
    {
      "cell_type": "code",
      "source": [
        "print(asian_countries + european_countries)"
      ],
      "metadata": {
        "id": "6dw827BAnis9"
      },
      "execution_count": null,
      "outputs": []
    },
    {
      "cell_type": "code",
      "source": [
        "asian_countries = ['Korea', 'Japan', 'China']\n",
        "european_countries = ['Germany', 'France', 'Italy']\n",
        "asian_countries += european_countries\n",
        "print(asian_countries)"
      ],
      "metadata": {
        "id": "U2g84BDKnnjt"
      },
      "execution_count": null,
      "outputs": []
    },
    {
      "cell_type": "code",
      "source": [
        "print(len(asian_countries))"
      ],
      "metadata": {
        "id": "iARptJBVHeCX"
      },
      "execution_count": null,
      "outputs": []
    },
    {
      "cell_type": "markdown",
      "source": [
        "**[주의]** `append()`를 사용하면 항목을 병합하지 않고 하나의 리스트가 하나의 요소로 추가됩니다. "
      ],
      "metadata": {
        "id": "-BDTzcVQnkFF"
      }
    },
    {
      "cell_type": "code",
      "source": [
        "asian_countries = ['Korea', 'Japan', 'China']\n",
        "european_countries = ['Germany', 'France', 'Italy']\n",
        "asian_countries.append(european_countries)\n",
        "print(asian_countries)"
      ],
      "metadata": {
        "id": "R5V9CEptn20N"
      },
      "execution_count": null,
      "outputs": []
    },
    {
      "cell_type": "code",
      "source": [
        "print(len(asian_countries))"
      ],
      "metadata": {
        "id": "_qt4RQQKHjd7"
      },
      "execution_count": null,
      "outputs": []
    },
    {
      "cell_type": "markdown",
      "source": [
        "## `[offset]`으로 항목 바꾸기\n",
        "오프셋으로 항목을 바꿀 수 있습니다. "
      ],
      "metadata": {
        "id": "E0UfNfKin3_d"
      }
    },
    {
      "cell_type": "code",
      "source": [
        "asian_countries = ['Korea', 'Japan', 'China']\n",
        "asian_countries[2] = 'India'\n",
        "print(asian_countries)"
      ],
      "metadata": {
        "id": "qpe8biEZn7rV"
      },
      "execution_count": null,
      "outputs": []
    },
    {
      "cell_type": "code",
      "source": [
        "asian_countries = ['Korea', 'Japan', 'China']\n",
        "asian_countries[1] = ['India', 'Vietnam']\n",
        "print(asian_countries)"
      ],
      "metadata": {
        "id": "Dv4for7NoC01"
      },
      "execution_count": null,
      "outputs": []
    },
    {
      "cell_type": "markdown",
      "source": [
        "## 슬라이스로 항목 바꾸기"
      ],
      "metadata": {
        "id": "69V3ShBCoEf9"
      }
    },
    {
      "cell_type": "code",
      "source": [
        "numbers = [1, 2, 3, 4]\n",
        "numbers[1:3] = [7]\n",
        "numbers"
      ],
      "metadata": {
        "id": "bK2YWm_uoL7_"
      },
      "execution_count": null,
      "outputs": []
    },
    {
      "cell_type": "markdown",
      "source": [
        "## 삭제하기: `del`, `remove()`, `pop()`, `clear()`"
      ],
      "metadata": {
        "id": "kPwiBBjloNXt"
      }
    },
    {
      "cell_type": "markdown",
      "source": [
        "`del`로 리스트의 특정 요소를 오프셋 기반으로 삭제할 수 있습니다. "
      ],
      "metadata": {
        "id": "MJW6M-6loWwk"
      }
    },
    {
      "cell_type": "code",
      "source": [
        "asian_countries = ['Korea', 'Japan', 'China', 'Germany']\n",
        "del asian_countries[-1]\n",
        "print(asian_countries)"
      ],
      "metadata": {
        "id": "gqtodr7zogn8"
      },
      "execution_count": null,
      "outputs": []
    },
    {
      "cell_type": "markdown",
      "source": [
        "리스트에서 삭제할 항목의 위치 대신 값을 알고 있다면 `remove()`를 사용하세요."
      ],
      "metadata": {
        "id": "Jx4ybxYColzt"
      }
    },
    {
      "cell_type": "code",
      "source": [
        "asian_countries = ['Korea', 'Japan', 'China', 'Germany']\n",
        "asian_countries.remove('Germany')\n",
        "print(asian_countries)"
      ],
      "metadata": {
        "id": "LToF90Xeozpd"
      },
      "execution_count": null,
      "outputs": []
    },
    {
      "cell_type": "markdown",
      "source": [
        "`pop()`은 리스트에서 항목을 가져오는 동시에 그 항목을 삭제합니다. "
      ],
      "metadata": {
        "id": "n-8vXrhTo08d"
      }
    },
    {
      "cell_type": "code",
      "source": [
        "asian_countries = ['Korea', 'Japan', 'China', 'India', 'Vietnam']\n",
        "asian_countries.pop()"
      ],
      "metadata": {
        "id": "1-ajD3Q1o6xW"
      },
      "execution_count": null,
      "outputs": []
    },
    {
      "cell_type": "code",
      "source": [
        "print(asian_countries) # pop()의 인수가 없다면 기본값은 -1"
      ],
      "metadata": {
        "id": "Dec2a85co9U1"
      },
      "execution_count": null,
      "outputs": []
    },
    {
      "cell_type": "code",
      "source": [
        "asian_countries.pop(1)"
      ],
      "metadata": {
        "id": "mJaw11fYo-Zd"
      },
      "execution_count": null,
      "outputs": []
    },
    {
      "cell_type": "code",
      "source": [
        "print(asian_countries)"
      ],
      "metadata": {
        "id": "U476CVEXo_NV"
      },
      "execution_count": null,
      "outputs": []
    },
    {
      "cell_type": "markdown",
      "source": [
        "`clear()`는 리스트의 모든 요소를 삭제합니다."
      ],
      "metadata": {
        "id": "tJw9mgFdpJlE"
      }
    },
    {
      "cell_type": "code",
      "source": [
        "asian_countries = ['Korea', 'Japan', 'China', 'India', 'Vietnam']\n",
        "asian_countries.clear()\n",
        "print(asian_countries)"
      ],
      "metadata": {
        "id": "Hx8w-iXzpPNE"
      },
      "execution_count": null,
      "outputs": []
    },
    {
      "cell_type": "markdown",
      "source": [
        "## 존재여부 확인하기: `in`\n",
        "리스트에서 어떤 값의 존재를 확이하기 위해 `in`을 사용합니다. "
      ],
      "metadata": {
        "id": "CsanKTIHpQV1"
      }
    },
    {
      "cell_type": "code",
      "source": [
        "asian_countries = ['Korea', 'Japan', 'China', 'India', 'Vietnam']\n",
        "print('India' in asian_countries)\n",
        "print('Italy' in asian_countries)"
      ],
      "metadata": {
        "id": "ZVSh9bi9peDd"
      },
      "execution_count": null,
      "outputs": []
    },
    {
      "cell_type": "markdown",
      "source": [
        "## 값 세기: `count()`\n",
        "리스트에 특정 항목이 얼마나 있는지 세기 위해서 `count()`를 사용한다. "
      ],
      "metadata": {
        "id": "m1N2uOObpkGt"
      }
    },
    {
      "cell_type": "code",
      "source": [
        "asian_countries = ['Korea', 'Japan', 'China', 'India', 'Vietnam', 'Korea']\n",
        "print(asian_countries.count('India'), asian_countries.count('Korea'), asian_countries.count('Germany'))"
      ],
      "metadata": {
        "id": "ad_H11TPpziM"
      },
      "execution_count": null,
      "outputs": []
    },
    {
      "cell_type": "markdown",
      "source": [
        "## 정렬하기: `sort()`와 `sorted()`\n",
        "리스트에 속한 요소들을 값을 기반으로 정렬할 수 있습니다. \n",
        "- `sort()`는 리스트 자체를 **내부적으로(in place) 정렬**합니다. \n",
        "- `sorted()`는 리스트의 정렬된 **복사본을 반환**합니다. "
      ],
      "metadata": {
        "id": "qkQmIwZfp5Ak"
      }
    },
    {
      "cell_type": "markdown",
      "source": [
        "리스트의 요소가 숫자라면 오름차순(기본값)으로, 문자열이면 알파벳순으로 정렬합니다. "
      ],
      "metadata": {
        "id": "8t5-w3PoqE3f"
      }
    },
    {
      "cell_type": "code",
      "source": [
        "countries = ['Korea', 'Japan', 'China']\n",
        "countries.sort()\n",
        "print(countries)"
      ],
      "metadata": {
        "id": "RS_DbIUtp_mM"
      },
      "execution_count": null,
      "outputs": []
    },
    {
      "cell_type": "code",
      "source": [
        "countries = ['Korea', 'Japan', 'China']\n",
        "sorted_countries = sorted(countries)\n",
        "print(sorted_countries)\n",
        "print(countries)"
      ],
      "metadata": {
        "id": "XgHGwEfIqbPu"
      },
      "execution_count": null,
      "outputs": []
    },
    {
      "cell_type": "code",
      "source": [
        "numbers = [2, 1, 4.0, 3]\n",
        "numbers.sort()\n",
        "print(numbers)"
      ],
      "metadata": {
        "id": "0g57nrriqcAU"
      },
      "execution_count": null,
      "outputs": []
    },
    {
      "cell_type": "code",
      "source": [
        "numbers = [2, 1, 4.0, 3]\n",
        "sorted_numbers = sorted(numbers)\n",
        "print(sorted_numbers)"
      ],
      "metadata": {
        "id": "Nbw5CmFzqdnE"
      },
      "execution_count": null,
      "outputs": []
    },
    {
      "cell_type": "code",
      "source": [
        "print(numbers)"
      ],
      "metadata": {
        "id": "1oN7THnxqeSE"
      },
      "execution_count": null,
      "outputs": []
    },
    {
      "cell_type": "code",
      "source": [
        "numbers = [2, 1, 4.0, 3]\n",
        "numbers.sort(reverse=True)\n",
        "print(numbers)"
      ],
      "metadata": {
        "id": "BDvI8JfdqfRM"
      },
      "execution_count": null,
      "outputs": []
    },
    {
      "cell_type": "markdown",
      "source": [
        "## 항목 개수 얻기: `len()`\n",
        "`len()`은 리스트의 항목 수를 반환합니다. "
      ],
      "metadata": {
        "id": "MEmLNqGTqgBU"
      }
    },
    {
      "cell_type": "code",
      "source": [
        "numbers = [2, 1, 4.0, 3, 7]\n",
        "len(numbers)"
      ],
      "metadata": {
        "id": "DU8-ifpQq7HM"
      },
      "execution_count": null,
      "outputs": []
    },
    {
      "cell_type": "code",
      "source": [
        "tp = ('a', 1, 'Sudong Lee')\n",
        "len(tp)"
      ],
      "metadata": {
        "id": "IuTRKGeDrBT8"
      },
      "execution_count": null,
      "outputs": []
    },
    {
      "cell_type": "code",
      "source": [
        "a = [1, 2, [3, 4]]\n",
        "b = [1, 2, 3, 4]\n",
        "print(len(a), len(b))"
      ],
      "metadata": {
        "id": "x5Nkz12IJkF5"
      },
      "execution_count": null,
      "outputs": []
    },
    {
      "cell_type": "code",
      "source": [
        "a[2][0]"
      ],
      "metadata": {
        "id": "TFlPLb_WJrVD"
      },
      "execution_count": null,
      "outputs": []
    },
    {
      "cell_type": "markdown",
      "source": [
        "## 할당하기: `=`\n",
        "다음 예제와 같이 한 리스트를 변수 두 곳에 할당했을 때, 한 리스트를 변경하면 다른 리스트도 함께 변경됩니다. \n"
      ],
      "metadata": {
        "id": "SKLg0I9WrCU0"
      }
    },
    {
      "cell_type": "code",
      "source": [
        "a = [1, 2, 3]\n",
        "print(a)\n",
        "b = a\n",
        "print(b)\n",
        "a[0] = 'surprise'\n",
        "print(a)"
      ],
      "metadata": {
        "id": "8rhboSy5rFuN"
      },
      "execution_count": null,
      "outputs": []
    },
    {
      "cell_type": "markdown",
      "source": [
        "`b`에는 무엇이 있을까요? 여전히 `[1, 2, 3]`이 있을까요 아니면 `['surprise', 2, 3]`이 있을까요?"
      ],
      "metadata": {
        "id": "tljD3v8GrO8M"
      }
    },
    {
      "cell_type": "code",
      "source": [
        "print(b)"
      ],
      "metadata": {
        "id": "z5mTvdXfrXHM"
      },
      "execution_count": null,
      "outputs": []
    },
    {
      "cell_type": "markdown",
      "source": [
        "이 예제 기억 하시나요?\n",
        "\n",
        "<img src='https://user-images.githubusercontent.com/27403189/149526023-7649cf5c-c09d-4094-b490-0a8e29746ff9.png' width=300>"
      ],
      "metadata": {
        "id": "BilCBMm7rX_U"
      }
    },
    {
      "cell_type": "code",
      "source": [
        "a = 7\n",
        "b = a \n",
        "print(a)\n",
        "print(b)"
      ],
      "metadata": {
        "id": "cLoS4x3Orlub"
      },
      "execution_count": null,
      "outputs": []
    },
    {
      "cell_type": "code",
      "source": [
        "a = 3\n",
        "print(a)\n",
        "print(b)"
      ],
      "metadata": {
        "id": "4ZcO2OBfrwOE"
      },
      "execution_count": null,
      "outputs": []
    },
    {
      "cell_type": "markdown",
      "source": [
        "## 복사하기: `copy()`, `list()`, 슬라이스"
      ],
      "metadata": {
        "id": "Gdxa8TwYryTk"
      }
    },
    {
      "cell_type": "markdown",
      "source": [
        "다음과 같은 방법을 이용하여 한 리스트를 새로운 리스트로 **복사** 할 수 있다. \n",
        "- `copy()` 메서드\n",
        "- `list()` 변환 함수\n",
        "- 슬라이스 `[:]`"
      ],
      "metadata": {
        "id": "zcXxsjGtrw_U"
      }
    },
    {
      "cell_type": "code",
      "source": [
        "a = [1, 2, 3]\n",
        "b = a.copy() \n",
        "c = list(a)\n",
        "d = a[:]"
      ],
      "metadata": {
        "id": "zuQUTCLlsR5M"
      },
      "execution_count": null,
      "outputs": []
    },
    {
      "cell_type": "markdown",
      "source": [
        "위 코드에서 생성된 `b`, `c`, `d`는 모두 `a`의 **복사본**입니다. 이들은 자신만의 값을 가진 새로운 객체로, 원본 리스트 객체를 참조하지 않습니다. "
      ],
      "metadata": {
        "id": "bqDPSwEwsS7t"
      }
    },
    {
      "cell_type": "code",
      "source": [
        "a[0] = 'surprise'\n",
        "print(a)\n",
        "print(b, c, d)"
      ],
      "metadata": {
        "id": "IaZOP7ajsgo0"
      },
      "execution_count": null,
      "outputs": []
    },
    {
      "cell_type": "markdown",
      "source": [
        "## 순회하기: `for`와 `in`\n",
        "`for`와 `in`을 리스트와 함께 사용하면 반복문을 효과적으로 만들 수 있습니다. "
      ],
      "metadata": {
        "id": "nglvYz3Gshzj"
      }
    },
    {
      "cell_type": "code",
      "source": [
        "numbers = [1, 3, 5, 7, 9]\n",
        "for number in numbers:\n",
        "    print(number)"
      ],
      "metadata": {
        "id": "xG9lL6dXslgD"
      },
      "execution_count": null,
      "outputs": []
    },
    {
      "cell_type": "code",
      "source": [
        "for number in numbers:\n",
        "    if number % 2 == 0:\n",
        "        print(\"I don't like even numbers.\")\n",
        "        break\n",
        "else:\n",
        "    print(\"There is no even number.\")\n",
        "    "
      ],
      "metadata": {
        "id": "ln1ayrSEstxU"
      },
      "execution_count": null,
      "outputs": []
    },
    {
      "cell_type": "markdown",
      "source": [
        "## 여러 시퀀스 순회하기: `zip()`\n",
        "`zip()` 함수는 여러 시퀀스를 병렬로 순회합니다. "
      ],
      "metadata": {
        "id": "NTRH8lRlsy2k"
      }
    },
    {
      "cell_type": "code",
      "source": [
        "days = ['Monday', 'Tuesday', 'Wednesday']\n",
        "fruits = ['banana', 'orange', 'peach']\n",
        "drinks = ['coffee', 'tea', 'beer']\n",
        "desserts = ['tiramisu', 'ice cream', 'pie', 'pudding']"
      ],
      "metadata": {
        "id": "kfvChhA4s3WL"
      },
      "execution_count": null,
      "outputs": []
    },
    {
      "cell_type": "code",
      "source": [
        "for day, fruit, drink, dessert in zip(days, fruits, drinks, desserts):\n",
        "    print(f'{day} : drink {drink} - eat {fruit} - enjoy {dessert}')"
      ],
      "metadata": {
        "id": "SQ1ulOdds74D"
      },
      "execution_count": null,
      "outputs": []
    },
    {
      "cell_type": "markdown",
      "source": [
        "## 리스트 컴프리헨션(List Comprehension)\n",
        "- 지금까지는 `[]` 또는 `list()` 함수를 사용하여 리스트를 직접 작성했습니다. \n",
        "- 리스트 컴프리헨션을 사용하면 `for`/`in` 문의 순회 기능으로 리스트를 만들 수 있습니다."
      ],
      "metadata": {
        "id": "UAaPCg3ks8mj"
      }
    },
    {
      "cell_type": "code",
      "source": [
        "# Approach 1\n",
        "number_list = []\n",
        "number_list.append(1)\n",
        "number_list.append(2)\n",
        "number_list.append(3)\n",
        "number_list.append(4)\n",
        "number_list.append(5)\n",
        "print(number_list)"
      ],
      "metadata": {
        "id": "kqO4XiK9tRDj"
      },
      "execution_count": null,
      "outputs": []
    },
    {
      "cell_type": "code",
      "source": [
        "# Approach 2\n",
        "number_list = []\n",
        "for number in range(1, 6):\n",
        "    number_list.append(number)\n",
        "print(number_list)"
      ],
      "metadata": {
        "id": "uRJbRRpQtSar"
      },
      "execution_count": null,
      "outputs": []
    },
    {
      "cell_type": "code",
      "source": [
        "# Approach 3\n",
        "number_list = list(range(1, 6))\n",
        "print(number_list)"
      ],
      "metadata": {
        "id": "KKUKklEZtUAb"
      },
      "execution_count": null,
      "outputs": []
    },
    {
      "cell_type": "markdown",
      "source": [
        "- 위 세 가지 코드 모두 정상 작동하며 같은 결과를 냅니다.\n",
        "- 하지만 어떤 것이 더 좋아 보이나요? (우리의 시간은 소중합니다.)\n",
        "- 리스트 컴프리헨션의 가장 간단한 형태는: <br>\n",
        "</t> [_expression_ for _item_ in *iterable*]"
      ],
      "metadata": {
        "id": "qq5p5zUEtWG7"
      }
    },
    {
      "cell_type": "code",
      "source": [
        "# List comprehension\n",
        "number_list = [number for number in range(1, 6)]\n",
        "print(number_list)"
      ],
      "metadata": {
        "id": "sXoAm0tBthOD"
      },
      "execution_count": null,
      "outputs": []
    },
    {
      "cell_type": "code",
      "source": [
        "number_list = [number-1 for number in range(1, 6)]\n",
        "print(number_list)"
      ],
      "metadata": {
        "id": "YALlPkOAttS2"
      },
      "execution_count": null,
      "outputs": []
    },
    {
      "cell_type": "markdown",
      "source": [
        "조건문을 함께 활용할 수도 있습니다. 👍: <br>\n",
        "[_expression_ for _item_ in _iterable_ if *condition*]\n"
      ],
      "metadata": {
        "id": "-zF5sHbvt120"
      }
    },
    {
      "cell_type": "code",
      "source": [
        "a_list = [number for number in range(1, 6) if number % 2 == 1]\n",
        "print(a_list)"
      ],
      "metadata": {
        "id": "YdKYgN6It5QT"
      },
      "execution_count": null,
      "outputs": []
    },
    {
      "cell_type": "code",
      "source": [
        "a_list = []\n",
        "for number in range(1, 6):\n",
        "    if number % 2 == 1:\n",
        "        a_list.append(number)\n",
        "\n",
        "print(a_list)"
      ],
      "metadata": {
        "id": "5Yt_x_gzt-ab"
      },
      "execution_count": null,
      "outputs": []
    },
    {
      "cell_type": "markdown",
      "source": [
        "리스트 컴프리헨션을 통해 변수에 값을 할당할 수도 있습니다. "
      ],
      "metadata": {
        "id": "XwaDRyXvuKD6"
      }
    },
    {
      "cell_type": "code",
      "source": [
        "rows = range(1, 4)\n",
        "cols = range(1, 3)\n",
        "cells = [(row, col) for row in rows for col in cols]\n",
        "print(cells)"
      ],
      "metadata": {
        "id": "ugKxIF3puEIz"
      },
      "execution_count": null,
      "outputs": []
    },
    {
      "cell_type": "code",
      "source": [
        "rows = range(1, 4)\n",
        "cols = range(1, 3)\n",
        "for row in rows:\n",
        "    for col in cols:\n",
        "        print(row, col)"
      ],
      "metadata": {
        "id": "1Zc_4BP6t_nT"
      },
      "execution_count": null,
      "outputs": []
    },
    {
      "cell_type": "markdown",
      "source": [
        "# 마치며: 튜플 vs 리스트\n",
        "- 리스트 대신 튜플을 사용할 수 있다. \n",
        "- 하지만 튜플은 리스트의 `append()`, `insert()` 등과 같은 유용한 메서드가 없고, 수정할 수도 없다. \n",
        "- 그렇다면 튜플은 언제, 왜 사용하는 걸까?\n",
        "  - 튜플은 더 적은 공간을 사용한다. \n",
        "  - 실수로 튜플의 항목이 손상될 염려가 없다. \n",
        "  - 튜플을 딕셔너리 키로 사용할 수 있다. (딕셔너리는 다음 강의 참고)"
      ],
      "metadata": {
        "id": "pXDJodCCuU48"
      }
    }
  ]
}