{
  "nbformat": 4,
  "nbformat_minor": 0,
  "metadata": {
    "colab": {
      "name": "03_텍스트 문자열.ipynb",
      "private_outputs": true,
      "provenance": [],
      "collapsed_sections": [],
      "authorship_tag": "ABX9TyMUdJYmzOCZjLgcWbo0F2Nd",
      "include_colab_link": true
    },
    "kernelspec": {
      "name": "python3",
      "display_name": "Python 3"
    },
    "language_info": {
      "name": "python"
    }
  },
  "cells": [
    {
      "cell_type": "markdown",
      "metadata": {
        "id": "view-in-github",
        "colab_type": "text"
      },
      "source": [
        "<a href=\"https://colab.research.google.com/github/sudonglee/python-for-ds/blob/main/03_%ED%85%8D%EC%8A%A4%ED%8A%B8_%EB%AC%B8%EC%9E%90%EC%97%B4.ipynb\" target=\"_parent\"><img src=\"https://colab.research.google.com/assets/colab-badge.svg\" alt=\"Open In Colab\"/></a>"
      ]
    },
    {
      "cell_type": "markdown",
      "source": [
        "# **Lecture 03. 텍스트 문자열**\n",
        "- 작성자: 이수동 (울산대학교 산업경영공학부 | sudonglee@ulsan.ac.kr)\n",
        "- 참고자료: 빌 루바노빅, 『처음 시작하는 파이썬(2판)』, 최길우 옮김, 한빛미디어(2020)."
      ],
      "metadata": {
        "id": "0K4Ho7_jNXDD"
      }
    },
    {
      "cell_type": "markdown",
      "source": [
        "# **Introduction**\n",
        "- 일반적으로 **데이터 분석**이라고 하면, 숫자만을 다룰 것이라고 생각하기 쉽습니다.\n",
        "- 하지만 데이터 분석을 실제로 하다 보면 **문자열(string)**과 씨름해야 할 때가 굉장히 많습니다.\n",
        "- 이 강의에서 문자열은 Python **시퀀스(sequence)**의 첫 번째 예입니다. 문자열은 일련의 **문자(character)**입니다. \n",
        "- 이번 강의에서는 간단한 텍스트 문자열을 만들고 이를 다루는 방법들에 대해 배워봅시다. "
      ],
      "metadata": {
        "id": "sEH6gIuDDI8v"
      }
    },
    {
      "cell_type": "markdown",
      "source": [
        "# **문자열 생성**\n",
        "작은따옴표(`'`) 또는 큰따옴표(`\"`)로 문자열을 생성할 수 있습니다. "
      ],
      "metadata": {
        "id": "QALrAU8jYfki"
      }
    },
    {
      "cell_type": "code",
      "source": [
        "fruit = 'apple'\n",
        "print(fruit)"
      ],
      "metadata": {
        "id": "X4E5wujdZI3y"
      },
      "execution_count": null,
      "outputs": []
    },
    {
      "cell_type": "code",
      "source": [
        "print(type(fruit))"
      ],
      "metadata": {
        "id": "aTkyrYo8jfYq"
      },
      "execution_count": null,
      "outputs": []
    },
    {
      "cell_type": "code",
      "source": [
        "fruit"
      ],
      "metadata": {
        "id": "V0jeI_MyZaqV"
      },
      "execution_count": null,
      "outputs": []
    },
    {
      "cell_type": "code",
      "source": [
        "veg = \"carrot\"\n",
        "print(veg)"
      ],
      "metadata": {
        "id": "Q1aw8nulZbcc"
      },
      "execution_count": null,
      "outputs": []
    },
    {
      "cell_type": "code",
      "source": [
        "veg"
      ],
      "metadata": {
        "id": "nRg3peAsJ5Ws"
      },
      "execution_count": null,
      "outputs": []
    },
    {
      "cell_type": "code",
      "source": [
        "print('A student said, \"This lecture is awesome!\".')\n",
        "print(\"You can use 'single quotes' between a pair of 'double quotes'.\")"
      ],
      "metadata": {
        "id": "yTk5m6MAZcr0"
      },
      "execution_count": null,
      "outputs": []
    },
    {
      "cell_type": "markdown",
      "source": [
        "삼중따옴표(`'''`)로 여러 줄의 문자열을 만들 수 있습니다."
      ],
      "metadata": {
        "id": "7j75Q6e0ZegU"
      }
    },
    {
      "cell_type": "code",
      "source": [
        "poem = '''\n",
        "One little, \n",
        "Two little, \n",
        "Tree little boys.\n",
        "'''\n",
        "print(poem)"
      ],
      "metadata": {
        "id": "yKhRZfFVZmX0"
      },
      "execution_count": null,
      "outputs": []
    },
    {
      "cell_type": "markdown",
      "source": [
        "빈 문자열도 만들 수 있습니다."
      ],
      "metadata": {
        "id": "SIUwfM6aZnHc"
      }
    },
    {
      "cell_type": "code",
      "source": [
        "empty_str = ''\n",
        "print(type(empty_str))"
      ],
      "metadata": {
        "id": "VZGoq3YlKwtb"
      },
      "execution_count": null,
      "outputs": []
    },
    {
      "cell_type": "code",
      "source": [
        "''"
      ],
      "metadata": {
        "id": "oVutzzrxZsZk"
      },
      "execution_count": null,
      "outputs": []
    },
    {
      "cell_type": "code",
      "source": [
        "\"\""
      ],
      "metadata": {
        "id": "gwtOId3fZtsk"
      },
      "execution_count": null,
      "outputs": []
    },
    {
      "cell_type": "code",
      "source": [
        "''''''"
      ],
      "metadata": {
        "id": "8kna4REXZuUU"
      },
      "execution_count": null,
      "outputs": []
    },
    {
      "cell_type": "code",
      "source": [
        "\"\"\"\"\"\""
      ],
      "metadata": {
        "id": "JXzd5NULZvKU"
      },
      "execution_count": null,
      "outputs": []
    },
    {
      "cell_type": "markdown",
      "source": [
        "`str()` 함수는 다른 데이터 타입을 문자열로 변환합니다.\n"
      ],
      "metadata": {
        "id": "r_6ngT9CZv70"
      }
    },
    {
      "cell_type": "code",
      "source": [
        "print(str(98.6))\n",
        "print(str(1.0e4))\n",
        "print(str(True))"
      ],
      "metadata": {
        "id": "9_vwHLKsZ187"
      },
      "execution_count": null,
      "outputs": []
    },
    {
      "cell_type": "markdown",
      "source": [
        "# **결합하기: `+`**\n",
        "`+` 연산자를 사용하여 여러 문자열을 결합할 수 있습니다."
      ],
      "metadata": {
        "id": "GCmADghrZ2KT"
      }
    },
    {
      "cell_type": "code",
      "source": [
        "'Python is fun! ' + \"Isn't it?\""
      ],
      "metadata": {
        "id": "VIUkqrEIaD8D"
      },
      "execution_count": null,
      "outputs": []
    },
    {
      "cell_type": "markdown",
      "source": [
        "괄호로 묶어서 여러 줄에 걸쳐 문자열을 결합할 수도 있습니다."
      ],
      "metadata": {
        "id": "0RefHpUHaPks"
      }
    },
    {
      "cell_type": "code",
      "source": [
        "vowels = ('a' \"e\" '''i''' 'o' \"\"\"u\"\"\")\n",
        "print(vowels)"
      ],
      "metadata": {
        "id": "4K4cuL9magZz"
      },
      "execution_count": null,
      "outputs": []
    },
    {
      "cell_type": "markdown",
      "source": [
        "# **복제하기: `*`**\n",
        "`*` 연산자를 사용하여 문자열을 반복하여 복제할 수 있습니다."
      ],
      "metadata": {
        "id": "s-d6IhSsah2j"
      }
    },
    {
      "cell_type": "code",
      "source": [
        "say = 'Bye '\n",
        "print(say * 3) # say + say + say"
      ],
      "metadata": {
        "id": "2OjyA_ABanfb"
      },
      "execution_count": null,
      "outputs": []
    },
    {
      "cell_type": "markdown",
      "source": [
        "# **문자 추출: [offset]**\n"
      ],
      "metadata": {
        "id": "B3iU4Sb8avEM"
      }
    },
    {
      "cell_type": "markdown",
      "source": [
        "## 인덱싱(Indexing)\n",
        "- 문자열에서 한 문자를 얻기 위해서는 문자열 이름 뒤에 대괄호(`[]`)와 **오프셋(offset)**을 지정합니다. \n",
        "- 이는 Python의 시퀀스에 동일하게 적용됩니다. 오프셋으로 시퀀스의 요소(element)를 추출하는 동작을 **인덱싱(indexing)**이라고 부르기도 합니다. \n",
        "- 가장 왼쪽의 오프셋은 `0`이고, 그 다음은 `1`, `2`, ...로 진행됩니다. \n",
        "- 가장 오른쪽의 오프셋은 `-1`입니다."
      ],
      "metadata": {
        "id": "ihB7Jm2RgDL6"
      }
    },
    {
      "cell_type": "code",
      "source": [
        "letters = 'abcdefghijklmnopqrstuvwxyz'\n",
        "print(letters)\n",
        "print(letters[0])\n",
        "print(letters[1])\n",
        "print(letters[5])\n",
        "print(letters[-1])\n",
        "print(letters[25])\n",
        "print(letters[-2])"
      ],
      "metadata": {
        "id": "Mepju0bHa09E"
      },
      "execution_count": null,
      "outputs": []
    },
    {
      "cell_type": "markdown",
      "source": [
        "문자열 범위 밖의 오프셋을 지정하면 다음과 같은 오류(예외)가 출력됩니다."
      ],
      "metadata": {
        "id": "oBdvWAgZbWub"
      }
    },
    {
      "cell_type": "code",
      "source": [
        "letters[100]"
      ],
      "metadata": {
        "id": "HGcuOOIFbfmD"
      },
      "execution_count": null,
      "outputs": []
    },
    {
      "cell_type": "markdown",
      "source": [
        "## 슬라이싱(Slicing)\n",
        "- 슬라이싱은 사용하여 한 시퀀스(문자열)에서 여러 요소(문자)로 이루어진 **슬라이스(slice)**를 추출할 수 있습니다.\n",
        "- 대괄호(`[]`)를 사용하여 시작(`start`) 오프셋, 끝(`end`) 오프셋, 옵션으로 스텝(`step`)을 명시하여 슬라이스를 정의합니다. (일부를 생략할 수 있습니다.)\n",
        "- 슬라이스는 오프셋의 `start`와 `end-1` 사이 문자를 포함합니다."
      ],
      "metadata": {
        "id": "2NN0r12ScINT"
      }
    },
    {
      "cell_type": "markdown",
      "source": [
        "아래의 슬라이싱 규칙을 살펴봅시다. \n",
        "- `[:]`: 처음부터 끝까지 전체 시퀀스를 추출한다.\n",
        "- `[start:]`: `start` 오프셋부터 끝까지 시퀀스를 추출한다.\n",
        "- `[:end]`: 처음부터 `(end - 1)` 오프셋까지 시퀀스를 추출한다.\n",
        "- `[start : end]`: `start` 오프셋부터 `(end - 1)` 오프셋까지 시퀀스를 추출한다.\n",
        "- `[start : end : step]`: `step`만큰 문자를 건너뛰면서, `start` 오프셋부터 `(end - 1)` 오프셋까지 시퀀스를 추출한다."
      ],
      "metadata": {
        "id": "8rsFNNlLgLQj"
      }
    },
    {
      "cell_type": "code",
      "source": [
        "letters = 'abcdefghijklmnopqrstuvwxyz'\n",
        "print(letters)"
      ],
      "metadata": {
        "id": "_ot9k6fyhZ6f"
      },
      "execution_count": null,
      "outputs": []
    },
    {
      "cell_type": "code",
      "source": [
        "print('letters[:]\\t', letters[:])"
      ],
      "metadata": {
        "id": "u-1oDPSZhVUZ"
      },
      "execution_count": null,
      "outputs": []
    },
    {
      "cell_type": "code",
      "source": [
        "print('letters[20:]\\t', letters[20:])\n",
        "print('letters[10:]\\t', letters[10:])\n",
        "print('letters[:20]\\t', letters[:20])\n",
        "print('letters[:10]\\t', letters[:10])"
      ],
      "metadata": {
        "id": "dfBGTlVbhbdp"
      },
      "execution_count": null,
      "outputs": []
    },
    {
      "cell_type": "code",
      "source": [
        "print(letters[0])\n",
        "print(letters[1])\n",
        "print(letters[2])\n",
        "print(letters[0:2])"
      ],
      "metadata": {
        "id": "rRg2urVUhb2R"
      },
      "execution_count": null,
      "outputs": []
    },
    {
      "cell_type": "code",
      "source": [
        "print('letters[12:15]\\t', letters[12:15])\n",
        "print('letters[18:-3]\\t', letters[18:-3])\n",
        "print('letters[-6:-2]\\t', letters[-6:-2])"
      ],
      "metadata": {
        "id": "IyNVGPizhdXx"
      },
      "execution_count": null,
      "outputs": []
    },
    {
      "cell_type": "markdown",
      "source": [
        "이스케이프(escape) 문자 `\\`는 문자열 안의 일부 문자의 의미를 다르게 해석하여 특정 효과를 줄 수 있습니다. \n",
        "- `\\t`: tab\n",
        "- `\\n`: new line"
      ],
      "metadata": {
        "id": "Hvmp6mAyi7Yx"
      }
    },
    {
      "cell_type": "code",
      "source": [
        "print(letters)\n",
        "print('letters[::7]\\t', letters[::7])\n",
        "print('letters[4:20:3]\\t', letters[4:20:3])\n",
        "print('letters[19::4]\\t', letters[19::4])\n",
        "print('letters[:21:5]\\t', letters[:21:5])\n",
        "print('letters[-1::-1]\\t', letters[-1::-1])\n",
        "print('letters[::-1]\\t', letters[::-1])"
      ],
      "metadata": {
        "id": "QBb0BLEPheTZ"
      },
      "execution_count": null,
      "outputs": []
    },
    {
      "cell_type": "code",
      "source": [
        "print('letters[::7]\\n', letters[::7])"
      ],
      "metadata": {
        "id": "Yr13C0kmPR5B"
      },
      "execution_count": null,
      "outputs": []
    },
    {
      "cell_type": "code",
      "source": [
        "print('letters[-50:]\\t', letters[-50:])\n",
        "print('letters[-51:-50]\\t', letters[-51:-50])\n",
        "print('letters[:70]\\t', letters[:70])\n",
        "print('letters[70:71]\\t', letters[70:71])"
      ],
      "metadata": {
        "id": "m9KNuRgRhfta"
      },
      "execution_count": null,
      "outputs": []
    },
    {
      "cell_type": "markdown",
      "source": [
        "# **문자열의 길이: `len()`**\n",
        "`len()` 함수는 시퀀스의 길이, 즉 시퀀스에 포함된 요소의 수를 반환합니다.\n"
      ],
      "metadata": {
        "id": "l_EPIBJAhjqQ"
      }
    },
    {
      "cell_type": "code",
      "source": [
        "letters = 'abcdefghijklmnopqrstuvwxyz'\n",
        "print(len(letters))"
      ],
      "metadata": {
        "id": "8aCUvsM5hq6p"
      },
      "execution_count": null,
      "outputs": []
    },
    {
      "cell_type": "markdown",
      "source": [
        "# **문자열 편집을 위한 다양한 메서드**\n",
        "- `len()`과 같은 함수는 Python의 모든 시퀀스 타입에 적용할 수 있는 일반적인 **함수(function)**입니다. \n",
        "- 반면 객체에 종속되는 함수인 **메서드(method)**는 해당 객체의 타입에만 적용 가능한 특정 기능을 수행합니다. \n",
        "- Python은 문자열 편집을 위한 유용한 메서드를 다양하게 제공합니다. "
      ],
      "metadata": {
        "id": "rA4bd5XPh6wh"
      }
    },
    {
      "cell_type": "markdown",
      "source": [
        "## 문자열 나누기: `split()`"
      ],
      "metadata": {
        "id": "tlEZrvy2h7N6"
      }
    },
    {
      "cell_type": "code",
      "source": [
        "types = 'int, float, str, bool'\n",
        "ls = types.split(',')\n",
        "print(ls)\n",
        "print(type(ls))"
      ],
      "metadata": {
        "id": "QWwOwLbbiBnb"
      },
      "execution_count": null,
      "outputs": []
    },
    {
      "cell_type": "markdown",
      "source": [
        "## 문자열 결합하기: `join()`"
      ],
      "metadata": {
        "id": "SNBNL9SJiFXj"
      }
    },
    {
      "cell_type": "code",
      "source": [
        "print(ls)\n",
        "print(','.join(ls))"
      ],
      "metadata": {
        "id": "Gr-78tYxi5Fp"
      },
      "execution_count": null,
      "outputs": []
    },
    {
      "cell_type": "code",
      "source": [
        "print('\\n'.join(ls))"
      ],
      "metadata": {
        "id": "PokSR3O_i6fp"
      },
      "execution_count": null,
      "outputs": []
    },
    {
      "cell_type": "markdown",
      "source": [
        "## 문자열 대체하기: `replace()`\n",
        "- `str`은 **불변(immutable)** 타입으로 임의의 인덱스에 값을 대입할 수 없습니다. (관련 내용은 *'튜플과 리스트'* 강의에서 자세히 다루겠습니다.)\n",
        "- 문자열 일부를 대체하기 위해서는 `replace()` 메서드를 사용합니다. "
      ],
      "metadata": {
        "id": "427SGXpFjX_x"
      }
    },
    {
      "cell_type": "code",
      "source": [
        "setup = \"a duck goes into a bar...\"\n",
        "setup.replace('duck', 'dog')"
      ],
      "metadata": {
        "id": "YaAaLE1ejQXJ"
      },
      "execution_count": null,
      "outputs": []
    },
    {
      "cell_type": "markdown",
      "source": [
        "`replace()`로 편집된 `setup`이 출력될 뿐, `setup` 변수는 그대로 존재합니다. "
      ],
      "metadata": {
        "id": "fsgsh-a7kVyS"
      }
    },
    {
      "cell_type": "code",
      "source": [
        "print(setup)"
      ],
      "metadata": {
        "id": "hT0dqyMBkDTZ"
      },
      "execution_count": null,
      "outputs": []
    },
    {
      "cell_type": "code",
      "source": [
        "setup2 = setup.replace('duck', 'dog')\n",
        "print(setup2)"
      ],
      "metadata": {
        "id": "59WXiwLIRR6r"
      },
      "execution_count": null,
      "outputs": []
    },
    {
      "cell_type": "code",
      "source": [
        "print(setup.replace('a ', 'a famous '))\n",
        "print(setup.replace('a ', 'a famous ', 1))"
      ],
      "metadata": {
        "id": "AA60wmNwkE_o"
      },
      "execution_count": null,
      "outputs": []
    },
    {
      "cell_type": "markdown",
      "source": [
        "## 대소 문자"
      ],
      "metadata": {
        "id": "Q3k4yjFhkH8B"
      }
    },
    {
      "cell_type": "code",
      "source": [
        "setup = 'a duck goes into a bar...'"
      ],
      "metadata": {
        "id": "NjdcO4ock1ZC"
      },
      "execution_count": null,
      "outputs": []
    },
    {
      "cell_type": "code",
      "source": [
        "# 첫 문자를 대문자로 변환\n",
        "setup.capitalize()"
      ],
      "metadata": {
        "id": "lUUPVytek7Eg"
      },
      "execution_count": null,
      "outputs": []
    },
    {
      "cell_type": "code",
      "source": [
        "# 모든 문자를 대문자로 변환\n",
        "setup.upper()"
      ],
      "metadata": {
        "id": "byK6CV4gk8FQ"
      },
      "execution_count": null,
      "outputs": []
    },
    {
      "cell_type": "code",
      "source": [
        "# 모든 문자를 소문자로 변환\n",
        "setup.lower()"
      ],
      "metadata": {
        "id": "j77hBChqk9Eg"
      },
      "execution_count": null,
      "outputs": []
    },
    {
      "cell_type": "markdown",
      "source": [
        "## 포매팅\n",
        "포매팅을 사용하여 변수에 할당된 데이터 값을 문자열에 삽입할 수 있습니다."
      ],
      "metadata": {
        "id": "gRCua6Qmk-Do"
      }
    },
    {
      "cell_type": "code",
      "source": [
        "who = 'cat'\n",
        "where = 'room'\n",
        "print(f'The {who} goes into the {where}.')"
      ],
      "metadata": {
        "id": "uwll5AXplITD"
      },
      "execution_count": null,
      "outputs": []
    },
    {
      "cell_type": "code",
      "source": [
        "# Expressions are allowed inside the curly brakets:\n",
        "print(f'The {who.capitalize()} goes into the {where.rjust(20)}.')"
      ],
      "metadata": {
        "id": "euKv018rlMwp"
      },
      "execution_count": null,
      "outputs": []
    }
  ]
}