{
  "nbformat": 4,
  "nbformat_minor": 0,
  "metadata": {
    "colab": {
      "name": "08_객체와 클래스.ipynb",
      "private_outputs": true,
      "provenance": [],
      "collapsed_sections": [],
      "authorship_tag": "ABX9TyPXDfxHB3p4rdkpnsnlqYs6",
      "include_colab_link": true
    },
    "kernelspec": {
      "name": "python3",
      "display_name": "Python 3"
    },
    "language_info": {
      "name": "python"
    }
  },
  "cells": [
    {
      "cell_type": "markdown",
      "metadata": {
        "id": "view-in-github",
        "colab_type": "text"
      },
      "source": [
        "<a href=\"https://colab.research.google.com/github/sudonglee/python-for-ds/blob/main/08_%EA%B0%9D%EC%B2%B4%EC%99%80_%ED%81%B4%EB%9E%98%EC%8A%A4.ipynb\" target=\"_parent\"><img src=\"https://colab.research.google.com/assets/colab-badge.svg\" alt=\"Open In Colab\"/></a>"
      ]
    },
    {
      "cell_type": "markdown",
      "source": [
        "# **Lecture 08. 객체와 클래스**\n",
        "- 작성자: 이수동 (울산대학교 산업경영공학부 | sudonglee@ulsan.ac.kr)\n",
        "- 참고자료: 빌 루바노빅, 『처음 시작하는 파이썬(2판)』, 최길우 옮김, 한빛미디어(2020)."
      ],
      "metadata": {
        "id": "uswvHAR1QTSM"
      }
    },
    {
      "cell_type": "markdown",
      "source": [
        "# **Introduction**\n",
        "- \"숫자에서 함수까지 Python의 모든 것은 **객체(object)**입니다.\"\n",
        "- 하지만 Python은 특수 구문을 이용해서 대부분의 객체를 숨깁니다!\n",
        "  - 예를 들어, `num = 7`을 입력했을 때, Python 인터프리터는 `7`이 담긴 *정수 유형*의 객체를 생성하고 *객체 참조(object reference)*를 `num`에 할당합니다. \n",
        "  - `num`은 정수(`int`)라는 객체의 유형에 미리 저장되어 있는 *특징*과 *기능*들을 가지게 됩니다. `num = 5`를 명령했을 때도 값만 바뀔 뿐 마찬가지겠죠?\n",
        "  - 하지만 `num = 'number'`를 명령했다면 완전히 다른 객체(`str`)가 만들어졌을 겁니다.\n",
        "- 이번 강의에서는 Python에서 객체가 어떻게 작동하는지 살펴보고, **클래스(class)**라는 기능을 통해 나만의 객체를 정의해봅시다."
      ],
      "metadata": {
        "id": "GoU4UITNalKG"
      }
    },
    {
      "cell_type": "markdown",
      "source": [
        "# **객체란 무엇인가?**\n",
        "- 객체는 데이터(변수, **속성(attribute)**이라고 부름)와 코드(함수, **메서드(method)**라고 부름)를 포함하는 커스텀 자료구조입니다. \n",
        "- 코드에서 정의된 개별 객체는 **인스턴스(instance)**로 표현됩니다. \n",
        "- 객체를 *명사*로, 메서드를 *동사*로 생각해보세요. \n",
        "  - `7`이라는 값을 가진 *정수 객체*는 덧셈이나 곱셈 같은 계산을 쉽게 해주는 객체입니다. \n",
        "  - 값 `8`은 또 다른 객체입니다. \n",
        "  - 이를 통해 Python 어딘가에 `7`과 `8`이 속하는 정수 클래스(`int`)가 존재함을 알 수 있습니다. \n",
        "  - 문자열 `cat`과 `duck`도 객체고, `capitalize()`나 `replace()`와 같은 메서드를 가지고 있습니다. "
      ],
      "metadata": {
        "id": "5LjXSINsaobc"
      }
    },
    {
      "cell_type": "markdown",
      "source": [
        "# **객체 만들기**"
      ],
      "metadata": {
        "id": "_4qX70l7iM9Y"
      }
    },
    {
      "cell_type": "markdown",
      "source": [
        "## 클래스 선언하기: `class`\n",
        "- 새로운 객체를 생성하기 위해 객체에 포함된 내용을 나타내는 **클래스(class)**를 정의합니다.\n",
        "- 앞서 객체를 상자에 비유했습니다. **클래스**는 상자를 만드는 틀에 비유할 수 있습니다. "
      ],
      "metadata": {
        "id": "qeFMs2wVivhJ"
      }
    },
    {
      "cell_type": "markdown",
      "source": [
        "고양이에 대한 정보를 나타내는 객체인 `Cat` 클래스를 정의해겠습니다. "
      ],
      "metadata": {
        "id": "vXJHMizoS4rG"
      }
    },
    {
      "cell_type": "code",
      "source": [
        "class Cat():\n",
        "  pass"
      ],
      "metadata": {
        "id": "V0w5-uRbTOYO"
      },
      "execution_count": null,
      "outputs": []
    },
    {
      "cell_type": "markdown",
      "source": [
        "- 현재 `Cat()` 클래스는 비어 있습니다. \n",
        "- 함수처럼 클래스 이름을 호출하여 클래스로부터 객체를 생성할 수 있습니다."
      ],
      "metadata": {
        "id": "KClkr2DXTQlX"
      }
    },
    {
      "cell_type": "code",
      "source": [
        "a_cat = Cat()\n",
        "another_cat = Cat()"
      ],
      "metadata": {
        "id": "3CMhFpCMTimW"
      },
      "execution_count": null,
      "outputs": []
    },
    {
      "cell_type": "code",
      "source": [
        "print(a_cat)"
      ],
      "metadata": {
        "id": "NqvHMqN2TmEX"
      },
      "execution_count": null,
      "outputs": []
    },
    {
      "cell_type": "markdown",
      "source": [
        "## 속성\n",
        "- **속성(attribute)**은 클래스나 객체 내부의 변수입니다. \n",
        "- 객체나 클래스가 생성되는 동안이나 이후에 속성을 할당할 수 있으며, 속성은 또 다른 객체가 될 수 있습니다. "
      ],
      "metadata": {
        "id": "O5Ks027MTndm"
      }
    },
    {
      "cell_type": "code",
      "source": [
        "a_cat.age = 3\n",
        "a_cat.name = 'Kitty'"
      ],
      "metadata": {
        "id": "I8btqoiHTsEg"
      },
      "execution_count": null,
      "outputs": []
    },
    {
      "cell_type": "code",
      "source": [
        "print(a_cat.age)\n",
        "print(a_cat.name)"
      ],
      "metadata": {
        "id": "fyo_sdMsXoq9"
      },
      "execution_count": null,
      "outputs": []
    },
    {
      "cell_type": "code",
      "source": [
        "print(a_cat)"
      ],
      "metadata": {
        "id": "W0fyhv6SF7KE"
      },
      "execution_count": null,
      "outputs": []
    },
    {
      "cell_type": "code",
      "source": [
        "another_cat.age = 2\n",
        "another_cat.name = 'Prince'"
      ],
      "metadata": {
        "id": "-VcASsfvF_V-"
      },
      "execution_count": null,
      "outputs": []
    },
    {
      "cell_type": "code",
      "source": [
        "print(another_cat.age)\n",
        "print(another_cat.name)"
      ],
      "metadata": {
        "id": "k6JFjKCaGJkg"
      },
      "execution_count": null,
      "outputs": []
    },
    {
      "cell_type": "markdown",
      "source": [
        "## 초기화\n",
        "객체를 생성할 때 속성을 할당하려면 객체 **초기화(initialization)** 메서드 `__init()__`을 사용합니다.\n",
        "- `__init()__`는 클래스 정의에서 개별 객체를 초기화하는 특수 메서드입니다. \n",
        "- `self` 매개변수는 개별 객체 자신을 참조합니다. \n"
      ],
      "metadata": {
        "id": "UnSE-AfEXo6E"
      }
    },
    {
      "cell_type": "code",
      "source": [
        "class Cat():\n",
        "    def __init__(self):\n",
        "        pass"
      ],
      "metadata": {
        "id": "Fwpo9v88Yi4U"
      },
      "execution_count": null,
      "outputs": []
    },
    {
      "cell_type": "markdown",
      "source": [
        "초기화 메서드에 매개변수 이름, `name`을 추가해봅시다. "
      ],
      "metadata": {
        "id": "tWKOKnOOYrbn"
      }
    },
    {
      "cell_type": "code",
      "source": [
        "class Cat():\n",
        "    def __init__(self, name):\n",
        "        self.name = name"
      ],
      "metadata": {
        "id": "3M94ZtrtXuaN"
      },
      "execution_count": null,
      "outputs": []
    },
    {
      "cell_type": "markdown",
      "source": [
        "이제 `name` 매개변수에 문자열을 전달하여 `Cat` 클래스로부터 객체를 생성할 수 있습니다.  "
      ],
      "metadata": {
        "id": "bOwI8nFxYI9V"
      }
    },
    {
      "cell_type": "code",
      "source": [
        "my_cat = Cat('Kitty')"
      ],
      "metadata": {
        "id": "JPMgXna3YBhc"
      },
      "execution_count": null,
      "outputs": []
    },
    {
      "cell_type": "code",
      "source": [
        "print(my_cat.name)"
      ],
      "metadata": {
        "id": "uxRCGN2aY1OD"
      },
      "execution_count": null,
      "outputs": []
    },
    {
      "cell_type": "markdown",
      "source": [
        "위 코드가 어떻게 동작하는지 살펴보겠습니다. \n",
        "1. `Cat` 클래스의 정의를 찾는다. \n",
        "2. 메모리에 새 객체를 **초기화**(생성)한다.\n",
        "3. 객체의 `__init__` 메서드를 호출한다. 새롭게 생성된 객체를 `self`에 전달하고, 인수(`Kitty`)를 `name`에 전달한다. \n",
        "4. 객체에 `name` 값을 저장한다. \n",
        "5. 새 객체를 반환한다. \n",
        "6. `my_cat` 변수에 이 객체를 연결한다. "
      ],
      "metadata": {
        "id": "LQT3gjJYY2HU"
      }
    },
    {
      "cell_type": "code",
      "source": [
        "class Cat():\n",
        "    def __init__(self, name, age):\n",
        "        self.name = name\n",
        "        self.age = age"
      ],
      "metadata": {
        "id": "sOeFA4zYHh3r"
      },
      "execution_count": null,
      "outputs": []
    },
    {
      "cell_type": "code",
      "source": [
        "my_cat = Cat('Kitty', 3)"
      ],
      "metadata": {
        "id": "Px3fZP6zHltE"
      },
      "execution_count": null,
      "outputs": []
    },
    {
      "cell_type": "code",
      "source": [
        "print(my_cat.age)"
      ],
      "metadata": {
        "id": "LXJjlil-Hr-a"
      },
      "execution_count": null,
      "outputs": []
    },
    {
      "cell_type": "markdown",
      "source": [
        "# **상속**\n",
        "- 어떤 코딩 문제를 해결하기 위해 기존에 존재하는 클래스를 사용해야 할 수 있습니다. 문제를 풀면서 필요한 기능은 추가할 수도 있습니다. 이때 우리는 어떻게 해야 할까요?\n",
        "  - 기존 클래스를 수정하면 클래스가 더 복잡해지고, 코드를 잘못 건드려 수행할 수 없게 될 수 있습니다. \n",
        "  - 기존 클래스를 복사해서 새 클래스를 만들 수도 있습니다. 하지만 이 경우엔 우리가 관리해야 할 코드가 더 많아집니다. \n",
        "- 이 문제는 **상속(inherit)**으로 해결할 수 있습니다. \n",
        "  - 기존 클래스에서 일부를 추가하거나 변경하여 새 클래스를 생성할 수 있습니다. \n",
        "  - 새로운 클래스는 기존 클래스를 복사하지 않고도, 기존 클래스의 모든 코드를 사용할 수 있습니다. \n"
      ],
      "metadata": {
        "id": "RMBiZTFnZTJj"
      }
    },
    {
      "cell_type": "markdown",
      "source": [
        "## 부모 클래스 상속받기\n",
        "- 기존 클래스에서 필요한 것만 추가하거나 변경해서 새 클래스를 정의합니다.\n",
        "- 기존 클래스의 행동(behavior)를 오버라이드(override)합니다.\n",
        "- 기존 클래스는 부모(parent)/슈퍼(super)/베이스(base) 클래스라고 부릅니다.\n",
        "- 새 클래스는 자식(child)/서브(sub)/파생된(derived) 클래스라고 부릅니다. "
      ],
      "metadata": {
        "id": "U-lNqsGAk-u-"
      }
    },
    {
      "cell_type": "markdown",
      "source": [
        "예시로 자동차를 나타내는 클래스 `Car`와 SUV를 나타내는 클래스 `SUV`를 정의합니다. "
      ],
      "metadata": {
        "id": "X5oygCjgZYel"
      }
    },
    {
      "cell_type": "code",
      "source": [
        "class Car():\n",
        "  pass\n",
        "\n",
        "class SUV(Car):\n",
        "  pass"
      ],
      "metadata": {
        "id": "7b4f3Ak0nHiK"
      },
      "execution_count": null,
      "outputs": []
    },
    {
      "cell_type": "markdown",
      "source": [
        "- SUV는 SUV이기 이전에 자동차(Car)입니다. SUV는 자동차의 특성을 모두 똑같이 가진 채로, SUV만의 특징을 더 가집니다. \n",
        "- 따라서 `SUV` 클래스는 `Car` 클래스를 상속하였습니다. "
      ],
      "metadata": {
        "id": "DYhYLR6qnMrs"
      }
    },
    {
      "cell_type": "code",
      "source": [
        "issubclass(SUV, Car)"
      ],
      "metadata": {
        "id": "qRTd2tEGnWNs"
      },
      "execution_count": null,
      "outputs": []
    },
    {
      "cell_type": "markdown",
      "source": [
        "`Car` 클래스에 행동(behavior)을 추가해보겠습니다. "
      ],
      "metadata": {
        "id": "dOH3lFCEnn-x"
      }
    },
    {
      "cell_type": "code",
      "source": [
        "class Car():\n",
        "    def __init__(self, name):\n",
        "        self.name = name\n",
        "    def exclaim(self):\n",
        "        print(\"I'm a Car!\")"
      ],
      "metadata": {
        "id": "jNtxeRG-nY2d"
      },
      "execution_count": null,
      "outputs": []
    },
    {
      "cell_type": "code",
      "source": [
        "class SUV(Car):\n",
        "    pass"
      ],
      "metadata": {
        "id": "dw1e2cr-nmms"
      },
      "execution_count": null,
      "outputs": []
    },
    {
      "cell_type": "code",
      "source": [
        "a_car = Car('Sonata')"
      ],
      "metadata": {
        "id": "WBb1Gm2fJIwH"
      },
      "execution_count": null,
      "outputs": []
    },
    {
      "cell_type": "code",
      "source": [
        "a_suv = SUV('Santafe')"
      ],
      "metadata": {
        "id": "zQAapAv9JNzm"
      },
      "execution_count": null,
      "outputs": []
    },
    {
      "cell_type": "code",
      "source": [
        "print(a_car.name, a_suv.name)"
      ],
      "metadata": {
        "id": "memXnvxEnzAM"
      },
      "execution_count": null,
      "outputs": []
    },
    {
      "cell_type": "code",
      "source": [
        "a_car.exclaim()"
      ],
      "metadata": {
        "id": "Y1IgJOXJJT7c"
      },
      "execution_count": null,
      "outputs": []
    },
    {
      "cell_type": "code",
      "source": [
        "a_suv.exclaim()"
      ],
      "metadata": {
        "id": "41t4u0hzn04U"
      },
      "execution_count": null,
      "outputs": []
    },
    {
      "cell_type": "markdown",
      "source": [
        "## 메서드 오버라이드\n",
        "- 부모 메서드를 오버라이드(override)하는 방법을 살펴보겠습니다. \n",
        "- SUV만의 특징을 추가해봅시다."
      ],
      "metadata": {
        "id": "dQDKw8S8n2VN"
      }
    },
    {
      "cell_type": "code",
      "source": [
        "class Car():\n",
        "  def exclaim(self):\n",
        "    print(\"I'm a Car!\")\n",
        "\n",
        "class SUV(Car):\n",
        "  def exclaim(self):\n",
        "    print(\"I'm a SUV! Although I'm a car, I have my own characteristics!\")"
      ],
      "metadata": {
        "id": "U2YHI4VEoAxW"
      },
      "execution_count": null,
      "outputs": []
    },
    {
      "cell_type": "code",
      "source": [
        "a_car = Car()\n",
        "a_suv = SUV()"
      ],
      "metadata": {
        "id": "jXrTeC99oO3E"
      },
      "execution_count": null,
      "outputs": []
    },
    {
      "cell_type": "code",
      "source": [
        "a_car.exclaim()"
      ],
      "metadata": {
        "id": "huRK7WgIoP-E"
      },
      "execution_count": null,
      "outputs": []
    },
    {
      "cell_type": "code",
      "source": [
        "a_suv.exclaim()"
      ],
      "metadata": {
        "id": "DRSLOA85oSQz"
      },
      "execution_count": null,
      "outputs": []
    },
    {
      "cell_type": "code",
      "source": [
        "class Person():\n",
        "    def __init__(self, name):\n",
        "        self.name = name\n",
        "\n",
        "class Doctor(Person):\n",
        "    def __init__(self, name):\n",
        "        self.name = 'Dr. ' + name"
      ],
      "metadata": {
        "id": "vLeTEi8GoUN9"
      },
      "execution_count": null,
      "outputs": []
    },
    {
      "cell_type": "code",
      "source": [
        "a_person = Person('Lee')\n",
        "a_doctor = Doctor('Lee')"
      ],
      "metadata": {
        "id": "Yf45JYagoSgs"
      },
      "execution_count": null,
      "outputs": []
    },
    {
      "cell_type": "code",
      "source": [
        "print(a_person.name, a_doctor.name, sep='\\n')"
      ],
      "metadata": {
        "id": "LC8hdcbYoV9M"
      },
      "execution_count": null,
      "outputs": []
    },
    {
      "cell_type": "markdown",
      "source": [
        "## 메서드 추가하기\n",
        "부모 클래스에 없는 메서드를 자식 클래스에 추가할 수 있습니다. "
      ],
      "metadata": {
        "id": "ij-hXkwnoXZU"
      }
    },
    {
      "cell_type": "code",
      "source": [
        "class Person():\n",
        "    def __init__(self, name):\n",
        "        self.name = name\n",
        "\n",
        "class Doctor(Person):\n",
        "    def __init__(self, name):\n",
        "        self.name = 'Dr. ' + name\n",
        "    def degree(self):\n",
        "        print(\"I have a PhD.\")"
      ],
      "metadata": {
        "id": "PXfy0qglobO2"
      },
      "execution_count": null,
      "outputs": []
    },
    {
      "cell_type": "code",
      "source": [
        "a_person = Person('Lee')\n",
        "a_doctor = Doctor('Lee')"
      ],
      "metadata": {
        "id": "4we3eco-okv8"
      },
      "execution_count": null,
      "outputs": []
    },
    {
      "cell_type": "code",
      "source": [
        "a_doctor.degree()"
      ],
      "metadata": {
        "id": "70lhIzWDok_c"
      },
      "execution_count": null,
      "outputs": []
    },
    {
      "cell_type": "code",
      "source": [
        "a_person.degree()"
      ],
      "metadata": {
        "id": "aYSoaxcLomJV"
      },
      "execution_count": null,
      "outputs": []
    },
    {
      "cell_type": "markdown",
      "source": [
        "## 부모에게 도움받기: `super()`\n",
        "자식 클래스에서 부모 클래스를 호출하고 싶다면 어떻게 해야 할까요?"
      ],
      "metadata": {
        "id": "LJ3XYeL-onKu"
      }
    },
    {
      "cell_type": "code",
      "source": [
        "class Person():\n",
        "    def __init__(self, name):\n",
        "        self.name = name\n",
        "\n",
        "class EmailPerson(Person):\n",
        "    def __init__(self, name, email):\n",
        "        super().__init__(name)\n",
        "        self.email = email"
      ],
      "metadata": {
        "id": "BLSNax4pow8l"
      },
      "execution_count": null,
      "outputs": []
    },
    {
      "cell_type": "code",
      "source": [
        "lee = EmailPerson('Sudong Lee', 'sudonglee@ulsan.ac.kr')"
      ],
      "metadata": {
        "id": "hIf5ITUao3a7"
      },
      "execution_count": null,
      "outputs": []
    },
    {
      "cell_type": "code",
      "source": [
        "print(lee.name, lee.email, sep='\\n')"
      ],
      "metadata": {
        "id": "-AGix09Io75s"
      },
      "execution_count": null,
      "outputs": []
    },
    {
      "cell_type": "markdown",
      "source": [
        "## 다중 상속\n",
        "- 여러 부모 클래스로부터 상속 받을 수도 있습니다. \n",
        "- 여러 부모 클래스가 같은 이름의 메서드 또는 속성을 가지고 있는 경우 어떤 것을 상속 받을까요? 이는 **메서드 해석 순서(method resolution order, MRO)**에 의해 결정됩니다. "
      ],
      "metadata": {
        "id": "tDhp-OMyo-eE"
      }
    },
    {
      "cell_type": "code",
      "source": [
        "class Animal:\n",
        "    def says(self):\n",
        "        return \"I speak!\"\n",
        "\n",
        "class Horse(Animal):\n",
        "    def says(self):\n",
        "        return \"Neigh!\"\n",
        "\n",
        "class Donkey(Animal):\n",
        "    def says(self):\n",
        "        return \"Hee-haw!\"\n",
        "\n",
        "class Mule(Donkey, Horse):\n",
        "    pass\n",
        "\n",
        "class Hinny(Horse, Donkey):\n",
        "    pass"
      ],
      "metadata": {
        "id": "Dv88jaP1zaDZ"
      },
      "execution_count": null,
      "outputs": []
    },
    {
      "cell_type": "markdown",
      "source": [
        "`Mule` 클래스가 상속 받은 메서드 또는 속성을 찾는 순서는 다음과 같습니다. \n",
        "1. 객체 자신(`Mule` 타입)\n",
        "2. 객체의 클래스(`Mule`)\n",
        "3. 클래스의 첫 번째 부모 클래스(`Donkey`)\n",
        "4. 클래스의 두 번째 부모 클래스(`Horse`)\n",
        "5. 부모의 부모 클래스(`Animal`)"
      ],
      "metadata": {
        "id": "ygBRjc2wzts3"
      }
    },
    {
      "cell_type": "markdown",
      "source": [
        "`mro()` 메서드를 통해 이 순서를 확인할 수 있습니다."
      ],
      "metadata": {
        "id": "TlQHsbiF0JA2"
      }
    },
    {
      "cell_type": "code",
      "source": [
        "Mule.mro()"
      ],
      "metadata": {
        "id": "l1uiMx5k0Co1"
      },
      "execution_count": null,
      "outputs": []
    },
    {
      "cell_type": "code",
      "source": [
        "Hinny.mro()"
      ],
      "metadata": {
        "id": "bHk9v5Qp0Ife"
      },
      "execution_count": null,
      "outputs": []
    },
    {
      "cell_type": "markdown",
      "source": [
        "그럼 각 동물들의 울음 소리를 들어보겠습니다."
      ],
      "metadata": {
        "id": "7Vb1gP3Y0Rx2"
      }
    },
    {
      "cell_type": "code",
      "source": [
        "mule = Mule()\n",
        "hinny = Hinny()\n",
        "mule.says()"
      ],
      "metadata": {
        "id": "wc3QPwpB0VD1"
      },
      "execution_count": null,
      "outputs": []
    },
    {
      "cell_type": "code",
      "source": [
        "hinny.says()"
      ],
      "metadata": {
        "id": "cg05AnI60Wle"
      },
      "execution_count": null,
      "outputs": []
    },
    {
      "cell_type": "markdown",
      "source": [
        "# **자신: `self`**\n",
        "Python은 적절한 객체의 속성과 메서드를 찾기 위해 `self` 인수를 사용합니다. \n"
      ],
      "metadata": {
        "id": "PCQzpCSd0aau"
      }
    },
    {
      "cell_type": "code",
      "source": [
        "class Car():\n",
        "    def exclaim(self):\n",
        "        print(\"I'm a Car!\")\n",
        "a_car = Car()\n",
        "a_car.exclaim()"
      ],
      "metadata": {
        "id": "F6U408vR0gdd"
      },
      "execution_count": null,
      "outputs": []
    },
    {
      "cell_type": "markdown",
      "source": [
        "위 코드에서 처리되는 일은 다음과 같습니다. \n",
        "- `a_car` 객체의 `Car` 클래스를 찾는다.\n",
        "- `a_car` 객체를 `Car` 클래스 `exclaim()` 메서드의 `self` 매개변수에 전달한다."
      ],
      "metadata": {
        "id": "XG0-nkvL0tZt"
      }
    },
    {
      "cell_type": "code",
      "source": [
        "class Car():\n",
        "    def __init__(self, name):\n",
        "      self.name = name\n",
        "    def exclaim(self):\n",
        "        print(f\"I'm a Car! My name is {self.name}\")\n",
        "a_car = Car('Santafe')\n",
        "a_car.exclaim()"
      ],
      "metadata": {
        "id": "tANuYSnQ1IJu"
      },
      "execution_count": null,
      "outputs": []
    }
  ]
}