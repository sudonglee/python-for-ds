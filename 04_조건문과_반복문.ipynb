{
  "nbformat": 4,
  "nbformat_minor": 0,
  "metadata": {
    "colab": {
      "name": "04_조건문과 반복문.ipynb",
      "private_outputs": true,
      "provenance": [],
      "collapsed_sections": [],
      "authorship_tag": "ABX9TyObz2NCR89ScuLABqVceGBt",
      "include_colab_link": true
    },
    "kernelspec": {
      "name": "python3",
      "display_name": "Python 3"
    },
    "language_info": {
      "name": "python"
    }
  },
  "cells": [
    {
      "cell_type": "markdown",
      "metadata": {
        "id": "view-in-github",
        "colab_type": "text"
      },
      "source": [
        "<a href=\"https://colab.research.google.com/github/sudonglee/python-for-ds/blob/main/04_%EC%A1%B0%EA%B1%B4%EB%AC%B8%EA%B3%BC_%EB%B0%98%EB%B3%B5%EB%AC%B8.ipynb\" target=\"_parent\"><img src=\"https://colab.research.google.com/assets/colab-badge.svg\" alt=\"Open In Colab\"/></a>"
      ]
    },
    {
      "cell_type": "markdown",
      "source": [
        "# **Lecture 04. 조건문과 반복문**\n",
        "- 작성자: 이수동 (울산대학교 산업경영공학부 | sudonglee@ulsan.ac.kr)\n",
        "- 참고자료: 빌 루바노빅, 『처음 시작하는 파이썬(2판)』, 최길우 옮김, 한빛미디어(2020)."
      ],
      "metadata": {
        "id": "qtMd6cQe2-Zl"
      }
    },
    {
      "cell_type": "markdown",
      "source": [
        "# **Introduction**\n",
        "- 지난 시간까지는 주로 데이터, 객체, 변수 등에 대해 배웠습니다.\n",
        "- 이번 시간부터는 본격적으로 **코드 구조(code structure)**를 다루어 보도록 하겠습니다. \n",
        "- **조건문(conditional statement)**을 활용하여 컴퓨터가 주어진 조건의 만족 여부에 따라 다른 명령을 수행하는 프로그램을 작성할 수 있습니다.\n",
        "- **반복문(loop)**은 같은 코드를 반복해서 수행하고자 할 때 사용합니다."
      ],
      "metadata": {
        "id": "VpOVhcrv4R_h"
      }
    },
    {
      "cell_type": "markdown",
      "source": [
        "# **불리언의 활용**"
      ],
      "metadata": {
        "id": "aLBAkF1U4hcG"
      }
    },
    {
      "cell_type": "code",
      "metadata": {
        "id": "C8hM5MVocRe5"
      },
      "source": [
        "x = True\n",
        "print(x)\n",
        "print(type(x))"
      ],
      "execution_count": null,
      "outputs": []
    },
    {
      "cell_type": "markdown",
      "metadata": {
        "id": "EFQL2NPiddDo"
      },
      "source": [
        "앞선 강의에서 불리언(boolean, `bool`) 타입을 배웠습니다.\n",
        "- `True` or `False`: 참/거짓을 나타내는 불리언 연산자\n",
        "- 변수 타입은 `bool`"
      ]
    },
    {
      "cell_type": "markdown",
      "source": [
        "## 비교 연산자\n",
        "- Python 프로그래밍에서 `bool`은 언제 필요할까요?\n",
        "- 가장 먼저 불리언의 정의 그대로 구문의 참/거짓을 판단 할 때 쓸 수 있습니다."
      ],
      "metadata": {
        "id": "1zxqaLb85Ldt"
      }
    },
    {
      "cell_type": "code",
      "source": [
        "print(3 > 1)"
      ],
      "metadata": {
        "id": "SYZcsyDp_BYs"
      },
      "execution_count": null,
      "outputs": []
    },
    {
      "cell_type": "code",
      "metadata": {
        "id": "-hplbf0RfhO-"
      },
      "source": [
        "# 3.0: float, 3: int\n",
        "print(3.0 == 3) "
      ],
      "execution_count": null,
      "outputs": []
    },
    {
      "cell_type": "code",
      "source": [
        "print('3' == 3) # '3': str, 3: int"
      ],
      "metadata": {
        "id": "gK5_zMDi_WT1"
      },
      "execution_count": null,
      "outputs": []
    },
    {
      "cell_type": "markdown",
      "source": [
        "> 💡 Tip. 주석(comment)\n",
        "> - 프로그램에서 **주석**은 인터프리터에 의해 무시되는 텍스트의 한 부분입니다.\n",
        "> - 코드를 설명하거나 나중에 발생할 수 있는 문제를 고치기 위한 표시를 남기는 등 다양한 목적으로 주석을 활용할 수 있습니다. \n",
        "> - 코드 내에서 `#` 문자를 이용해서 주석을 표시합니다. `#` 문자가 시작된 곳부터 그 라인의 마지막까지가 주석입니다."
      ],
      "metadata": {
        "id": "2CZ1NULC_dFd"
      }
    },
    {
      "cell_type": "code",
      "metadata": {
        "id": "y3b_d6eDGGfZ"
      },
      "source": [
        "print(3.0 != 5)\n",
        "print('a' == 'b')\n",
        "print(47 > 0)\n"
      ],
      "execution_count": null,
      "outputs": []
    },
    {
      "cell_type": "markdown",
      "metadata": {
        "id": "3tLF5qbme1Kr"
      },
      "source": [
        "상황에 따라 여러 가지 **비교 연산자**를 사용할 수 있습니다. \n",
        "\n",
        "| 비교 연산자 | 의미 |\n",
        "| :-: | :-: |\n",
        "| a == b | a equal to b |\n",
        "| a < b | a less than b |\n",
        "| a <= b | a less than or equal to b |\n",
        "| a != b | a not equal to b |\n",
        "| a > b | a greater than b |\n",
        "| a >= b | a greater than or equal to b |"
      ]
    },
    {
      "cell_type": "markdown",
      "source": [
        "비교 연산의 결과를 변수에 할당할 수도 있습니다."
      ],
      "metadata": {
        "id": "exxXs7IwA9vr"
      }
    },
    {
      "cell_type": "code",
      "source": [
        "result = (3.0 == 3)\n",
        "print(result)\n",
        "print(type(result))"
      ],
      "metadata": {
        "id": "mhnKot78A34k"
      },
      "execution_count": null,
      "outputs": []
    },
    {
      "cell_type": "markdown",
      "source": [
        "## 불리언 연산\n",
        "불리언도 다른 자료형처럼 **연산**이 가능할까요?\"\n"
      ],
      "metadata": {
        "id": "7iREEjoq40Sz"
      }
    },
    {
      "cell_type": "code",
      "metadata": {
        "id": "i8DXkGvugizE"
      },
      "source": [
        "print(True and True)\n",
        "print(True and False)\n",
        "print(True or False)\n",
        "print(not True)\n",
        "print(True and True and False)\n",
        "print(True or False and True)\n",
        "print(True and not False)"
      ],
      "execution_count": null,
      "outputs": []
    },
    {
      "cell_type": "markdown",
      "metadata": {
        "id": "VKSmcOfxiEY3"
      },
      "source": [
        "\n",
        "- `a and b`: a, b 모두 True인 경우만 True\n",
        "- `a or b`: a, b 중 하나라도 True이면 True\n",
        "- `not a`: a가 True이면 False, False이면 True"
      ]
    },
    {
      "cell_type": "code",
      "metadata": {
        "id": "ZIWpP9EQnsAd"
      },
      "source": [
        "x = True + True + False\n",
        "print(x)\n",
        "print(type(x))"
      ],
      "execution_count": null,
      "outputs": []
    },
    {
      "cell_type": "code",
      "source": [
        "gender = 'male'\n",
        "age = 36\n",
        "weight = 68\n",
        "\n",
        "c1 = (gender == 'male')\n",
        "c2 = (age >= 30)\n",
        "c3 = (weight >= 70)\n",
        "\n",
        "print(c1, c2, c3)\n",
        "\n",
        "print(c1 + c2 + c3)\n",
        "\n",
        "print(c1 + c2 + c3 >= 2)"
      ],
      "metadata": {
        "id": "KgKYK6xgobiI"
      },
      "execution_count": null,
      "outputs": []
    },
    {
      "cell_type": "markdown",
      "metadata": {
        "id": "D3MQb3rzn0x6"
      },
      "source": [
        "\n",
        "- 불리언 값의 산술연산 시, `True`는 1로, `False`는 0으로 인식합니다."
      ]
    },
    {
      "cell_type": "markdown",
      "source": [
        "# **조건문**\n",
        "이제 불리언을 이용한 조건문을 만들어봅시다."
      ],
      "metadata": {
        "id": "qIJ1SSja42Xd"
      }
    },
    {
      "cell_type": "code",
      "source": [
        "disaster = True\n",
        "if disaster:\n",
        "  print(\"으악!\")\n",
        "else:\n",
        "  print(\"휴~\")"
      ],
      "metadata": {
        "id": "KCO1yxPbvh7v"
      },
      "execution_count": null,
      "outputs": []
    },
    {
      "cell_type": "markdown",
      "source": [
        "- `if`와 `else`는 조건(여기서는 `disaster` 변수 값)이 `True`인지 `False`인지 확인하는 **선언문(statement)**입니다. \n",
        "- 위 예제 코드에서 수행한 일을 살펴봅시다. \n",
        "  1. 불리언 변수 `disaster`에 `True`를 할당한다. \n",
        "  2. `if`와 `else`를 사용해서 조건 테스트를 수행한다. `disaster`의 값에 따라 다른 코드가 실행된다. \n",
        "  3. `print()` 함수로 텍스트를 출력한다. "
      ],
      "metadata": {
        "id": "9nUSs-ynvtFy"
      }
    },
    {
      "cell_type": "code",
      "source": [
        "furry = False\n",
        "large = True\n",
        "if furry:\n",
        "    if large:\n",
        "        print(\"곰입니다.\")\n",
        "    else:\n",
        "        print(\"고양이입니다.\")\n",
        "else:\n",
        "    if large:\n",
        "        print(\"고래입니다.\")\n",
        "    else:\n",
        "        print(\"사람입니다.\")"
      ],
      "metadata": {
        "id": "iCfgFZuwwqx1"
      },
      "execution_count": null,
      "outputs": []
    },
    {
      "cell_type": "markdown",
      "source": [
        "- 위 코드에서 들여쓰기를 보면 `if`문과 `else`문이 어떻게 짝을 이루는지 알 수 있습니다.\n",
        "- `if`문의  조건이 `True`이면 하위 코드가 실행되고 `else`문은 무시됩니다. \n",
        "- `if`문의  조건이 `False`이면 하위 코드는 무시되고 `else`문이 실행됩니다. "
      ],
      "metadata": {
        "id": "qCr8njDVwrVO"
      }
    },
    {
      "cell_type": "markdown",
      "source": [
        "조건 테스트가 두 개 이상이라면 `if`문, `elif`(`else if`를 의미)문, `else`문을 사용합니다."
      ],
      "metadata": {
        "id": "hrH41S1qxQGy"
      }
    },
    {
      "cell_type": "code",
      "metadata": {
        "id": "eD44JQf_eCTP"
      },
      "source": [
        "## 배우자의 나이는?\n",
        "my_age = 36\n",
        "spouse_age = 35\n",
        "if spouse_age > my_age:\n",
        "  print('연상입니다.')\n",
        "elif spouse_age == my_age:\n",
        "  print('동갑입니다.')\n",
        "else:\n",
        "  print('연하입니다.')"
      ],
      "execution_count": null,
      "outputs": []
    },
    {
      "cell_type": "code",
      "source": [
        "color = \"빨강\"\n",
        "if color == \"빨강\":\n",
        "    print(\"토마토입니다.\")\n",
        "elif color == \"주황\":\n",
        "    print(\"오렌지입니다.\")\n",
        "elif color == \"노랑\":\n",
        "    print(\"레몬입니다.\")\n",
        "else: \n",
        "    print(color+\"색 과일은 들어본 적이 없는데요?!\")"
      ],
      "metadata": {
        "id": "GzDEwtpLxI2-"
      },
      "execution_count": null,
      "outputs": []
    },
    {
      "cell_type": "markdown",
      "source": [
        "# **반복문**"
      ],
      "metadata": {
        "id": "yG6iycuMz2hK"
      }
    },
    {
      "cell_type": "markdown",
      "source": [
        "## 반복하기: `while`\n",
        "- `while`문은 가장 단순한 루핑(looping) 매커니즘입니다.\n",
        "- 반복문이 진행되기 위한 조건문을 설정하고, 조건문이 `True`인 동안 루프의 하위 명령어가 반복하여 수행됩니다. \n"
      ],
      "metadata": {
        "id": "L4PPMPtVz42W"
      }
    },
    {
      "cell_type": "code",
      "source": [
        "count = 1\n",
        "while count <= 5:\n",
        "  print(count)\n",
        "  count += 1 # count = count + 1"
      ],
      "metadata": {
        "id": "VZS-Bo8Xz-5N"
      },
      "execution_count": null,
      "outputs": []
    },
    {
      "cell_type": "markdown",
      "source": [
        "### 중단하기: `break`\n",
        "- 멈추지 않고 영원히 반복되는 반복문을 **무한루프(infinite loop)**라고 합니다. \n",
        "- `break`를 사용하여 반복문 내에 반복문을 중단시키기 위한 조건을 설정할 수 있습니다."
      ],
      "metadata": {
        "id": "2P35r6X60Gfu"
      }
    },
    {
      "cell_type": "code",
      "source": [
        "while True: # 무한루프\n",
        "    word = input(\"입력된 영단어의 첫 글자를 대문자로 만듭니다. [그만두려면 q를 입력하세요]: \")\n",
        "    if word == \"q\":\n",
        "        break\n",
        "    print(word.capitalize())"
      ],
      "metadata": {
        "id": "KFaOQZBn0ZNQ"
      },
      "execution_count": null,
      "outputs": []
    },
    {
      "cell_type": "markdown",
      "source": [
        "### 건너뛰기: `continue`\n",
        "- 반복문을 중단하고 싶지 않지만, 어떤 이유로 다음 반복을 건너뛰어야 할 때가 있습니다. \n",
        "- 반복문의 한 회차(iteration)을 건너뛰는 방법을 살펴봅시다."
      ],
      "metadata": {
        "id": "cz93i_3303Vm"
      }
    },
    {
      "cell_type": "code",
      "source": [
        "# 정수를 입력 받아 홀수는 제곱을 계산하고, 짝수는 pass\n",
        "while True: \n",
        "    value = input(\"정수를 입력하세요. [그만두려면 q를 입력하세요]: \")\n",
        "    if value == \"q\": # quit\n",
        "        break\n",
        "    number = int(value)\n",
        "    if number % 2 == 0: # an even number\n",
        "        continue\n",
        "    print(number, \"의 제곱은\", number**2, \"입니다.\")"
      ],
      "metadata": {
        "id": "YeB_lhGd1TJ1"
      },
      "execution_count": null,
      "outputs": []
    },
    {
      "cell_type": "markdown",
      "source": [
        "### `break` 확인하기: `else`\n",
        "- `break`문은 반복문 내에 정의된 내용을 확인하여, 그것을 발견하면 종료하는 `while`문을 작성할 때 사용합니다.\n",
        "- `while`문이 모두 실행되었지만 해당 조건을 발견하지 못했을 때는 `else`문이 실행됩니다. "
      ],
      "metadata": {
        "id": "WyoGWQET1hGH"
      }
    },
    {
      "cell_type": "code",
      "source": [
        "numbers = [1, 3, 5]\n",
        "position = 0\n",
        "while position < len(numbers):\n",
        "    number = numbers[position]\n",
        "    if number % 2 == 0:\n",
        "        print('짝수를 찾았습니다:', number)\n",
        "        break\n",
        "    position += 1\n",
        "else: # break not called\n",
        "    print('짝수가 없습니다.')"
      ],
      "metadata": {
        "id": "6dU6ZiBy2Jq1"
      },
      "execution_count": null,
      "outputs": []
    },
    {
      "cell_type": "markdown",
      "source": [
        "## 순회하기: `for` 와 `in`\n",
        "- Python에서 이터레이터(iterator)는 매우 유용하게 쓰입니다.\n",
        "- 이터레이터는 자료구조가 얼마나 큰지, 어떻게 구현되었는지에 관계없이 자료구조를 순회할 수 있도록 해준다. "
      ],
      "metadata": {
        "id": "q1wes_cK2b3W"
      }
    },
    {
      "cell_type": "markdown",
      "source": [
        "`while`문으로 문자열에 있는 문자를 다음과 같이 차례로 출력할 수 있습니다."
      ],
      "metadata": {
        "id": "tD43_PF22wyl"
      }
    },
    {
      "cell_type": "code",
      "source": [
        "word = \"python\"\n",
        "position = 0\n",
        "while position < len(word):\n",
        "    print(word[position])\n",
        "    position += 1"
      ],
      "metadata": {
        "id": "GZtBLJkz208V"
      },
      "execution_count": null,
      "outputs": []
    },
    {
      "cell_type": "markdown",
      "source": [
        "하지만, 아래의 코드가 조금 더 *파이썬스러운* 방법입니다."
      ],
      "metadata": {
        "id": "-zQFL_sE24QF"
      }
    },
    {
      "cell_type": "code",
      "source": [
        "for letter in word:\n",
        "    print(letter)"
      ],
      "metadata": {
        "id": "PiEqNuis2-D0"
      },
      "execution_count": null,
      "outputs": []
    },
    {
      "cell_type": "markdown",
      "source": [
        "`for`는 텍스트 문자열 뿐만 아니라 리스트, 튜플 등 순회 가능한(iterable) 자료구조를 반복할 수 있습니다."
      ],
      "metadata": {
        "id": "fehcIosNIrB6"
      }
    },
    {
      "cell_type": "code",
      "source": [
        "for i in [1, 2, 3, 4, 5]:\n",
        "  print(i)"
      ],
      "metadata": {
        "id": "IRJg4PtkIp0t"
      },
      "execution_count": null,
      "outputs": []
    },
    {
      "cell_type": "code",
      "source": [
        "for i in (1, 2, 3, 4, 5):\n",
        "  print(i)"
      ],
      "metadata": {
        "id": "L2RbEhNCI4_x"
      },
      "execution_count": null,
      "outputs": []
    },
    {
      "cell_type": "markdown",
      "source": [
        "### 중단하기(`break`), 건너뛰기(`continue`)\n",
        "`for`문의 `break`, `continue`문은 `while`과 같은 방식으로 동작합니다. "
      ],
      "metadata": {
        "id": "RkfKMR4l2-5F"
      }
    },
    {
      "cell_type": "code",
      "source": [
        "word = \"python\"\n",
        "for letter in word:\n",
        "    if letter == 'h':\n",
        "        break\n",
        "    print(letter)"
      ],
      "metadata": {
        "id": "ml3LdkTeIPCn"
      },
      "execution_count": null,
      "outputs": []
    },
    {
      "cell_type": "code",
      "source": [
        "word = \"python\"\n",
        "for letter in word:\n",
        "    if letter == 'y':\n",
        "        continue\n",
        "    if letter == 'h':\n",
        "        break\n",
        "    print(letter)"
      ],
      "metadata": {
        "id": "7h5h5FdXIWiq"
      },
      "execution_count": null,
      "outputs": []
    },
    {
      "cell_type": "code",
      "source": [
        "word = 'python'\n",
        "for letter in word:\n",
        "    if letter == 'z':\n",
        "        print(\"z?!\")\n",
        "        break\n",
        "    print(letter)\n",
        "else:\n",
        "    print(\"No 'z' found.\")"
      ],
      "metadata": {
        "id": "GM2pjoy1IZ8b"
      },
      "execution_count": null,
      "outputs": []
    },
    {
      "cell_type": "markdown",
      "source": [
        "### 숫자 시퀀스 생성하기: `range()`\n",
        "- `range()`함수는 리스트나 튜플 같은 자료구조를 생성하여 저장하지 않고, 특정 범위 내에서 숫자 스트림을 반환합니다. \n",
        "- 이러한 방식으로 컴퓨터의 메모리를 전부 사용하지 않고, 프로그램의 충돌 없이 아주 큰 범위를 생성할 수 있습니다. \n",
        "- `range()`의 형식은 다음과 같습니다: <br>\n",
        "`range(start, stop, step)`"
      ],
      "metadata": {
        "id": "040WJRVfIc-6"
      }
    },
    {
      "cell_type": "code",
      "source": [
        "for x in range(0, 3): \n",
        "    print(x)"
      ],
      "metadata": {
        "id": "30VISrMbIhty"
      },
      "execution_count": null,
      "outputs": []
    },
    {
      "cell_type": "code",
      "source": [
        "for x in range(1, 10, 2):\n",
        "    print(x)"
      ],
      "metadata": {
        "id": "m_nhaeHBJcIP"
      },
      "execution_count": null,
      "outputs": []
    },
    {
      "cell_type": "code",
      "source": [
        "for x in range(3, 0, -1):\n",
        "    print(x)"
      ],
      "metadata": {
        "id": "Mel4MSwqJdEp"
      },
      "execution_count": null,
      "outputs": []
    },
    {
      "cell_type": "code",
      "source": [
        "for x in range(3, -2, -1):\n",
        "    print(x)"
      ],
      "metadata": {
        "id": "OXwGZNWlJd56"
      },
      "execution_count": null,
      "outputs": []
    },
    {
      "cell_type": "markdown",
      "source": [
        "`range()` 함수에 단 하나의 인수(argument)를 입력하면 `start`는 `0`으로, 입력 받은 인수는 `stop`으로 인식합니다. \n"
      ],
      "metadata": {
        "id": "JI8qTU0mwndy"
      }
    },
    {
      "cell_type": "code",
      "source": [
        "for i in range(10):\n",
        "  print(i)"
      ],
      "metadata": {
        "id": "Ljawo4WYwyMY"
      },
      "execution_count": null,
      "outputs": []
    },
    {
      "cell_type": "code",
      "source": [
        "word = 'python'\n",
        "for i in range(len(word)):\n",
        "  print(word[i])"
      ],
      "metadata": {
        "id": "LhIkBA4MgRZ2"
      },
      "execution_count": null,
      "outputs": []
    }
  ]
}