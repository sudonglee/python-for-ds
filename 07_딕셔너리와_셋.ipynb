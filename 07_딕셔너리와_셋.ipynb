{
  "nbformat": 4,
  "nbformat_minor": 0,
  "metadata": {
    "colab": {
      "name": "07_딕셔너리와 셋.ipynb",
      "private_outputs": true,
      "provenance": [],
      "collapsed_sections": [],
      "authorship_tag": "ABX9TyPjm6SOT29S64nFOIaaE/GJ",
      "include_colab_link": true
    },
    "kernelspec": {
      "name": "python3",
      "display_name": "Python 3"
    },
    "language_info": {
      "name": "python"
    }
  },
  "cells": [
    {
      "cell_type": "markdown",
      "metadata": {
        "id": "view-in-github",
        "colab_type": "text"
      },
      "source": [
        "<a href=\"https://colab.research.google.com/github/sudonglee/python-for-ds/blob/main/07_%EB%94%95%EC%85%94%EB%84%88%EB%A6%AC%EC%99%80_%EC%85%8B.ipynb\" target=\"_parent\"><img src=\"https://colab.research.google.com/assets/colab-badge.svg\" alt=\"Open In Colab\"/></a>"
      ]
    },
    {
      "cell_type": "markdown",
      "source": [
        "# **Lecture 07. 딕셔너리와 셋**\n",
        "- 작성자: 이수동 (울산대학교 산업경영공학부 | sudonglee@ulsan.ac.kr)\n",
        "- 참고자료: 빌 루바노빅, 『처음 시작하는 파이썬(2판)』, 최길우 옮김, 한빛미디어(2020)."
      ],
      "metadata": {
        "id": "mVcqYxdC99Zy"
      }
    },
    {
      "cell_type": "markdown",
      "source": [
        "# **딕셔너리(Dictionary)**\n",
        "- 딕셔너리(dictionary), 단어 그대로 *사전*을 떠올리시면 됩니다. \n",
        "- 딕셔너리는 고유한 **키(key)**와 그에 대응하는 **값(value)**로 구성됩니다. (ex. 영한사전의 `apple: 사과`)\n",
        "- 딕셔너리는 가변(mutable) 자료형이므로 키와 값의 요소를 추가, 삭제, 수정할 수 있습니다. "
      ],
      "metadata": {
        "id": "ZFfDmn-4-16P"
      }
    },
    {
      "cell_type": "markdown",
      "source": [
        "## 생성하기\n",
        "중괄호(`{}`) 안에 콤마로 구분된 **키:값** 쌍을 지정하여 딕셔너리를 생성합니다. "
      ],
      "metadata": {
        "id": "iQw0rIJU-_yX"
      }
    },
    {
      "cell_type": "code",
      "source": [
        "empty_dict = {}\n",
        "print(empty_dict)\n",
        "print(type(empty_dict))"
      ],
      "metadata": {
        "id": "lO2g7qQ4_yaj"
      },
      "execution_count": null,
      "outputs": []
    },
    {
      "cell_type": "code",
      "source": [
        "me = {\n",
        "    'Name': 'Sudong Lee',\n",
        "    'Gender': 'Male',\n",
        "    'Nationality': 'Korea'\n",
        "}\n",
        "me"
      ],
      "metadata": {
        "id": "x_wq7FluASR8"
      },
      "execution_count": null,
      "outputs": []
    },
    {
      "cell_type": "markdown",
      "source": [
        "`dict()` 함수를 사용하여 새로운 딕셔너리를 만들거나 다른 타입의 객체를 딕셔너리로 변환할 수 있습니다. "
      ],
      "metadata": {
        "id": "ZCfhrL5-ATW2"
      }
    },
    {
      "cell_type": "code",
      "source": [
        "me = dict(Name='Sudong Lee', Gender='Male', Nationality='Korea')\n",
        "me"
      ],
      "metadata": {
        "id": "VpEp8cXPApjE"
      },
      "execution_count": null,
      "outputs": []
    },
    {
      "cell_type": "code",
      "source": [
        "# a list of two-item lists\n",
        "x = [['a', 'b'], ['c', 'd'], ['e', 'f']]\n",
        "dict(x)"
      ],
      "metadata": {
        "id": "_JTKNz08AuYd"
      },
      "execution_count": null,
      "outputs": []
    },
    {
      "cell_type": "code",
      "source": [
        "# a list of two-item tuples\n",
        "x = [('a', 'b'), ('c', 'd'), ('e', 'f')]\n",
        "dict(x)"
      ],
      "metadata": {
        "id": "9xAIxTI5A4a-"
      },
      "execution_count": null,
      "outputs": []
    },
    {
      "cell_type": "code",
      "source": [
        "# a tuple of two-item lists\n",
        "x = (['a', 'b'], ['c', 'd'], ['e', 'f'])\n",
        "dict(x)"
      ],
      "metadata": {
        "id": "KU29VgG-A5d2"
      },
      "execution_count": null,
      "outputs": []
    },
    {
      "cell_type": "code",
      "source": [
        "# a tuple of two-item tuples\n",
        "x = (('a', 'b'), ('c', 'd'), ('e', 'f'))\n",
        "dict(x)"
      ],
      "metadata": {
        "id": "0guGxvQXA6SV"
      },
      "execution_count": null,
      "outputs": []
    },
    {
      "cell_type": "code",
      "source": [
        "# a list of two-character strings\n",
        "x = ['ab', 'cd', 'ef']\n",
        "dict(x)"
      ],
      "metadata": {
        "id": "u1u7PPqAA_SW"
      },
      "execution_count": null,
      "outputs": []
    },
    {
      "cell_type": "code",
      "source": [
        "# a tuple of two-character strings\n",
        "x = ('ab', 'cd', 'ef')\n",
        "dict(x)"
      ],
      "metadata": {
        "id": "iie1F8LLBAQO"
      },
      "execution_count": null,
      "outputs": []
    },
    {
      "cell_type": "markdown",
      "source": [
        "## 항목 얻기\n",
        "- 이 기능은 딕셔너리의 가장 일반적인 용도입니다. \n",
        "- 딕셔너리의 키를 호출하여 상응하는 값을 얻습니다."
      ],
      "metadata": {
        "id": "QExiqFSHBiCu"
      }
    },
    {
      "cell_type": "code",
      "source": [
        "print(me)"
      ],
      "metadata": {
        "id": "n455YCnB7Fov"
      },
      "execution_count": null,
      "outputs": []
    },
    {
      "cell_type": "code",
      "source": [
        "me['Name']"
      ],
      "metadata": {
        "id": "314dVnzGBoI9"
      },
      "execution_count": null,
      "outputs": []
    },
    {
      "cell_type": "code",
      "source": [
        "me['Weight']"
      ],
      "metadata": {
        "id": "sEd4XeKjBvb9"
      },
      "execution_count": null,
      "outputs": []
    },
    {
      "cell_type": "markdown",
      "source": [
        "두 번째 방법은 딕셔너리의 `get()` 함수를 사용하는 것입니다. "
      ],
      "metadata": {
        "id": "lDuzIA5oGNat"
      }
    },
    {
      "cell_type": "code",
      "source": [
        "me.get('Name')"
      ],
      "metadata": {
        "id": "cmiF-tW5Bwbl"
      },
      "execution_count": null,
      "outputs": []
    },
    {
      "cell_type": "code",
      "source": [
        "me.get('Weight')"
      ],
      "metadata": {
        "id": "2B94PqgpBxWd"
      },
      "execution_count": null,
      "outputs": []
    },
    {
      "cell_type": "code",
      "source": [
        "print(me.get('Weight'))"
      ],
      "metadata": {
        "id": "Zwvbv9vzB0mN"
      },
      "execution_count": null,
      "outputs": []
    },
    {
      "cell_type": "markdown",
      "source": [
        "- 딕셔너리의 모든 키/값를 가져오기 위해서는 `keys()`/`values()`를 사용합니다.\n",
        "- `items()`는 모든 키/값 쌍을 가져옵니다."
      ],
      "metadata": {
        "id": "pxTzlygnGtlV"
      }
    },
    {
      "cell_type": "code",
      "source": [
        "print(me.keys())\n",
        "print(me.values())\n",
        "print(me.items())"
      ],
      "metadata": {
        "id": "mLAcZLwcG2mk"
      },
      "execution_count": null,
      "outputs": []
    },
    {
      "cell_type": "markdown",
      "source": [
        "## 항목 추가/변경\n",
        "- 키에 참조되는 항목에 값을 할당하여 딕셔너리를 수정할 수 있습니다. \n",
        "- 딕셔너리에 이미 존재하는 키라면 그 값은 새 값으로 대체됩니다. \n",
        "- 키가 존재하지 않는다면 새 값과 키가 사전에 추가됩니다. "
      ],
      "metadata": {
        "id": "gfaap6S5BIUa"
      }
    },
    {
      "cell_type": "code",
      "source": [
        "me = {\n",
        "    'Name': 'Sudong Lee',\n",
        "    'Gender': 'Male',\n",
        "    'Nationality': 'Korea'\n",
        "}\n",
        "me"
      ],
      "metadata": {
        "id": "kTgweM8BBNUl"
      },
      "execution_count": null,
      "outputs": []
    },
    {
      "cell_type": "code",
      "source": [
        "me['Height'] = '176 cm'\n",
        "me"
      ],
      "metadata": {
        "id": "flpdVZRMBgWu"
      },
      "execution_count": null,
      "outputs": []
    },
    {
      "cell_type": "code",
      "source": [
        "me['Height'] = '185 cm'\n",
        "me"
      ],
      "metadata": {
        "id": "LyXQg1ynBhW1"
      },
      "execution_count": null,
      "outputs": []
    },
    {
      "cell_type": "markdown",
      "source": [
        "`**`를 사용하여 여러 딕셔너리를 결합할 수 있습니다. "
      ],
      "metadata": {
        "id": "CaaGr_LaHHjk"
      }
    },
    {
      "cell_type": "code",
      "source": [
        "first = {'a': 'apple', 'b': 'boy'}\n",
        "second = {'b': 'bag', 'c': 'candy'}\n",
        "print({**first, **second})"
      ],
      "metadata": {
        "id": "rz82Q96RHvuU"
      },
      "execution_count": null,
      "outputs": []
    },
    {
      "cell_type": "code",
      "source": [
        "{**second, **first}"
      ],
      "metadata": {
        "id": "NOpg9oOw8dlQ"
      },
      "execution_count": null,
      "outputs": []
    },
    {
      "cell_type": "code",
      "source": [
        "third = {'d': 'donuts'}\n",
        "{**first, **second, **third}"
      ],
      "metadata": {
        "id": "aY_HVg48Hwsk"
      },
      "execution_count": null,
      "outputs": []
    },
    {
      "cell_type": "markdown",
      "source": [
        "`del`을 사용하여 딕셔너리의 특정 키/값을 삭제할 수 있습니다."
      ],
      "metadata": {
        "id": "zC-Qn0MnHx81"
      }
    },
    {
      "cell_type": "code",
      "source": [
        "me"
      ],
      "metadata": {
        "id": "X4tm21dlIEVs"
      },
      "execution_count": null,
      "outputs": []
    },
    {
      "cell_type": "code",
      "source": [
        "del me['Nationality']\n",
        "me"
      ],
      "metadata": {
        "id": "tNLaKTwSIHC0"
      },
      "execution_count": null,
      "outputs": []
    },
    {
      "cell_type": "markdown",
      "source": [
        "## 딕셔너리 컴프리헨션(Dictionalry Comprehension)\n",
        "리스트와 같이 딕셔너리도 컴프리헨션 기능을 가지고 있습니다. <br>\n",
        "`{key_expression : value_expression for expression in iterable}`"
      ],
      "metadata": {
        "id": "hl2GOsn-IRNc"
      }
    },
    {
      "cell_type": "code",
      "source": [
        "word = 'letters'\n",
        "for letter in word:\n",
        "  print(word.count(letter))"
      ],
      "metadata": {
        "id": "8c3P8IWw9ecL"
      },
      "execution_count": null,
      "outputs": []
    },
    {
      "cell_type": "code",
      "source": [
        "word = 'letters'\n",
        "letter_counts = {letter: word.count(letter) for letter in word}\n",
        "letter_counts"
      ],
      "metadata": {
        "id": "icfZ-Gb3IeHb"
      },
      "execution_count": null,
      "outputs": []
    },
    {
      "cell_type": "code",
      "source": [
        "vowels = 'aeiou'\n",
        "word = 'onomatopoeia'\n",
        "vowel_counts = {letter: word.count(letter) for letter in word if letter in vowels}\n",
        "vowel_counts"
      ],
      "metadata": {
        "id": "iAuhu9srIpf0"
      },
      "execution_count": null,
      "outputs": []
    },
    {
      "cell_type": "markdown",
      "source": [
        "# **셋(Set)**\n",
        "- 셋은 수학에서의 **집합**과 같은 개념입니다. \n",
        "- 순서 보다는 요소의 **존재 여부**를 확인하기 위해 사용합니다. (ex. 합집합, 교집합, 차집합 등)"
      ],
      "metadata": {
        "id": "dR7GHt5LIrhc"
      }
    },
    {
      "cell_type": "markdown",
      "source": [
        "## 생성하기\n",
        "셋을 생성할 때는 `set()` 함수를 사용하거나 중괄호(`{}`) 안에 콤마로 구분된 값을 넣으면 됩니다. "
      ],
      "metadata": {
        "id": "KbGvmO-9J4o_"
      }
    },
    {
      "cell_type": "code",
      "source": [
        "empty_set = set()\n",
        "print(empty_set)\n",
        "print(type(empty_set))"
      ],
      "metadata": {
        "id": "3lYrXHSdIwW1"
      },
      "execution_count": null,
      "outputs": []
    },
    {
      "cell_type": "code",
      "source": [
        "even_numbers = {0, 2, 4, 6, 8}\n",
        "odd_numbers = {1, 3, 5, 7, 9}\n",
        "print(even_numbers, odd_numbers)"
      ],
      "metadata": {
        "id": "36MbHUjJKWj7"
      },
      "execution_count": null,
      "outputs": []
    },
    {
      "cell_type": "code",
      "source": [
        "odd_numbers = {1, 5, 5, 9, 3, 7}\n",
        "odd_numbers"
      ],
      "metadata": {
        "id": "gU0pQJ8QKhxz"
      },
      "execution_count": null,
      "outputs": []
    },
    {
      "cell_type": "code",
      "source": [
        "[1, 5, 5, 9, 3, 7]"
      ],
      "metadata": {
        "id": "NiI1KEuW_I-k"
      },
      "execution_count": null,
      "outputs": []
    },
    {
      "cell_type": "markdown",
      "source": [
        "`set()` 함수를 사용하여 리스트, 문자열, 튜플, 딕셔너리에서 중복된 값을 삭제하고 셋을 생성합니다. "
      ],
      "metadata": {
        "id": "t5if97soKWV9"
      }
    },
    {
      "cell_type": "code",
      "source": [
        "set('letters')"
      ],
      "metadata": {
        "id": "WStDIeLEKm07"
      },
      "execution_count": null,
      "outputs": []
    },
    {
      "cell_type": "code",
      "source": [
        "set(['Korea', 'Japan', 'China'])"
      ],
      "metadata": {
        "id": "hWAUdKyRPfzJ"
      },
      "execution_count": null,
      "outputs": []
    },
    {
      "cell_type": "code",
      "source": [
        "set((1, 2, 3))"
      ],
      "metadata": {
        "id": "-1nHWfi0PhLJ"
      },
      "execution_count": null,
      "outputs": []
    },
    {
      "cell_type": "code",
      "source": [
        "set({'Name': 'Sudong Lee', 'Gender': 'Male', 'Nationality': 'Korea'})"
      ],
      "metadata": {
        "id": "TimyzVFlPidZ"
      },
      "execution_count": null,
      "outputs": []
    },
    {
      "cell_type": "markdown",
      "source": [
        "## 항목 추가/삭제하기"
      ],
      "metadata": {
        "id": "n0XK4LY1PjkB"
      }
    },
    {
      "cell_type": "markdown",
      "source": [
        "`add()` 메서드로 셋에 항목을 추가합니다."
      ],
      "metadata": {
        "id": "lHZxbSWkPq8T"
      }
    },
    {
      "cell_type": "code",
      "source": [
        "s = set((1, 2, 3))\n",
        "print(s)\n",
        "s.add(4)\n",
        "print(s)"
      ],
      "metadata": {
        "id": "LnEifQTXPxBZ"
      },
      "execution_count": null,
      "outputs": []
    },
    {
      "cell_type": "markdown",
      "source": [
        "`remove()` 메서드로 셋의 항목을 삭제합니다."
      ],
      "metadata": {
        "id": "XowWdBoEP0tZ"
      }
    },
    {
      "cell_type": "code",
      "source": [
        "s = set((1, 2, 3))\n",
        "print(s)\n",
        "s.remove(3)\n",
        "print(s)"
      ],
      "metadata": {
        "id": "ygVm-WOQP5Nj"
      },
      "execution_count": null,
      "outputs": []
    },
    {
      "cell_type": "markdown",
      "source": [
        "## 멤버십 테스트: `in`\n",
        "- 멤버십 테스트는 셋의 가장 일반적인  용도입니다. \n",
        "- 카페에서 파는 여러 종류의 음료를 설명하는 딕셔너리 `cafe`를 만들어 보겠습니다."
      ],
      "metadata": {
        "id": "ZU0w9V2fP6li"
      }
    },
    {
      "cell_type": "code",
      "source": [
        "cafe = {\n",
        "    'espresso': {'espresso'},\n",
        "    'americano': {'espresso', 'water'},\n",
        "    'latte': {'espresso', 'milk'},\n",
        "    'mocha': {'espresso', 'milk', 'chocholate'},\n",
        "    'hot chocholate': {'milk', 'chocholate'}\n",
        "}\n",
        "cafe"
      ],
      "metadata": {
        "id": "fDOKYxhnP_Ex"
      },
      "execution_count": null,
      "outputs": []
    },
    {
      "cell_type": "markdown",
      "source": [
        "- `cafe`의 각 키(음료 이름)에 매칭되는 값(음료 재료)들이 셋으로 정의되어 있습니다. \n",
        "- 우유(`milk`)가 포함된 음료를 찾아보겠습니다."
      ],
      "metadata": {
        "id": "Gy1pTzErRalJ"
      }
    },
    {
      "cell_type": "code",
      "source": [
        "print(cafe.items())"
      ],
      "metadata": {
        "id": "UF49cQVbAU0n"
      },
      "execution_count": null,
      "outputs": []
    },
    {
      "cell_type": "code",
      "source": [
        "a, b = (1, 2)\n",
        "print(a)\n",
        "print(b)"
      ],
      "metadata": {
        "id": "43THGV1iAbmU"
      },
      "execution_count": null,
      "outputs": []
    },
    {
      "cell_type": "code",
      "source": [
        "for name, contents in cafe.items():\n",
        "    if 'milk' in contents:\n",
        "        print(name)"
      ],
      "metadata": {
        "id": "cZHN0LbEP_-h"
      },
      "execution_count": null,
      "outputs": []
    },
    {
      "cell_type": "markdown",
      "source": [
        "커피가 마시고 싶은데, 우유는 싫습니다."
      ],
      "metadata": {
        "id": "dM57-KdLSEGT"
      }
    },
    {
      "cell_type": "code",
      "source": [
        "for name, contents in cafe.items():\n",
        "    if 'espresso' in contents and not 'milk' in contents:\n",
        "        print(name)"
      ],
      "metadata": {
        "id": "uD_MLeH8R5u5"
      },
      "execution_count": null,
      "outputs": []
    },
    {
      "cell_type": "markdown",
      "source": [
        "## 조합과 연산자\n",
        "서로 다른 두 셋 `a`, `b`의 조합을 어떻게 확인할까?\n",
        "- 교집합(`intersection`): `a`와 `b`에 공통으로 들어 있는 항목\n",
        "- 합집합(`union`): `a` 또는 `b`에 속한 모든 항목\n",
        "- 차집합(`difference`): `a`(또는 `b`)에는 있지만 `b`(또는 `a`)에는 없는 항목\n",
        "- 대칭차집합(`symmetric_difference`): `a` 또는 `b`에만 있는 항목"
      ],
      "metadata": {
        "id": "ilBqWpKwQB7B"
      }
    },
    {
      "cell_type": "markdown",
      "source": [
        "### 교집합"
      ],
      "metadata": {
        "id": "YXaxpaH8bf5t"
      }
    },
    {
      "cell_type": "code",
      "source": [
        "a = {1, 2}\n",
        "b = {2, 3}"
      ],
      "metadata": {
        "id": "Uqzdgr8raPGI"
      },
      "execution_count": null,
      "outputs": []
    },
    {
      "cell_type": "code",
      "source": [
        "a & b"
      ],
      "metadata": {
        "id": "KI2pQTV1bbVk"
      },
      "execution_count": null,
      "outputs": []
    },
    {
      "cell_type": "code",
      "source": [
        "a.intersection(b)"
      ],
      "metadata": {
        "id": "QZy1nqLNbdP1"
      },
      "execution_count": null,
      "outputs": []
    },
    {
      "cell_type": "markdown",
      "source": [
        "### 합집합"
      ],
      "metadata": {
        "id": "cIFVBDmSbd_X"
      }
    },
    {
      "cell_type": "code",
      "source": [
        "a | b"
      ],
      "metadata": {
        "id": "g-4xfuWVbjQG"
      },
      "execution_count": null,
      "outputs": []
    },
    {
      "cell_type": "code",
      "source": [
        "a.union(b)"
      ],
      "metadata": {
        "id": "y3g2wtDEbkGN"
      },
      "execution_count": null,
      "outputs": []
    },
    {
      "cell_type": "markdown",
      "source": [
        "### 차집합"
      ],
      "metadata": {
        "id": "iWyrHt2_blKO"
      }
    },
    {
      "cell_type": "code",
      "source": [
        "a = {1, 2}\n",
        "b = {2, 3}\n",
        "a - b"
      ],
      "metadata": {
        "id": "Lrb96ZDEbn4v"
      },
      "execution_count": null,
      "outputs": []
    },
    {
      "cell_type": "code",
      "source": [
        "a.difference(b)"
      ],
      "metadata": {
        "id": "Me6hssBSbs2V"
      },
      "execution_count": null,
      "outputs": []
    },
    {
      "cell_type": "code",
      "source": [
        "b - a"
      ],
      "metadata": {
        "id": "-byZGis5bowN"
      },
      "execution_count": null,
      "outputs": []
    },
    {
      "cell_type": "markdown",
      "source": [
        "### 대칭차집합"
      ],
      "metadata": {
        "id": "A40inmzFbraN"
      }
    },
    {
      "cell_type": "code",
      "source": [
        "a ^ b"
      ],
      "metadata": {
        "id": "e-XVaxF8cISG"
      },
      "execution_count": null,
      "outputs": []
    },
    {
      "cell_type": "code",
      "source": [
        "a.symmetric_difference(b)"
      ],
      "metadata": {
        "id": "eowUtBm0cJ8l"
      },
      "execution_count": null,
      "outputs": []
    },
    {
      "cell_type": "markdown",
      "source": [
        "### 부분집합"
      ],
      "metadata": {
        "id": "-2meUvowcLnF"
      }
    },
    {
      "cell_type": "code",
      "source": [
        "print(f'a: {a}, b: {b}')"
      ],
      "metadata": {
        "id": "Q6eq3ORXxnwn"
      },
      "execution_count": null,
      "outputs": []
    },
    {
      "cell_type": "code",
      "source": [
        "a <= b"
      ],
      "metadata": {
        "id": "065zMe8-cPif"
      },
      "execution_count": null,
      "outputs": []
    },
    {
      "cell_type": "code",
      "source": [
        "a.issubset(b)"
      ],
      "metadata": {
        "id": "vwwA7e66caCt"
      },
      "execution_count": null,
      "outputs": []
    },
    {
      "cell_type": "code",
      "source": [
        "a_ = {2}\n",
        "b = {2, 3}\n",
        "a_.issubset(b)"
      ],
      "metadata": {
        "id": "enNwM-gpccK2"
      },
      "execution_count": null,
      "outputs": []
    },
    {
      "cell_type": "code",
      "source": [
        "print(a <= a)\n",
        "print(a.issubset(a))"
      ],
      "metadata": {
        "id": "x7Vclxq1cT-1"
      },
      "execution_count": null,
      "outputs": []
    },
    {
      "cell_type": "code",
      "source": [
        "print(a < b)\n",
        "print(a_ < b)\n",
        "print(a < a)"
      ],
      "metadata": {
        "id": "WtD-TwYKcl09"
      },
      "execution_count": null,
      "outputs": []
    },
    {
      "cell_type": "markdown",
      "source": [
        "### 상위집합"
      ],
      "metadata": {
        "id": "lXvWLGFOcmt9"
      }
    },
    {
      "cell_type": "code",
      "source": [
        "print(b >= a)\n",
        "print(b.issuperset(a))"
      ],
      "metadata": {
        "id": "vAi-ReNyctUQ"
      },
      "execution_count": null,
      "outputs": []
    },
    {
      "cell_type": "code",
      "source": [
        "print(b >= a_)\n",
        "print(b.issuperset(a_))"
      ],
      "metadata": {
        "id": "F3h2yeyAdAmt"
      },
      "execution_count": null,
      "outputs": []
    },
    {
      "cell_type": "code",
      "source": [
        "print(a >= a)\n",
        "print(a.issuperset(a))\n",
        "print(a > a)"
      ],
      "metadata": {
        "id": "RfsI_f6FdEKN"
      },
      "execution_count": null,
      "outputs": []
    },
    {
      "cell_type": "markdown",
      "source": [
        "## 셋 컴프리헨션\n",
        "셋 컴프리헨션 또한 리스트, 딕셔너리 컴프리헨션과 같은 모양이다. <br>\n",
        "`{expression for expression in iterable if condition}`\n"
      ],
      "metadata": {
        "id": "7dgy1y9WdFPE"
      }
    },
    {
      "cell_type": "code",
      "source": [
        "a_set = {number for number in range(1, 6) if number % 3 == 1}\n",
        "a_set"
      ],
      "metadata": {
        "id": "sBbId_gWdLqv"
      },
      "execution_count": null,
      "outputs": []
    }
  ]
}