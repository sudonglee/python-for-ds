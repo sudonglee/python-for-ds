{
  "nbformat": 4,
  "nbformat_minor": 0,
  "metadata": {
    "kernelspec": {
      "display_name": "Python 3",
      "language": "python",
      "name": "python3"
    },
    "language_info": {
      "codemirror_mode": {
        "name": "ipython",
        "version": 3
      },
      "file_extension": ".py",
      "mimetype": "text/x-python",
      "name": "python",
      "nbconvert_exporter": "python",
      "pygments_lexer": "ipython3",
      "version": "3.8.5"
    },
    "colab": {
      "name": "14_데이터시각화 (정답).ipynb",
      "provenance": [],
      "collapsed_sections": [],
      "include_colab_link": true
    }
  },
  "cells": [
    {
      "cell_type": "markdown",
      "metadata": {
        "id": "view-in-github",
        "colab_type": "text"
      },
      "source": [
        "<a href=\"https://colab.research.google.com/github/sudonglee/python-for-ds/blob/main/14_%EB%8D%B0%EC%9D%B4%ED%84%B0%EC%8B%9C%EA%B0%81%ED%99%94_(%EC%A0%95%EB%8B%B5).ipynb\" target=\"_parent\"><img src=\"https://colab.research.google.com/assets/colab-badge.svg\" alt=\"Open In Colab\"/></a>"
      ]
    },
    {
      "cell_type": "markdown",
      "metadata": {
        "id": "efL73idr2E5N"
      },
      "source": [
        "# **데이터 시각화 (Data Visualization)**\n",
        "  \n",
        "- 작성자: 이수동 (울산대학교 산업경영공학부 | sudonglee@ulsan.ac.kr)\n",
        "- 최종 업데이트: 2021-10-06"
      ]
    },
    {
      "cell_type": "markdown",
      "metadata": {
        "id": "pkof6Mb02E5R"
      },
      "source": [
        "데이터 시각화를 위한 대표적인 python 라이브러리로는 `matplotlib`과  `seaborn`이 있습니다.\n",
        "- `matplotlib`: 가장 대표적인 library로 `pandas`, `numpy` 등과 호환이 가능하며 널리 사용됩니다.\n",
        "- `seaborn`: `matplotlib`을 기반으로 다양한 색, 테마, 차트 기능을 추가한 라이브러리입니다. "
      ]
    },
    {
      "cell_type": "markdown",
      "metadata": {
        "id": "KLYizTZ02E5S"
      },
      "source": [
        "## __Matplotlib__"
      ]
    },
    {
      "cell_type": "code",
      "metadata": {
        "id": "dlETBku_3VAQ"
      },
      "source": [
        "import matplotlib.pyplot as plt "
      ],
      "execution_count": null,
      "outputs": []
    },
    {
      "cell_type": "code",
      "metadata": {
        "id": "86cjDU3E2E5T"
      },
      "source": [
        "## 데이터 시각화 라이브러리 실행 시 출력되는 경고 메시지를 숨겨줍니다.\n",
        "import warnings\n",
        "warnings.filterwarnings('ignore') \n",
        "\n",
        "# matplotlib으로 출력되는 그림을 노트북 안에 출력합니다. \n",
        "%matplotlib inline"
      ],
      "execution_count": null,
      "outputs": []
    },
    {
      "cell_type": "markdown",
      "metadata": {
        "id": "kkrom5I72E5T"
      },
      "source": [
        "### Figure와 Axes (Image Source | [Blog 어쩐지 오늘은](https://zzsza.github.io/development/2018/08/24/data-visualization-in-python/) )\n",
        "- Figure는 말 그대로 *그림*입니다. 그림 파일을 열었을 때 보이는 그림의 틀을 생각하시면 됩니다.  \n",
        "- Axes는 각 plot이 그려지는 공간입니다.\n",
        "\n",
        "<img src=\"https://www.dropbox.com/s/2n4hgu3db5t8twq/%EC%8A%A4%ED%81%AC%EB%A6%B0%EC%83%B7%202018-08-24%2017.45.14.png?raw=1\" width=\"400\">\n"
      ]
    },
    {
      "cell_type": "markdown",
      "metadata": {
        "id": "GtheE1Y12E5U"
      },
      "source": [
        "### Figure의 구성요소 (Image Source | [Blog 어쩐지 오늘은](https://zzsza.github.io/development/2018/08/24/data-visualization-in-python/) )\n",
        "\n",
        "<img src=\"https://www.dropbox.com/s/oqc1qxb12m8e9hi/%EC%8A%A4%ED%81%AC%EB%A6%B0%EC%83%B7%202018-08-24%2017.03.16.png?raw=1\" width=\"400\">\n"
      ]
    },
    {
      "cell_type": "markdown",
      "metadata": {
        "id": "mXNLWCx82E5U"
      },
      "source": [
        "### figure 생성하기"
      ]
    },
    {
      "cell_type": "code",
      "metadata": {
        "id": "xUBnH_8i2E5V",
        "colab": {
          "base_uri": "https://localhost:8080/",
          "height": 35
        },
        "outputId": "0c851087-9dbb-4412-a116-370bff6a3181"
      },
      "source": [
        "fig = plt.figure()"
      ],
      "execution_count": null,
      "outputs": [
        {
          "output_type": "display_data",
          "data": {
            "text/plain": [
              "<Figure size 432x288 with 0 Axes>"
            ]
          },
          "metadata": {}
        }
      ]
    },
    {
      "cell_type": "code",
      "metadata": {
        "id": "-4lEBAdI2E5W",
        "colab": {
          "base_uri": "https://localhost:8080/",
          "height": 281
        },
        "outputId": "edab329e-c788-498f-ff59-742de3769306"
      },
      "source": [
        "plt.title('Figure Title') # 현재 작성 중인 figure의 제목을 입력\n",
        "plt.show() # 현재 작성 중인 figure를 출력"
      ],
      "execution_count": null,
      "outputs": [
        {
          "output_type": "display_data",
          "data": {
            "image/png": "[encoded data removed]",
            "text/plain": [
              "<Figure size 432x288 with 1 Axes>"
            ]
          },
          "metadata": {
            "needs_background": "light"
          }
        }
      ]
    },
    {
      "cell_type": "code",
      "metadata": {
        "id": "m7fn_i1-rbWa",
        "colab": {
          "base_uri": "https://localhost:8080/",
          "height": 458
        },
        "outputId": "6fbf5713-eafe-4276-fd74-1badb67fe108"
      },
      "source": [
        "plt.figure(figsize=(14,7)) # figure의 크기를 지정합니다. \n",
        "plt.title(\"Figure Title\") # figure의 제목을 입력합니다. \n",
        "\n",
        "plt.xlabel(\"X\") # figure의 x축 label을 입력합니다. \n",
        "plt.ylabel(\"Y\") # figure의 y축 label을 입력합니다. \n",
        "plt.show() # figure를 출력합니다. "
      ],
      "execution_count": null,
      "outputs": [
        {
          "output_type": "display_data",
          "data": {
            "image/png": "[encoded data removed]",
            "text/plain": [
              "<Figure size 1008x504 with 1 Axes>"
            ]
          },
          "metadata": {
            "needs_background": "light"
          }
        }
      ]
    },
    {
      "cell_type": "code",
      "metadata": {
        "id": "WCu-Nr3k2E5X",
        "colab": {
          "base_uri": "https://localhost:8080/",
          "height": 299
        },
        "outputId": "6381e1d0-f575-4747-a0da-ef9127f4c2ef"
      },
      "source": [
        "plt.title('한글 제목')\n",
        "# plt.show()"
      ],
      "execution_count": null,
      "outputs": [
        {
          "output_type": "execute_result",
          "data": {
            "text/plain": [
              "Text(0.5, 1.0, '한글 제목')"
            ]
          },
          "metadata": {},
          "execution_count": 12
        },
        {
          "output_type": "display_data",
          "data": {
            "image/png": "[encoded data removed]",
            "text/plain": [
              "<Figure size 432x288 with 1 Axes>"
            ]
          },
          "metadata": {
            "needs_background": "light"
          }
        }
      ]
    },
    {
      "cell_type": "code",
      "metadata": {
        "id": "jzsSAnp_3a7l",
        "colab": {
          "base_uri": "https://localhost:8080/"
        },
        "outputId": "c0385360-869d-4848-cf8b-0905b1b60b40"
      },
      "source": [
        "!sudo apt-get install -y fonts-nanum\n",
        "!sudo fc-cache -fv\n",
        "!rm ~/.cache/matplotlib -rf"
      ],
      "execution_count": null,
      "outputs": [
        {
          "output_type": "stream",
          "name": "stdout",
          "text": [
            "Reading package lists... Done\n",
            "Building dependency tree       \n",
            "Reading state information... Done\n",
            "The following packages were automatically installed and are no longer required:\n",
            "  cuda-command-line-tools-10-0 cuda-command-line-tools-10-1\n",
            "  cuda-command-line-tools-11-0 cuda-compiler-10-0 cuda-compiler-10-1\n",
            "  cuda-compiler-11-0 cuda-cuobjdump-10-0 cuda-cuobjdump-10-1\n",
            "  cuda-cuobjdump-11-0 cuda-cupti-10-0 cuda-cupti-10-1 cuda-cupti-11-0\n",
            "  cuda-cupti-dev-11-0 cuda-documentation-10-0 cuda-documentation-10-1\n",
            "  cuda-documentation-11-0 cuda-documentation-11-1 cuda-gdb-10-0 cuda-gdb-10-1\n",
            "  cuda-gdb-11-0 cuda-gpu-library-advisor-10-0 cuda-gpu-library-advisor-10-1\n",
            "  cuda-libraries-10-0 cuda-libraries-10-1 cuda-libraries-11-0\n",
            "  cuda-memcheck-10-0 cuda-memcheck-10-1 cuda-memcheck-11-0 cuda-nsight-10-0\n",
            "  cuda-nsight-10-1 cuda-nsight-11-0 cuda-nsight-11-1 cuda-nsight-compute-10-0\n",
            "  cuda-nsight-compute-10-1 cuda-nsight-compute-11-0 cuda-nsight-compute-11-1\n",
            "  cuda-nsight-systems-10-1 cuda-nsight-systems-11-0 cuda-nsight-systems-11-1\n",
            "  cuda-nvcc-10-0 cuda-nvcc-10-1 cuda-nvcc-11-0 cuda-nvdisasm-10-0\n",
            "  cuda-nvdisasm-10-1 cuda-nvdisasm-11-0 cuda-nvml-dev-10-0 cuda-nvml-dev-10-1\n",
            "  cuda-nvml-dev-11-0 cuda-nvprof-10-0 cuda-nvprof-10-1 cuda-nvprof-11-0\n",
            "  cuda-nvprune-10-0 cuda-nvprune-10-1 cuda-nvprune-11-0 cuda-nvtx-10-0\n",
            "  cuda-nvtx-10-1 cuda-nvtx-11-0 cuda-nvvp-10-0 cuda-nvvp-10-1 cuda-nvvp-11-0\n",
            "  cuda-nvvp-11-1 cuda-samples-10-0 cuda-samples-10-1 cuda-samples-11-0\n",
            "  cuda-samples-11-1 cuda-sanitizer-11-0 cuda-sanitizer-api-10-1\n",
            "  cuda-toolkit-10-0 cuda-toolkit-10-1 cuda-toolkit-11-0 cuda-toolkit-11-1\n",
            "  cuda-tools-10-0 cuda-tools-10-1 cuda-tools-11-0 cuda-tools-11-1\n",
            "  cuda-visual-tools-10-0 cuda-visual-tools-10-1 cuda-visual-tools-11-0\n",
            "  cuda-visual-tools-11-1 default-jre dkms freeglut3 freeglut3-dev\n",
            "  keyboard-configuration libargon2-0 libcap2 libcryptsetup12\n",
            "  libdevmapper1.02.1 libfontenc1 libidn11 libip4tc0 libjansson4\n",
            "  libnvidia-cfg1-510 libnvidia-common-460 libnvidia-common-510\n",
            "  libnvidia-extra-510 libnvidia-fbc1-510 libnvidia-gl-510 libpam-systemd\n",
            "  libpolkit-agent-1-0 libpolkit-backend-1-0 libpolkit-gobject-1-0 libxfont2\n",
            "  libxi-dev libxkbfile1 libxmu-dev libxmu-headers libxnvctrl0 libxtst6\n",
            "  nsight-compute-2020.2.1 nsight-compute-2022.1.0 nsight-systems-2020.3.2\n",
            "  nsight-systems-2020.3.4 nsight-systems-2021.5.2 nvidia-dkms-510\n",
            "  nvidia-kernel-common-510 nvidia-kernel-source-510 nvidia-modprobe\n",
            "  nvidia-settings openjdk-11-jre policykit-1 policykit-1-gnome python3-xkit\n",
            "  screen-resolution-extra systemd systemd-sysv udev x11-xkb-utils\n",
            "  xserver-common xserver-xorg-core-hwe-18.04 xserver-xorg-video-nvidia-510\n",
            "Use 'sudo apt autoremove' to remove them.\n",
            "The following NEW packages will be installed:\n",
            "  fonts-nanum\n",
            "0 upgraded, 1 newly installed, 0 to remove and 39 not upgraded.\n",
            "Need to get 9,604 kB of archives.\n",
            "After this operation, 29.5 MB of additional disk space will be used.\n",
            "Get:1 http://archive.ubuntu.com/ubuntu bionic/universe amd64 fonts-nanum all 20170925-1 [9,604 kB]\n",
            "Fetched 9,604 kB in 0s (50.1 MB/s)\n",
            "debconf: unable to initialize frontend: Dialog\n",
            "debconf: (No usable dialog-like program is installed, so the dialog based frontend cannot be used. at /usr/share/perl5/Debconf/FrontEnd/Dialog.pm line 76, <> line 1.)\n",
            "debconf: falling back to frontend: Readline\n",
            "debconf: unable to initialize frontend: Readline\n",
            "debconf: (This frontend requires a controlling tty.)\n",
            "debconf: falling back to frontend: Teletype\n",
            "dpkg-preconfigure: unable to re-open stdin: \n",
            "Selecting previously unselected package fonts-nanum.\n",
            "(Reading database ... 155113 files and directories currently installed.)\n",
            "Preparing to unpack .../fonts-nanum_20170925-1_all.deb ...\n",
            "Unpacking fonts-nanum (20170925-1) ...\n",
            "Setting up fonts-nanum (20170925-1) ...\n",
            "Processing triggers for fontconfig (2.12.6-0ubuntu2) ...\n",
            "/usr/share/fonts: caching, new cache contents: 0 fonts, 1 dirs\n",
            "/usr/share/fonts/truetype: caching, new cache contents: 0 fonts, 3 dirs\n",
            "/usr/share/fonts/truetype/humor-sans: caching, new cache contents: 1 fonts, 0 dirs\n",
            "/usr/share/fonts/truetype/liberation: caching, new cache contents: 16 fonts, 0 dirs\n",
            "/usr/share/fonts/truetype/nanum: caching, new cache contents: 10 fonts, 0 dirs\n",
            "/usr/local/share/fonts: caching, new cache contents: 0 fonts, 0 dirs\n",
            "/root/.local/share/fonts: skipping, no such directory\n",
            "/root/.fonts: skipping, no such directory\n",
            "/var/cache/fontconfig: cleaning cache directory\n",
            "/root/.cache/fontconfig: not cleaning non-existent cache directory\n",
            "/root/.fontconfig: not cleaning non-existent cache directory\n",
            "fc-cache: succeeded\n"
          ]
        }
      ]
    },
    {
      "cell_type": "code",
      "metadata": {
        "id": "Rjjd-J_02E5X"
      },
      "source": [
        "import matplotlib.pyplot as plt\n",
        "plt.rc('font', family='NanumBarunGothic')"
      ],
      "execution_count": null,
      "outputs": []
    },
    {
      "cell_type": "code",
      "metadata": {
        "id": "lQcaWvCP4OrG",
        "colab": {
          "base_uri": "https://localhost:8080/",
          "height": 280
        },
        "outputId": "f792207f-c739-4610-e777-71a9cf1e1bea"
      },
      "source": [
        "plt.title('한글 제목')\n",
        "plt.show()"
      ],
      "execution_count": null,
      "outputs": [
        {
          "output_type": "display_data",
          "data": {
            "image/png": "[encoded data removed]",
            "text/plain": [
              "<Figure size 432x288 with 1 Axes>"
            ]
          },
          "metadata": {
            "needs_background": "light"
          }
        }
      ]
    },
    {
      "cell_type": "markdown",
      "metadata": {
        "id": "PAQ6QPDn2E5X"
      },
      "source": [
        "### **`matplotlib.pyplot.plot()`**"
      ]
    },
    {
      "cell_type": "code",
      "metadata": {
        "id": "fbbiPFoe2E5Y",
        "colab": {
          "base_uri": "https://localhost:8080/",
          "height": 283
        },
        "outputId": "2d33d6ea-3968-4459-9a50-8a28d1fd3262"
      },
      "source": [
        "plt.plot([1, 2, 3, 4])"
      ],
      "execution_count": null,
      "outputs": [
        {
          "output_type": "execute_result",
          "data": {
            "text/plain": [
              "[<matplotlib.lines.Line2D at 0x7f19d7577690>]"
            ]
          },
          "metadata": {},
          "execution_count": 3
        },
        {
          "output_type": "display_data",
          "data": {
            "image/png": "[encoded data removed]",
            "text/plain": [
              "<Figure size 432x288 with 1 Axes>"
            ]
          },
          "metadata": {
            "needs_background": "light"
          }
        }
      ]
    },
    {
      "cell_type": "code",
      "metadata": {
        "id": "pPYl6c4N2E5Y",
        "colab": {
          "base_uri": "https://localhost:8080/",
          "height": 283
        },
        "outputId": "8deecedc-90c9-405a-cab2-e50fd95daa93"
      },
      "source": [
        "plt.plot([10,20,30,40], [1,2,3,4])"
      ],
      "execution_count": null,
      "outputs": [
        {
          "output_type": "execute_result",
          "data": {
            "text/plain": [
              "[<matplotlib.lines.Line2D at 0x7f19d7503450>]"
            ]
          },
          "metadata": {},
          "execution_count": 4
        },
        {
          "output_type": "display_data",
          "data": {
            "image/png": "[encoded data removed]",
            "text/plain": [
              "<Figure size 432x288 with 1 Axes>"
            ]
          },
          "metadata": {
            "needs_background": "light"
          }
        }
      ]
    },
    {
      "cell_type": "code",
      "metadata": {
        "id": "4aW23DPQKg--"
      },
      "source": [
        "x = [1, 2, 3, 4]\n",
        "y = [2, 4, 6, 8]"
      ],
      "execution_count": null,
      "outputs": []
    },
    {
      "cell_type": "code",
      "source": [
        "plt.plot(x, y)\n",
        "# plt.show()"
      ],
      "metadata": {
        "colab": {
          "base_uri": "https://localhost:8080/",
          "height": 283
        },
        "id": "thZ5q6nkLVci",
        "outputId": "cdd1ff0f-baab-4c86-ff99-8430ed9eec87"
      },
      "execution_count": null,
      "outputs": [
        {
          "output_type": "execute_result",
          "data": {
            "text/plain": [
              "[<matplotlib.lines.Line2D at 0x7f19d6f89c50>]"
            ]
          },
          "metadata": {},
          "execution_count": 9
        },
        {
          "output_type": "display_data",
          "data": {
            "image/png": "[encoded data removed]",
            "text/plain": [
              "<Figure size 432x288 with 1 Axes>"
            ]
          },
          "metadata": {
            "needs_background": "light"
          }
        }
      ]
    },
    {
      "cell_type": "code",
      "metadata": {
        "id": "nYKWkRdT2E5Z",
        "colab": {
          "base_uri": "https://localhost:8080/",
          "height": 283
        },
        "outputId": "dbf52571-94c9-46c6-b9b4-63f99dd6d097"
      },
      "source": [
        "plt.plot(x, y, color='r')"
      ],
      "execution_count": null,
      "outputs": [
        {
          "output_type": "execute_result",
          "data": {
            "text/plain": [
              "[<matplotlib.lines.Line2D at 0x7f19d754d710>]"
            ]
          },
          "metadata": {},
          "execution_count": 10
        },
        {
          "output_type": "display_data",
          "data": {
            "image/png": "[encoded data removed]",
            "text/plain": [
              "<Figure size 432x288 with 1 Axes>"
            ]
          },
          "metadata": {
            "needs_background": "light"
          }
        }
      ]
    },
    {
      "cell_type": "code",
      "metadata": {
        "id": "C2B2foA42E5Z",
        "colab": {
          "base_uri": "https://localhost:8080/",
          "height": 283
        },
        "outputId": "7ade51e0-b46c-410c-ea4d-f603bbcc70c3"
      },
      "source": [
        "plt.plot(x, y, 'r')"
      ],
      "execution_count": null,
      "outputs": [
        {
          "output_type": "execute_result",
          "data": {
            "text/plain": [
              "[<matplotlib.lines.Line2D at 0x7f19d743c490>]"
            ]
          },
          "metadata": {},
          "execution_count": 11
        },
        {
          "output_type": "display_data",
          "data": {
            "image/png": "[encoded data removed]",
            "text/plain": [
              "<Figure size 432x288 with 1 Axes>"
            ]
          },
          "metadata": {
            "needs_background": "light"
          }
        }
      ]
    },
    {
      "cell_type": "code",
      "metadata": {
        "id": "ffu3kZxQ2E5Z",
        "colab": {
          "base_uri": "https://localhost:8080/",
          "height": 283
        },
        "outputId": "1109c0d1-2966-4abf-d5da-01da50b7052c"
      },
      "source": [
        "plt.plot(x, y, 'o')"
      ],
      "execution_count": null,
      "outputs": [
        {
          "output_type": "execute_result",
          "data": {
            "text/plain": [
              "[<matplotlib.lines.Line2D at 0x7f19d7aeb210>]"
            ]
          },
          "metadata": {},
          "execution_count": 12
        },
        {
          "output_type": "display_data",
          "data": {
            "image/png": "[encoded data removed]",
            "text/plain": [
              "<Figure size 432x288 with 1 Axes>"
            ]
          },
          "metadata": {
            "needs_background": "light"
          }
        }
      ]
    },
    {
      "cell_type": "code",
      "metadata": {
        "id": "Hput5JxKLF2_",
        "colab": {
          "base_uri": "https://localhost:8080/",
          "height": 283
        },
        "outputId": "2a55e13b-5184-4dc2-864e-166fdd31561e"
      },
      "source": [
        "plt.plot(x, y, 'o', color='r')"
      ],
      "execution_count": null,
      "outputs": [
        {
          "output_type": "execute_result",
          "data": {
            "text/plain": [
              "[<matplotlib.lines.Line2D at 0x7f19d6e65cd0>]"
            ]
          },
          "metadata": {},
          "execution_count": 13
        },
        {
          "output_type": "display_data",
          "data": {
            "image/png": "[encoded data removed]",
            "text/plain": [
              "<Figure size 432x288 with 1 Axes>"
            ]
          },
          "metadata": {
            "needs_background": "light"
          }
        }
      ]
    },
    {
      "cell_type": "code",
      "metadata": {
        "id": "Ffy8siJC2E5Z",
        "colab": {
          "base_uri": "https://localhost:8080/",
          "height": 283
        },
        "outputId": "8c46617e-bae0-4e1c-9970-6ed300b37a79"
      },
      "source": [
        "plt.plot(x, y, 'ro')"
      ],
      "execution_count": null,
      "outputs": [
        {
          "output_type": "execute_result",
          "data": {
            "text/plain": [
              "[<matplotlib.lines.Line2D at 0x7f19d6de2090>]"
            ]
          },
          "metadata": {},
          "execution_count": 14
        },
        {
          "output_type": "display_data",
          "data": {
            "image/png": "[encoded data removed]",
            "text/plain": [
              "<Figure size 432x288 with 1 Axes>"
            ]
          },
          "metadata": {
            "needs_background": "light"
          }
        }
      ]
    },
    {
      "cell_type": "code",
      "metadata": {
        "id": "Wcf1CmY9L146",
        "colab": {
          "base_uri": "https://localhost:8080/",
          "height": 283
        },
        "outputId": "e750c001-ead2-4b4a-8674-fc36bb319942"
      },
      "source": [
        "plt.plot(x, y, 'o-', color='r')"
      ],
      "execution_count": null,
      "outputs": [
        {
          "output_type": "execute_result",
          "data": {
            "text/plain": [
              "[<matplotlib.lines.Line2D at 0x7f19d6dd3150>]"
            ]
          },
          "metadata": {},
          "execution_count": 15
        },
        {
          "output_type": "display_data",
          "data": {
            "image/png": "[encoded data removed]",
            "text/plain": [
              "<Figure size 432x288 with 1 Axes>"
            ]
          },
          "metadata": {
            "needs_background": "light"
          }
        }
      ]
    },
    {
      "cell_type": "markdown",
      "metadata": {
        "id": "FnHux8f72E5a"
      },
      "source": [
        "`matplotlib.pyplot.plot()`에 관한 보다 자세한 내용은 [링크](https://matplotlib.org/2.1.1/api/_as_gen/matplotlib.pyplot.plot.html)를 참고하세요."
      ]
    },
    {
      "cell_type": "markdown",
      "metadata": {
        "id": "u0nszutq2E5a"
      },
      "source": [
        "### **`matplotlib.pyplot.subplots()`**"
      ]
    },
    {
      "cell_type": "code",
      "metadata": {
        "id": "gt-CihNh2E5a",
        "colab": {
          "base_uri": "https://localhost:8080/",
          "height": 356
        },
        "outputId": "49dd78be-a1a4-4cb0-a3cc-5771cf98b2c0"
      },
      "source": [
        "fig, ax = plt.subplots(2, 2, figsize=(8,5))\n",
        "plt.suptitle('Figure')\n",
        "\n",
        "ax[0][0].plot([1, 2, 3, 4], 'ro-')\n",
        "ax[0][0].title.set_text('Figure 1')\n",
        "ax[0][1].plot([1, 2, 3, 4], 'bo--')\n",
        "ax[0][1].title.set_text('Figure 2')\n",
        "ax[1][0].plot([1, 2, 3, 4], 'k*')\n",
        "ax[1][0].title.set_text('Figure 3')\n",
        "ax[1][1].plot([3, 5], [3, 5], 'bo:')\n",
        "ax[1][1].plot([3, 7], [5, 4], 'kx')\n",
        "ax[1][1].title.set_text('Figure 4')\n",
        "plt.subplots_adjust(hspace=.5)\n",
        "plt.show()"
      ],
      "execution_count": null,
      "outputs": [
        {
          "output_type": "display_data",
          "data": {
            "image/png": "[encoded data removed]",
            "text/plain": [
              "<Figure size 576x360 with 4 Axes>"
            ]
          },
          "metadata": {
            "needs_background": "light"
          }
        }
      ]
    },
    {
      "cell_type": "markdown",
      "metadata": {
        "id": "m-T2TBGr2E5b"
      },
      "source": [
        "### `savefig()`"
      ]
    },
    {
      "cell_type": "code",
      "metadata": {
        "id": "tIWC3mls2E5b"
      },
      "source": [
        "# matplotlib으로 작성된 그림을 로컬 파일로 저장할 수 있다. \n",
        "fig.savefig('subplots.png')"
      ],
      "execution_count": null,
      "outputs": []
    },
    {
      "cell_type": "markdown",
      "metadata": {
        "id": "TG6L2z7s2E5b"
      },
      "source": [
        "## __Seaborn__"
      ]
    },
    {
      "cell_type": "code",
      "metadata": {
        "id": "MRhxK0xe2E5b"
      },
      "source": [
        "import seaborn as sns\n",
        "%matplotlib inline"
      ],
      "execution_count": null,
      "outputs": []
    },
    {
      "cell_type": "markdown",
      "metadata": {
        "id": "0Z9W2TBdynyP"
      },
      "source": [
        "### __데이터 불러오기__"
      ]
    },
    {
      "cell_type": "markdown",
      "metadata": {
        "id": "F18XrQemgEml"
      },
      "source": [
        "### **타이타닉 데이터 소개: Data Dictionary**\n",
        "\n",
        "| Variable | Definition\t| Description |\n",
        "| :-: | :-: | :-: |\n",
        "| PassengerId | 승객 ID | |\n",
        "| Survived |\t생존 여부\t| 0 = 사망, 1 = 생존 |\n",
        "| Pclass\t| 티켓 등급 |\t1 = 1st, 2 = 2nd, 3 = 3rd |\n",
        "| Name | 성명 | |\n",
        "| Sex |\t성별 | |\n",
        "| Age |\t나이 |  |\n",
        "| SibSp |\t승선한 형제자매(siblings) 및 배우자(spouses)의 수 |\n",
        "| Parch | 승선한 부모(parents) 및 자식(children)의 수 |\n",
        "| Ticket |\t티켓 번호\t|\n",
        "| Fare | 티켓 가격\t|\n",
        "| Cabin\t| 객실 번호\t|\n",
        "| Embarked\t| 승선 항구 |\tC = Cherbourg, Q = Queenstown, S = Southampton |"
      ]
    },
    {
      "cell_type": "code",
      "metadata": {
        "id": "g57YiSy1b_bm",
        "colab": {
          "base_uri": "https://localhost:8080/"
        },
        "outputId": "bc0ab527-0ad3-4707-8e52-11765e7c2a60"
      },
      "source": [
        "import pandas as pd\n",
        "!gdown --id 1J9k6l2kzJ_VoWt9Epqy1qlKnMJ_mcTnR # 데이터 다운로드\n",
        "titanic_data = pd.read_csv('train.csv')"
      ],
      "execution_count": null,
      "outputs": [
        {
          "output_type": "stream",
          "name": "stdout",
          "text": [
            "Downloading...\n",
            "From: https://drive.google.com/uc?id=1J9k6l2kzJ_VoWt9Epqy1qlKnMJ_mcTnR\n",
            "To: /content/train.csv\n",
            "\r  0% 0.00/61.2k [00:00<?, ?B/s]\r100% 61.2k/61.2k [00:00<00:00, 82.7MB/s]\n"
          ]
        }
      ]
    },
    {
      "cell_type": "code",
      "metadata": {
        "id": "SMdDlqq42E5c",
        "colab": {
          "base_uri": "https://localhost:8080/",
          "height": 285
        },
        "outputId": "63b0dd3a-70e4-42ed-ac50-64ad083f02fa"
      },
      "source": [
        "titanic_data.head()"
      ],
      "execution_count": null,
      "outputs": [
        {
          "output_type": "execute_result",
          "data": {
            "text/html": [
              "\n",
              "  <div id=\"df-0cd370fa-7373-40a0-82ee-92169f2b94ca\">\n",
              "    <div class=\"colab-df-container\">\n",
              "      <div>\n",
              "<style scoped>\n",
              "    .dataframe tbody tr th:only-of-type {\n",
              "        vertical-align: middle;\n",
              "    }\n",
              "\n",
              "    .dataframe tbody tr th {\n",
              "        vertical-align: top;\n",
              "    }\n",
              "\n",
              "    .dataframe thead th {\n",
              "        text-align: right;\n",
              "    }\n",
              "</style>\n",
              "<table border=\"1\" class=\"dataframe\">\n",
              "  <thead>\n",
              "    <tr style=\"text-align: right;\">\n",
              "      <th></th>\n",
              "      <th>PassengerId</th>\n",
              "      <th>Survived</th>\n",
              "      <th>Pclass</th>\n",
              "      <th>Name</th>\n",
              "      <th>Sex</th>\n",
              "      <th>Age</th>\n",
              "      <th>SibSp</th>\n",
              "      <th>Parch</th>\n",
              "      <th>Ticket</th>\n",
              "      <th>Fare</th>\n",
              "      <th>Cabin</th>\n",
              "      <th>Embarked</th>\n",
              "    </tr>\n",
              "  </thead>\n",
              "  <tbody>\n",
              "    <tr>\n",
              "      <th>0</th>\n",
              "      <td>1</td>\n",
              "      <td>0</td>\n",
              "      <td>3</td>\n",
              "      <td>Braund, Mr. Owen Harris</td>\n",
              "      <td>male</td>\n",
              "      <td>22.0</td>\n",
              "      <td>1</td>\n",
              "      <td>0</td>\n",
              "      <td>A/5 21171</td>\n",
              "      <td>7.2500</td>\n",
              "      <td>NaN</td>\n",
              "      <td>S</td>\n",
              "    </tr>\n",
              "    <tr>\n",
              "      <th>1</th>\n",
              "      <td>2</td>\n",
              "      <td>1</td>\n",
              "      <td>1</td>\n",
              "      <td>Cumings, Mrs. John Bradley (Florence Briggs Th...</td>\n",
              "      <td>female</td>\n",
              "      <td>38.0</td>\n",
              "      <td>1</td>\n",
              "      <td>0</td>\n",
              "      <td>PC 17599</td>\n",
              "      <td>71.2833</td>\n",
              "      <td>C85</td>\n",
              "      <td>C</td>\n",
              "    </tr>\n",
              "    <tr>\n",
              "      <th>2</th>\n",
              "      <td>3</td>\n",
              "      <td>1</td>\n",
              "      <td>3</td>\n",
              "      <td>Heikkinen, Miss. Laina</td>\n",
              "      <td>female</td>\n",
              "      <td>26.0</td>\n",
              "      <td>0</td>\n",
              "      <td>0</td>\n",
              "      <td>STON/O2. 3101282</td>\n",
              "      <td>7.9250</td>\n",
              "      <td>NaN</td>\n",
              "      <td>S</td>\n",
              "    </tr>\n",
              "    <tr>\n",
              "      <th>3</th>\n",
              "      <td>4</td>\n",
              "      <td>1</td>\n",
              "      <td>1</td>\n",
              "      <td>Futrelle, Mrs. Jacques Heath (Lily May Peel)</td>\n",
              "      <td>female</td>\n",
              "      <td>35.0</td>\n",
              "      <td>1</td>\n",
              "      <td>0</td>\n",
              "      <td>113803</td>\n",
              "      <td>53.1000</td>\n",
              "      <td>C123</td>\n",
              "      <td>S</td>\n",
              "    </tr>\n",
              "    <tr>\n",
              "      <th>4</th>\n",
              "      <td>5</td>\n",
              "      <td>0</td>\n",
              "      <td>3</td>\n",
              "      <td>Allen, Mr. William Henry</td>\n",
              "      <td>male</td>\n",
              "      <td>35.0</td>\n",
              "      <td>0</td>\n",
              "      <td>0</td>\n",
              "      <td>373450</td>\n",
              "      <td>8.0500</td>\n",
              "      <td>NaN</td>\n",
              "      <td>S</td>\n",
              "    </tr>\n",
              "  </tbody>\n",
              "</table>\n",
              "</div>\n",
              "      <button class=\"colab-df-convert\" onclick=\"convertToInteractive('df-0cd370fa-7373-40a0-82ee-92169f2b94ca')\"\n",
              "              title=\"Convert this dataframe to an interactive table.\"\n",
              "              style=\"display:none;\">\n",
              "        \n",
              "  <svg xmlns=\"http://www.w3.org/2000/svg\" height=\"24px\"viewBox=\"0 0 24 24\"\n",
              "       width=\"24px\">\n",
              "    <path d=\"M0 0h24v24H0V0z\" fill=\"none\"/>\n",
              "    <path d=\"M18.56 5.44l.94 2.06.94-2.06 2.06-.94-2.06-.94-.94-2.06-.94 2.06-2.06.94zm-11 1L8.5 8.5l.94-2.06 2.06-.94-2.06-.94L8.5 2.5l-.94 2.06-2.06.94zm10 10l.94 2.06.94-2.06 2.06-.94-2.06-.94-.94-2.06-.94 2.06-2.06.94z\"/><path d=\"M17.41 7.96l-1.37-1.37c-.4-.4-.92-.59-1.43-.59-.52 0-1.04.2-1.43.59L10.3 9.45l-7.72 7.72c-.78.78-.78 2.05 0 2.83L4 21.41c.39.39.9.59 1.41.59.51 0 1.02-.2 1.41-.59l7.78-7.78 2.81-2.81c.8-.78.8-2.07 0-2.86zM5.41 20L4 18.59l7.72-7.72 1.47 1.35L5.41 20z\"/>\n",
              "  </svg>\n",
              "      </button>\n",
              "      \n",
              "  <style>\n",
              "    .colab-df-container {\n",
              "      display:flex;\n",
              "      flex-wrap:wrap;\n",
              "      gap: 12px;\n",
              "    }\n",
              "\n",
              "    .colab-df-convert {\n",
              "      background-color: #E8F0FE;\n",
              "      border: none;\n",
              "      border-radius: 50%;\n",
              "      cursor: pointer;\n",
              "      display: none;\n",
              "      fill: #1967D2;\n",
              "      height: 32px;\n",
              "      padding: 0 0 0 0;\n",
              "      width: 32px;\n",
              "    }\n",
              "\n",
              "    .colab-df-convert:hover {\n",
              "      background-color: #E2EBFA;\n",
              "      box-shadow: 0px 1px 2px rgba(60, 64, 67, 0.3), 0px 1px 3px 1px rgba(60, 64, 67, 0.15);\n",
              "      fill: #174EA6;\n",
              "    }\n",
              "\n",
              "    [theme=dark] .colab-df-convert {\n",
              "      background-color: #3B4455;\n",
              "      fill: #D2E3FC;\n",
              "    }\n",
              "\n",
              "    [theme=dark] .colab-df-convert:hover {\n",
              "      background-color: #434B5C;\n",
              "      box-shadow: 0px 1px 3px 1px rgba(0, 0, 0, 0.15);\n",
              "      filter: drop-shadow(0px 1px 2px rgba(0, 0, 0, 0.3));\n",
              "      fill: #FFFFFF;\n",
              "    }\n",
              "  </style>\n",
              "\n",
              "      <script>\n",
              "        const buttonEl =\n",
              "          document.querySelector('#df-0cd370fa-7373-40a0-82ee-92169f2b94ca button.colab-df-convert');\n",
              "        buttonEl.style.display =\n",
              "          google.colab.kernel.accessAllowed ? 'block' : 'none';\n",
              "\n",
              "        async function convertToInteractive(key) {\n",
              "          const element = document.querySelector('#df-0cd370fa-7373-40a0-82ee-92169f2b94ca');\n",
              "          const dataTable =\n",
              "            await google.colab.kernel.invokeFunction('convertToInteractive',\n",
              "                                                     [key], {});\n",
              "          if (!dataTable) return;\n",
              "\n",
              "          const docLinkHtml = 'Like what you see? Visit the ' +\n",
              "            '<a target=\"_blank\" href=https://colab.research.google.com/notebooks/data_table.ipynb>data table notebook</a>'\n",
              "            + ' to learn more about interactive tables.';\n",
              "          element.innerHTML = '';\n",
              "          dataTable['output_type'] = 'display_data';\n",
              "          await google.colab.output.renderOutput(dataTable, element);\n",
              "          const docLink = document.createElement('div');\n",
              "          docLink.innerHTML = docLinkHtml;\n",
              "          element.appendChild(docLink);\n",
              "        }\n",
              "      </script>\n",
              "    </div>\n",
              "  </div>\n",
              "  "
            ],
            "text/plain": [
              "   PassengerId  Survived  Pclass  ...     Fare Cabin  Embarked\n",
              "0            1         0       3  ...   7.2500   NaN         S\n",
              "1            2         1       1  ...  71.2833   C85         C\n",
              "2            3         1       3  ...   7.9250   NaN         S\n",
              "3            4         1       1  ...  53.1000  C123         S\n",
              "4            5         0       3  ...   8.0500   NaN         S\n",
              "\n",
              "[5 rows x 12 columns]"
            ]
          },
          "metadata": {},
          "execution_count": 20
        }
      ]
    },
    {
      "cell_type": "markdown",
      "metadata": {
        "id": "h3AoSwA84Yjo"
      },
      "source": [
        "### __히스토그램__(Histogram)"
      ]
    },
    {
      "cell_type": "markdown",
      "metadata": {
        "id": "PFICXitKtsS4"
      },
      "source": [
        "`seaborn`의 `countplot`을 활용하여 카테고리별 빈도수를 나타내는 히스토그램을 작성합니다. "
      ]
    },
    {
      "cell_type": "code",
      "metadata": {
        "id": "cqi9ZMwi6_U7",
        "scrolled": true,
        "colab": {
          "base_uri": "https://localhost:8080/",
          "height": 279
        },
        "outputId": "89b617af-481d-4a3a-ad6e-5480a549c527"
      },
      "source": [
        "f = sns.countplot(x='Survived', data=titanic_data)\n",
        "plt.show()"
      ],
      "execution_count": null,
      "outputs": [
        {
          "output_type": "display_data",
          "data": {
            "image/png": "[encoded data removed]",
            "text/plain": [
              "<Figure size 432x288 with 1 Axes>"
            ]
          },
          "metadata": {
            "needs_background": "light"
          }
        }
      ]
    },
    {
      "cell_type": "markdown",
      "metadata": {
        "id": "9rbL8tJf7C4t"
      },
      "source": [
        "#### ___Exercise #1___\n",
        "타이타닉호에 탑승한 남자와 여자의 수를 나타내는 히스토그램을 그려보세요.\n"
      ]
    },
    {
      "cell_type": "code",
      "metadata": {
        "id": "zsyoNKjf7Mkz",
        "scrolled": true,
        "colab": {
          "base_uri": "https://localhost:8080/",
          "height": 281
        },
        "outputId": "f794f4de-a1e0-4b86-d0e7-39cf37f96995"
      },
      "source": [
        "## 코드 작성\n",
        "f = sns.countplot(x='Sex', data=titanic_data)\n",
        "plt.show()"
      ],
      "execution_count": null,
      "outputs": [
        {
          "output_type": "display_data",
          "data": {
            "image/png": "[encoded data removed]",
            "text/plain": [
              "<Figure size 432x288 with 1 Axes>"
            ]
          },
          "metadata": {
            "needs_background": "light"
          }
        }
      ]
    },
    {
      "cell_type": "markdown",
      "metadata": {
        "id": "o33QI6CPt5ad"
      },
      "source": [
        "`hue` 옵션을 활용하면 여러 계열에 대한 히스토그램을 작성할 수 있습니다."
      ]
    },
    {
      "cell_type": "code",
      "source": [
        "sns.countplot(x='Pclass', data=titanic_data)"
      ],
      "metadata": {
        "colab": {
          "base_uri": "https://localhost:8080/",
          "height": 297
        },
        "id": "YjhQ2LWIOQ54",
        "outputId": "abeb67bb-fde5-41ee-da8c-36850720b370"
      },
      "execution_count": null,
      "outputs": [
        {
          "output_type": "execute_result",
          "data": {
            "text/plain": [
              "<matplotlib.axes._subplots.AxesSubplot at 0x7f19c8100910>"
            ]
          },
          "metadata": {},
          "execution_count": 24
        },
        {
          "output_type": "display_data",
          "data": {
            "image/png": "[encoded data removed]",
            "text/plain": [
              "<Figure size 432x288 with 1 Axes>"
            ]
          },
          "metadata": {
            "needs_background": "light"
          }
        }
      ]
    },
    {
      "cell_type": "code",
      "metadata": {
        "id": "5ZC9ln6D7btb",
        "scrolled": true,
        "colab": {
          "base_uri": "https://localhost:8080/",
          "height": 279
        },
        "outputId": "60e33782-6d0a-4ae0-e18f-3dcec72a7d4a"
      },
      "source": [
        "f = sns.countplot(x='Pclass', hue='Survived', data=titanic_data)\n",
        "plt.show()"
      ],
      "execution_count": null,
      "outputs": [
        {
          "output_type": "display_data",
          "data": {
            "image/png": "[encoded data removed]",
            "text/plain": [
              "<Figure size 432x288 with 1 Axes>"
            ]
          },
          "metadata": {
            "needs_background": "light"
          }
        }
      ]
    },
    {
      "cell_type": "markdown",
      "metadata": {
        "id": "5M4xC1Er8V1Z"
      },
      "source": [
        "#### ___Exercise #2___\n",
        "성별에 따른 생존자 수를 나타내는 히스토그램을 그려보세요."
      ]
    },
    {
      "cell_type": "code",
      "metadata": {
        "id": "vJLrDt3f8g4c",
        "scrolled": true,
        "colab": {
          "base_uri": "https://localhost:8080/",
          "height": 279
        },
        "outputId": "5607c0dd-ecb3-43b3-fb87-f6bb2d4ad90d"
      },
      "source": [
        "## 코드 작성\n",
        "f = sns.countplot(x='Sex', hue='Survived', data=titanic_data)\n",
        "plt.show()"
      ],
      "execution_count": null,
      "outputs": [
        {
          "output_type": "display_data",
          "data": {
            "image/png": "[encoded data removed]",
            "text/plain": [
              "<Figure size 432x288 with 1 Axes>"
            ]
          },
          "metadata": {
            "needs_background": "light"
          }
        }
      ]
    },
    {
      "cell_type": "markdown",
      "metadata": {
        "id": "97dm8xtxuFTs"
      },
      "source": [
        "### __Figure 편집하기__"
      ]
    },
    {
      "cell_type": "markdown",
      "metadata": {
        "id": "WjL1OJEZuVCJ"
      },
      "source": [
        "`matplotlib.pyplot`의 다양한 옵션을 활용하여 figure를 원하는 대로 편집할 수 있습니다. "
      ]
    },
    {
      "cell_type": "code",
      "metadata": {
        "id": "y9dJDKXfs8E9",
        "scrolled": true,
        "colab": {
          "base_uri": "https://localhost:8080/",
          "height": 238
        },
        "outputId": "c36e0685-c61c-4089-8bb2-7712755817cd"
      },
      "source": [
        "f = plt.figure(figsize=(5,3))\n",
        "plt.title('Pclass vs. Survived', fontsize=10)\n",
        "sns.countplot(x='Pclass', hue='Survived', data=titanic_data)\n",
        "plt.show()"
      ],
      "execution_count": null,
      "outputs": [
        {
          "output_type": "display_data",
          "data": {
            "image/png": "[encoded data removed]",
            "text/plain": [
              "<Figure size 360x216 with 1 Axes>"
            ]
          },
          "metadata": {
            "needs_background": "light"
          }
        }
      ]
    },
    {
      "cell_type": "code",
      "metadata": {
        "id": "6kGJzT0F2E5e",
        "colab": {
          "base_uri": "https://localhost:8080/",
          "height": 279
        },
        "outputId": "23fa82e6-126c-41aa-e5b8-1f91a20c935e"
      },
      "source": [
        "f = sns.countplot(x='Embarked', hue='Pclass', data=titanic_data)\n",
        "plt.show()"
      ],
      "execution_count": null,
      "outputs": [
        {
          "output_type": "display_data",
          "data": {
            "image/png": "[encoded data removed]",
            "text/plain": [
              "<Figure size 432x288 with 1 Axes>"
            ]
          },
          "metadata": {
            "needs_background": "light"
          }
        }
      ]
    },
    {
      "cell_type": "markdown",
      "metadata": {
        "id": "S9MI-oQUvgFk"
      },
      "source": [
        "#### ___Exercise #3___\n",
        "성별에 따른 생존자 수를 나타내는 히스토그램을 그려보세요.\n",
        "- Figure 크기: (16, 8)\n",
        "- 제목: \"Sex vs. Survived\" (폰트 사이즈: 15)"
      ]
    },
    {
      "cell_type": "code",
      "metadata": {
        "id": "zFkLwl8KwEFE",
        "scrolled": true,
        "colab": {
          "base_uri": "https://localhost:8080/",
          "height": 515
        },
        "outputId": "bca948a4-f46b-42de-9864-7f62f5ae9612"
      },
      "source": [
        "## 코드 작성\n",
        "f = plt.figure(figsize=(16, 8))\n",
        "plt.title(\"Sex vs. Survived\", fontsize=15)\n",
        "sns.countplot(x='Sex', hue='Survived', data=titanic_data)\n",
        "plt.show()"
      ],
      "execution_count": null,
      "outputs": [
        {
          "output_type": "display_data",
          "data": {
            "image/png": "[encoded data removed]",
            "text/plain": [
              "<Figure size 1152x576 with 1 Axes>"
            ]
          },
          "metadata": {
            "needs_background": "light"
          }
        }
      ]
    },
    {
      "cell_type": "markdown",
      "metadata": {
        "id": "10Cd0AjrzoWR"
      },
      "source": [
        "### __파이 차트(Pie Chart)__"
      ]
    },
    {
      "cell_type": "markdown",
      "metadata": {
        "id": "Q1W8DFikuyZ9"
      },
      "source": [
        "`pandas` `DataFrame`의 `plot` 기능을 활용하여 범주별 빈도수의 비율을 나타내는 파이 차트를 작성합니다. "
      ]
    },
    {
      "cell_type": "code",
      "metadata": {
        "id": "Y-2-icPuN23L",
        "scrolled": true,
        "colab": {
          "base_uri": "https://localhost:8080/"
        },
        "outputId": "c6d12832-b1ca-474e-d60f-e6ed46e0c85f"
      },
      "source": [
        "titanic_data['Survived'].value_counts()"
      ],
      "execution_count": null,
      "outputs": [
        {
          "output_type": "execute_result",
          "data": {
            "text/plain": [
              "0    549\n",
              "1    342\n",
              "Name: Survived, dtype: int64"
            ]
          },
          "metadata": {},
          "execution_count": 31
        }
      ]
    },
    {
      "cell_type": "code",
      "metadata": {
        "id": "GxcRxnyG2E5f",
        "colab": {
          "base_uri": "https://localhost:8080/"
        },
        "outputId": "7debc761-6edf-4bb8-ea45-ab607097e154"
      },
      "source": [
        "titanic_data['Sex'].value_counts()"
      ],
      "execution_count": null,
      "outputs": [
        {
          "output_type": "execute_result",
          "data": {
            "text/plain": [
              "male      577\n",
              "female    314\n",
              "Name: Sex, dtype: int64"
            ]
          },
          "metadata": {},
          "execution_count": 32
        }
      ]
    },
    {
      "cell_type": "code",
      "metadata": {
        "id": "ZSCuE_qJzpMd",
        "scrolled": true,
        "colab": {
          "base_uri": "https://localhost:8080/",
          "height": 248
        },
        "outputId": "14ec62af-2df9-42c8-823d-18b9c350ff97"
      },
      "source": [
        "f = titanic_data['Survived'].value_counts().plot.pie(autopct='%.1f%%')"
      ],
      "execution_count": null,
      "outputs": [
        {
          "output_type": "display_data",
          "data": {
            "image/png": "[encoded data removed]",
            "text/plain": [
              "<Figure size 432x288 with 1 Axes>"
            ]
          },
          "metadata": {}
        }
      ]
    },
    {
      "cell_type": "markdown",
      "metadata": {
        "id": "KlFCNk2g0hOu"
      },
      "source": [
        "#### ___Exercise #4___\n",
        "타이타닉호 탑승객의 남녀 성비를 나타내는 파이 차트를 그려보세요. "
      ]
    },
    {
      "cell_type": "code",
      "metadata": {
        "id": "RoL6T36Y0rSx",
        "scrolled": true,
        "colab": {
          "base_uri": "https://localhost:8080/",
          "height": 248
        },
        "outputId": "eaeeb9bb-0e43-45cf-ca71-b660b344f436"
      },
      "source": [
        "## 코드 작성\n",
        "f = titanic_data['Sex'].value_counts().plot.pie(autopct='%.1f%%')\n",
        "plt.show()"
      ],
      "execution_count": null,
      "outputs": [
        {
          "output_type": "display_data",
          "data": {
            "image/png": "[encoded data removed]",
            "text/plain": [
              "<Figure size 432x288 with 1 Axes>"
            ]
          },
          "metadata": {}
        }
      ]
    },
    {
      "cell_type": "markdown",
      "metadata": {
        "id": "0C8VYY6Pw_Zd"
      },
      "source": [
        "### __막대 그래프(Bar Chart)__"
      ]
    },
    {
      "cell_type": "markdown",
      "metadata": {
        "id": "UfUr-JE5vCNi"
      },
      "source": [
        "`seaborn`의 `barplot`을 활용하여 막대 그래프를 작성합니다. "
      ]
    },
    {
      "cell_type": "code",
      "metadata": {
        "id": "cvV3xMspxEqf",
        "scrolled": true,
        "colab": {
          "base_uri": "https://localhost:8080/"
        },
        "outputId": "03976a40-88e4-4a05-fff3-8d172cc90beb"
      },
      "source": [
        "print(titanic_data.columns)"
      ],
      "execution_count": null,
      "outputs": [
        {
          "output_type": "stream",
          "name": "stdout",
          "text": [
            "Index(['PassengerId', 'Survived', 'Pclass', 'Name', 'Sex', 'Age', 'SibSp',\n",
            "       'Parch', 'Ticket', 'Fare', 'Cabin', 'Embarked'],\n",
            "      dtype='object')\n"
          ]
        }
      ]
    },
    {
      "cell_type": "code",
      "metadata": {
        "id": "tld7JpP4xN2I",
        "scrolled": true,
        "colab": {
          "base_uri": "https://localhost:8080/",
          "height": 279
        },
        "outputId": "bf9d5213-7910-478c-820a-6c3430589c38"
      },
      "source": [
        "f = sns.barplot(x='PassengerId', y='Age', data=titanic_data.head())\n",
        "plt.show()"
      ],
      "execution_count": null,
      "outputs": [
        {
          "output_type": "display_data",
          "data": {
            "image/png": "[encoded data removed]",
            "text/plain": [
              "<Figure size 432x288 with 1 Axes>"
            ]
          },
          "metadata": {
            "needs_background": "light"
          }
        }
      ]
    },
    {
      "cell_type": "markdown",
      "metadata": {
        "id": "Yp5GU0aQxjXO"
      },
      "source": [
        "#### ___Exercise #5___\n",
        "`titanic_data`의 맨 위 8명의 승객의 `PassengerId`와 `Fare`를 순서대로 나타내는 막대 그래프를 그려보세요."
      ]
    },
    {
      "cell_type": "code",
      "metadata": {
        "id": "tCpYSdE_x5EQ",
        "scrolled": true,
        "colab": {
          "base_uri": "https://localhost:8080/",
          "height": 279
        },
        "outputId": "fb4f1d70-6047-49ec-bbbf-74c625863eee"
      },
      "source": [
        "## 코드 작성\n",
        "f = sns.barplot(x='PassengerId', y='Fare', data=titanic_data.head(8))\n",
        "plt.show()"
      ],
      "execution_count": null,
      "outputs": [
        {
          "output_type": "display_data",
          "data": {
            "image/png": "[encoded data removed]",
            "text/plain": [
              "<Figure size 432x288 with 1 Axes>"
            ]
          },
          "metadata": {
            "needs_background": "light"
          }
        }
      ]
    },
    {
      "cell_type": "markdown",
      "metadata": {
        "id": "6XaUfNE5pzkW"
      },
      "source": [
        "### __팩터 플랏(Factor Plot)__"
      ]
    },
    {
      "cell_type": "markdown",
      "metadata": {
        "id": "AIjxz9d6vLFG"
      },
      "source": [
        "`seaborn`의 `catplot`을 활용하여 변수 간 관계를 나타내는 팩터 플랏을 작성합니다. "
      ]
    },
    {
      "cell_type": "code",
      "metadata": {
        "id": "nvFcdROZzUrP",
        "colab": {
          "base_uri": "https://localhost:8080/",
          "height": 369
        },
        "outputId": "f2388193-b545-4c8d-84db-be2f4bd12774"
      },
      "source": [
        "f = sns.catplot(x='Pclass', y='Survived', hue='Sex', kind='point', data=titanic_data)\n",
        "plt.show()"
      ],
      "execution_count": null,
      "outputs": [
        {
          "output_type": "display_data",
          "data": {
            "image/png": "[encoded data removed]",
            "text/plain": [
              "<Figure size 427.875x360 with 1 Axes>"
            ]
          },
          "metadata": {
            "needs_background": "light"
          }
        }
      ]
    },
    {
      "cell_type": "markdown",
      "metadata": {
        "id": "lNmsxl2jcTWU"
      },
      "source": [
        "#### ___Exercise #6___\n",
        "탑승 항구(`Embarked`)와 생존여부(`Survived`) 간의 관계를 성별(`Sex`)로 나누어 나타내는 팩터 플랏을 그려보세요.\n"
      ]
    },
    {
      "cell_type": "code",
      "metadata": {
        "id": "9OjBk9U0cqH5",
        "scrolled": true,
        "colab": {
          "base_uri": "https://localhost:8080/",
          "height": 369
        },
        "outputId": "23c5d087-3ffe-4719-b2dd-72acee3f55e8"
      },
      "source": [
        "## 코드 작성\n",
        "f = sns.catplot(x='Embarked', y='Survived', hue='Sex', kind='point', data=titanic_data)\n",
        "plt.show()"
      ],
      "execution_count": null,
      "outputs": [
        {
          "output_type": "display_data",
          "data": {
            "image/png": "[encoded data removed]",
            "text/plain": [
              "<Figure size 427.875x360 with 1 Axes>"
            ]
          },
          "metadata": {
            "needs_background": "light"
          }
        }
      ]
    },
    {
      "cell_type": "markdown",
      "metadata": {
        "id": "r0wTcb3HauVy"
      },
      "source": [
        "### __바이올린 도표(Violin Plot)__\n"
      ]
    },
    {
      "cell_type": "markdown",
      "metadata": {
        "id": "JLktG_mjvgm-"
      },
      "source": [
        "`seaborn`의 `violinplot`을 활용하여 여러 분포의 밀도를 효과적으로 시각화할 수 있는 바이올린 도표를 작성합니다. "
      ]
    },
    {
      "cell_type": "code",
      "metadata": {
        "id": "nbi4JQR3dLIJ",
        "colab": {
          "base_uri": "https://localhost:8080/",
          "height": 279
        },
        "outputId": "44a8f2d8-6f6a-449d-c042-e9104f9655ff"
      },
      "source": [
        "f = sns.violinplot(x='Pclass', y='Age', hue='Survived', data=titanic_data, split=True)\n",
        "plt.show()"
      ],
      "execution_count": null,
      "outputs": [
        {
          "output_type": "display_data",
          "data": {
            "image/png": "[encoded data removed]",
            "text/plain": [
              "<Figure size 432x288 with 1 Axes>"
            ]
          },
          "metadata": {
            "needs_background": "light"
          }
        }
      ]
    },
    {
      "cell_type": "markdown",
      "metadata": {
        "id": "egWx8vZ7eq63"
      },
      "source": [
        "#### ___Exercise #7___\n",
        "성별(`Sex`)과 나이(`Age`)에 따른 생존자와 사망자의 분포를 나타내는 바이올린 도표를 그려보세요. "
      ]
    },
    {
      "cell_type": "code",
      "metadata": {
        "id": "CRznu7fVfom6",
        "scrolled": true,
        "colab": {
          "base_uri": "https://localhost:8080/",
          "height": 279
        },
        "outputId": "9f1f5475-04d2-4221-9248-0cfc9136caff"
      },
      "source": [
        "## 코드 작성\n",
        "f = sns.violinplot(x='Sex', y='Age', hue='Survived', data=titanic_data, split=True)\n",
        "plt.show()"
      ],
      "execution_count": null,
      "outputs": [
        {
          "output_type": "display_data",
          "data": {
            "image/png": "[encoded data removed]",
            "text/plain": [
              "<Figure size 432x288 with 1 Axes>"
            ]
          },
          "metadata": {
            "needs_background": "light"
          }
        }
      ]
    },
    {
      "cell_type": "markdown",
      "metadata": {
        "id": "ZRVnf1sb2E5i"
      },
      "source": [
        "### __히트맵(Heatmap)__"
      ]
    },
    {
      "cell_type": "code",
      "metadata": {
        "id": "4QRPlejM2E5i",
        "colab": {
          "base_uri": "https://localhost:8080/",
          "height": 388
        },
        "outputId": "cbb3315d-921b-4b5b-a3d3-3292526184ab"
      },
      "source": [
        "f = sns.heatmap(titanic_data.corr())\n",
        "plt.show()"
      ],
      "execution_count": null,
      "outputs": [
        {
          "output_type": "stream",
          "name": "stderr",
          "text": [
            "/usr/local/lib/python3.7/dist-packages/matplotlib/backends/backend_agg.py:214: RuntimeWarning: Glyph 8722 missing from current font.\n",
            "  font.set_text(s, 0.0, flags=flags)\n",
            "/usr/local/lib/python3.7/dist-packages/matplotlib/backends/backend_agg.py:183: RuntimeWarning: Glyph 8722 missing from current font.\n",
            "  font.set_text(s, 0, flags=flags)\n"
          ]
        },
        {
          "output_type": "display_data",
          "data": {
            "image/png": "[encoded data removed]",
            "text/plain": [
              "<Figure size 432x288 with 2 Axes>"
            ]
          },
          "metadata": {
            "needs_background": "light"
          }
        }
      ]
    },
    {
      "cell_type": "code",
      "source": [
        ""
      ],
      "metadata": {
        "id": "dZ83AqujRNdb"
      },
      "execution_count": null,
      "outputs": []
    }
  ]
}