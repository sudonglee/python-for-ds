{
  "cells": [
    {
      "cell_type": "markdown",
      "metadata": {
        "id": "view-in-github",
        "colab_type": "text"
      },
      "source": [
        "<a href=\"https://colab.research.google.com/github/sudonglee/python-for-ds/blob/main/11_12_Pandas.ipynb\" target=\"_parent\"><img src=\"https://colab.research.google.com/assets/colab-badge.svg\" alt=\"Open In Colab\"/></a>"
      ]
    },
    {
      "cell_type": "markdown",
      "metadata": {
        "id": "I-ZBP5UGPuPu"
      },
      "source": [
        "# **Pandas**\n",
        "- 작성자: 이수동 (울산대학교 산업경영공학부 | sudonglee@ulsan.ac.kr)\n",
        "- 참고자료: 권철민, 『파이썬 머신러닝 완벽 가이드』, 위키북스(2020)."
      ]
    },
    {
      "cell_type": "markdown",
      "source": [
        "# **Introduction**\n",
        "- Numpy는 행렬 형태의 데이터를 연산하고 가공하는 데에 우수한 능력을 가지고 있습니다. 하지만 데이터의 속성을 표시하는 행이나 열의 **레이블(label)**을 가지고 있지 않다는 한계점이 있습니다. \n",
        "- MS Excel의 Spreadsheet를 떠올려보세요. 행과 열로 이루어진 **테이블(table)** 형태의 데이터를 다루기 위해서는 레이블을 필수적으로 활용해야 합니다. \n",
        "- Pandas는 이러한 문제를 해결하기 위해 고안되었습니다. Pandas는 Numpy를 기반으로 하며, 데이터 탐색, 검사, 필터링, 정렬, 그룹화 등 테이블 형태(tabular)의 정형데이터 분석에 필요한 많은 기능을 제공합니다. "
      ],
      "metadata": {
        "id": "RrevJnwgX7iX"
      }
    },
    {
      "cell_type": "markdown",
      "metadata": {
        "id": "PT0PEGSsPuPw"
      },
      "source": [
        "### **`pandas` 시작하기**"
      ]
    },
    {
      "cell_type": "code",
      "execution_count": null,
      "metadata": {
        "id": "WGkgWWVmPuPw"
      },
      "outputs": [],
      "source": [
        "import pandas as pd"
      ]
    },
    {
      "cell_type": "markdown",
      "metadata": {
        "id": "uwpcZrgmPuPx"
      },
      "source": [
        "`pandas` 실습을 위한 데이터를 이곳 [링크](https://liveuou-my.sharepoint.com/:u:/g/personal/sudonglee_mail_ulsan_ac_kr/EfTHfJDFsMFAttkaTxNb-awBoXEm-Ow7A6ZsMpy3yjgjrA?e=GWsNEF)를 통해 다운로드 받습니다. "
      ]
    },
    {
      "cell_type": "code",
      "execution_count": null,
      "metadata": {
        "id": "39PZbVRxPuPx"
      },
      "outputs": [],
      "source": [
        "import os\n",
        "path = os.getcwd()\n",
        "print(path)"
      ]
    },
    {
      "cell_type": "code",
      "execution_count": null,
      "metadata": {
        "id": "dKYjARf4PuPy"
      },
      "outputs": [],
      "source": [
        "import zipfile\n",
        "zip_file = zipfile.ZipFile('titanic.zip')\n",
        "zip_file.extractall(path)"
      ]
    },
    {
      "cell_type": "markdown",
      "metadata": {
        "id": "z03lBBPDPuPy"
      },
      "source": [
        "- `read_csv` 함수를 통해 CSV 데이터를 DataFrame으로 불러올 수 있습니다.\n",
        "- `head()` 메서드를 이용하면 DataFrame의 첫 5개 행(default, 임의로 설정도 가능)을 출력할 수 있습니다."
      ]
    },
    {
      "cell_type": "code",
      "execution_count": null,
      "metadata": {
        "id": "z_MGrUxjPuPy"
      },
      "outputs": [],
      "source": [
        "titanic_df = pd.read_csv('titanic_train.csv')\n",
        "print('변수 type:', type(titanic_df))\n",
        "titanic_df.head(10)"
      ]
    },
    {
      "cell_type": "markdown",
      "source": [
        "### **타이타닉 데이터 소개: Data Dictionary**\n",
        "\n",
        "| Variable | Definition\t| Description |\n",
        "| :-: | :-: | :-: |\n",
        "| PassengerId | 승객 ID | |\n",
        "| Survived |\t생존 여부\t| 0 = 사망, 1 = 생존 |\n",
        "| Pclass\t| 티켓 등급 |\t1 = 1st, 2 = 2nd, 3 = 3rd |\n",
        "| Name | 성명 | |\n",
        "| Sex |\t성별 | |\n",
        "| Age |\t나이 |  |\n",
        "| SibSp |\t승선한 형제자매(siblings) 및 배우자(spouses)의 수 |\n",
        "| Parch | 승선한 부모(parents) 및 자식(children)의 수 |\n",
        "| Ticket |\t티켓 번호\t|\n",
        "| Fare | 티켓 가격\t|\n",
        "| Cabin\t| 객실 번호\t|\n",
        "| Embarked\t| 승선 항구 |\tC = Cherbourg, Q = Queenstown, S = Southampton |"
      ],
      "metadata": {
        "id": "ti8b3DadtR4H"
      }
    },
    {
      "cell_type": "markdown",
      "metadata": {
        "id": "f-NsPMcxPuPz"
      },
      "source": [
        "`shape`, `info()`, `describe()` 등의 메서드를 활용하여 DataFrame의 정보를 파악할 수 있습니다."
      ]
    },
    {
      "cell_type": "code",
      "execution_count": null,
      "metadata": {
        "id": "hggi6FBFPuPz"
      },
      "outputs": [],
      "source": [
        "print('DataFrame 크기: ', titanic_df.shape)"
      ]
    },
    {
      "cell_type": "code",
      "execution_count": null,
      "metadata": {
        "id": "ZFYo4Rt-PuPz"
      },
      "outputs": [],
      "source": [
        "titanic_df.info()"
      ]
    },
    {
      "cell_type": "code",
      "execution_count": null,
      "metadata": {
        "id": "qsw3TXo3PuPz"
      },
      "outputs": [],
      "source": [
        "titanic_df.describe()"
      ]
    },
    {
      "cell_type": "markdown",
      "metadata": {
        "id": "gysQEDWDPuP0"
      },
      "source": [
        "#### **Series**"
      ]
    },
    {
      "cell_type": "markdown",
      "metadata": {
        "id": "S3cGYIZ3PuP0"
      },
      "source": [
        "- Series는 Index와 단 하나의 칼럼으로 구성된 데이터 세트입니다.\n",
        "- DataFrame의 각 칼럼은 Series로 구성되어 있습니다."
      ]
    },
    {
      "cell_type": "code",
      "execution_count": null,
      "metadata": {
        "id": "gzf7FnUUPuP0"
      },
      "outputs": [],
      "source": [
        "titanic_pclass = titanic_df['Pclass']\n",
        "print(type(titanic_pclass))"
      ]
    },
    {
      "cell_type": "code",
      "execution_count": null,
      "metadata": {
        "id": "WB88nOTBPuP0"
      },
      "outputs": [],
      "source": [
        "titanic_pclass.head(10)"
      ]
    },
    {
      "cell_type": "markdown",
      "metadata": {
        "id": "mywai9qCPuP0"
      },
      "source": [
        "- `value_counts()` 메서드를 호출하면 해당 칼럼 값의 유형과 건수를 확인할 수 있습니다.\n",
        "- `value_counts()`는 변수의 분포를 확인하는 데에 매우 유용합니다. "
      ]
    },
    {
      "cell_type": "code",
      "execution_count": null,
      "metadata": {
        "id": "hlz7ARq-PuP0"
      },
      "outputs": [],
      "source": [
        "value_counts = titanic_df['Pclass'].value_counts()\n",
        "print(type(value_counts))\n",
        "print(value_counts)"
      ]
    },
    {
      "cell_type": "code",
      "execution_count": null,
      "metadata": {
        "id": "w1AP6ZEYPuP1"
      },
      "outputs": [],
      "source": [
        "print(titanic_df['Sex'].value_counts())"
      ]
    },
    {
      "cell_type": "code",
      "execution_count": null,
      "metadata": {
        "id": "V7ITRxnPPuP1"
      },
      "outputs": [],
      "source": [
        "print(titanic_df['Survived'].value_counts())"
      ]
    },
    {
      "cell_type": "markdown",
      "metadata": {
        "id": "FcfOY7WEPuP1"
      },
      "source": [
        "### **DataFrame과 리스트, 딕셔너리, 넘파이 ndarray 상호 변환**"
      ]
    },
    {
      "cell_type": "markdown",
      "metadata": {
        "id": "ulaGiI7IPuP1"
      },
      "source": [
        "#### **ndarray, 리스트, 딕셔너리를 DataFrame으로 변환하기**"
      ]
    },
    {
      "cell_type": "markdown",
      "metadata": {
        "id": "yu9w-5tPPuP1"
      },
      "source": [
        "- 데이터 분석 상황에 따라 편리한 데이터셋의 형태가 다릅니다.\n",
        "- ndarray, 리스트, 딕셔너리, DataFrame을 자유롭게 오가며 변환할 수 있어야 합니다. "
      ]
    },
    {
      "cell_type": "code",
      "execution_count": null,
      "metadata": {
        "id": "dFsoAWYGPuP1"
      },
      "outputs": [],
      "source": [
        "import numpy as np\n",
        "\n",
        "col_name1=['col1']\n",
        "list1 = [1, 2, 3]\n",
        "array1 = np.array(list1)\n",
        "\n",
        "print('array1 shape:', array1.shape )\n",
        "df_list1 = pd.DataFrame(list1, columns=col_name1)\n",
        "print('1차원 리스트로 만든 DataFrame:\\n', df_list1)\n",
        "df_array1 = pd.DataFrame(array1, columns=col_name1)\n",
        "print('1차원 ndarray로 만든 DataFrame:\\n', df_array1)"
      ]
    },
    {
      "cell_type": "code",
      "execution_count": null,
      "metadata": {
        "id": "NOrL9kI4PuP2"
      },
      "outputs": [],
      "source": [
        "# 3개의 컬럼명이 필요\n",
        "col_name2=['col1', 'col2', 'col3']\n",
        "\n",
        "# 2행x3열 형태의 리스트와 ndarray 생성 한 뒤 이를 DataFrame으로 변환\n",
        "list2 = [[1, 2, 3],\n",
        "         [11, 12, 13]]\n",
        "array2 = np.array(list2)\n",
        "print('array2 shape:', array2.shape)\n",
        "df_list2 = pd.DataFrame(list2, columns=col_name2)\n",
        "print('2차원 리스트로 만든 DataFrame:\\n', df_list2)\n",
        "df_array2 = pd.DataFrame(array2, columns=col_name2)\n",
        "print('2차원 ndarray로 만든 DataFrame:\\n', df_array2)"
      ]
    },
    {
      "cell_type": "code",
      "execution_count": null,
      "metadata": {
        "id": "OH7ASsTTPuP2"
      },
      "outputs": [],
      "source": [
        "# Key는 컬럼명으로 매핑, Value는 리스트 형(또는 ndarray)\n",
        "dict = {'col1':[1, 11], 'col2':[2, 22], 'col3':[3, 33]}\n",
        "df_dict = pd.DataFrame(dict)\n",
        "print('딕셔너리로 만든 DataFrame:\\n', df_dict)"
      ]
    },
    {
      "cell_type": "markdown",
      "metadata": {
        "id": "lQYXi5RvPuP2"
      },
      "source": [
        "#### **DataFrame을 ndarray, 리스트, 딕셔너리로 변환하기**"
      ]
    },
    {
      "cell_type": "code",
      "execution_count": null,
      "metadata": {
        "id": "dKrhn1ROPuP2"
      },
      "outputs": [],
      "source": [
        "# DataFrame을 ndarray로 변환\n",
        "array3 = df_dict.values\n",
        "print('df_dict.values 타입:', type(array3), 'df_dict.values shape:', array3.shape)\n",
        "print(array3)"
      ]
    },
    {
      "cell_type": "code",
      "execution_count": null,
      "metadata": {
        "id": "CByyWmWOPuP3"
      },
      "outputs": [],
      "source": [
        "# DataFrame을 리스트로 변환\n",
        "list3 = df_dict.values.tolist()\n",
        "print('df_dict.values.tolist() 타입:', type(list3))\n",
        "print(list3)\n",
        "\n",
        "# DataFrame을 딕셔너리로 변환\n",
        "dict3 = df_dict.to_dict('list')\n",
        "print('\\n df_dict.to_dict() 타입:', type(dict3))\n",
        "print(dict3)"
      ]
    },
    {
      "cell_type": "markdown",
      "metadata": {
        "id": "CZFVjvFEPuP3"
      },
      "source": [
        "### **DataFrame의 열(column) 다루기**"
      ]
    },
    {
      "cell_type": "markdown",
      "metadata": {
        "id": "H-Amq-apPuP3"
      },
      "source": [
        "DataFrame의 열에 접근하는 방법은 기본적으로 2가지 입니다.\n",
        "- `df_name['col_name']`\n",
        "- `df_name.col_name`"
      ]
    },
    {
      "cell_type": "code",
      "execution_count": null,
      "metadata": {
        "id": "vMuZo99PPuP3"
      },
      "outputs": [],
      "source": [
        "titanic_df['Age'].head()"
      ]
    },
    {
      "cell_type": "code",
      "execution_count": null,
      "metadata": {
        "id": "aYtFuIg0PuP3"
      },
      "outputs": [],
      "source": [
        "titanic_df.Age.head()"
      ]
    },
    {
      "cell_type": "code",
      "execution_count": null,
      "metadata": {
        "id": "ccpE5AMUPuP3"
      },
      "outputs": [],
      "source": [
        "titanic_df.head(3)"
      ]
    },
    {
      "cell_type": "code",
      "execution_count": null,
      "metadata": {
        "id": "R3c5HWJ7PuP3"
      },
      "outputs": [],
      "source": [
        "titanic_df['Age_0']=0\n",
        "titanic_df.head(3)"
      ]
    },
    {
      "cell_type": "code",
      "execution_count": null,
      "metadata": {
        "id": "Tifj7I_rPuP4"
      },
      "outputs": [],
      "source": [
        "titanic_df['Age_by_10'] = titanic_df['Age']*10\n",
        "titanic_df['Family_No'] = titanic_df['SibSp'] + titanic_df['Parch']+1\n",
        "titanic_df.head(3)"
      ]
    },
    {
      "cell_type": "markdown",
      "metadata": {
        "id": "IBTQczPnPuP4"
      },
      "source": [
        "titanic_df에 'Alone'이라는 열을 추가합니다. 혼자 탔으면 True, 아니면 False"
      ]
    },
    {
      "cell_type": "code",
      "execution_count": null,
      "metadata": {
        "id": "KZOC510lPuP4"
      },
      "outputs": [],
      "source": [
        "titanic_df['Alone'] = (titanic_df['SibSp']+titanic_df['Parch']==0)"
      ]
    },
    {
      "cell_type": "code",
      "execution_count": null,
      "metadata": {
        "id": "bPgFAGwfPuP4"
      },
      "outputs": [],
      "source": [
        "titanic_df.head()"
      ]
    },
    {
      "cell_type": "code",
      "execution_count": null,
      "metadata": {
        "id": "sme-A0CKPuP4"
      },
      "outputs": [],
      "source": [
        "titanic_df['Age_by_10'] = titanic_df['Age_by_10'] + 100\n",
        "titanic_df.head(3)"
      ]
    },
    {
      "cell_type": "code",
      "execution_count": null,
      "metadata": {
        "id": "InO16dUSPuP4"
      },
      "outputs": [],
      "source": [
        "print(titanic_df.Survived)"
      ]
    },
    {
      "cell_type": "code",
      "source": [
        "cols = ['Survived', 'Age', 'Sex']\n",
        "titanic_df[cols].head()"
      ],
      "metadata": {
        "id": "tq5D8Ifh9zdo"
      },
      "execution_count": null,
      "outputs": []
    },
    {
      "cell_type": "markdown",
      "metadata": {
        "id": "QyUDFMQePuP5"
      },
      "source": [
        "### **DataFrame 데이터 삭제**"
      ]
    },
    {
      "cell_type": "markdown",
      "metadata": {
        "id": "3457ALL7PuP5"
      },
      "source": [
        "- `drop()` 메서드를 이용하여 DataFrame의 데이터를 삭제할 수 있습니다.\n",
        "- 원본 DataFrame에 반영할 것인지의 여부는 `inplace` 옵션을 통해 선택할 수 있습니다. (defualt: `False`)"
      ]
    },
    {
      "cell_type": "code",
      "execution_count": null,
      "metadata": {
        "id": "Ur0fwgkhPuP5"
      },
      "outputs": [],
      "source": [
        "titanic_df.head(3)"
      ]
    },
    {
      "cell_type": "code",
      "execution_count": null,
      "metadata": {
        "id": "HII5e-WYPuP5"
      },
      "outputs": [],
      "source": [
        "titanic_drop_df = titanic_df.drop('Age_0', axis=1)\n",
        "titanic_drop_df.head(3)"
      ]
    },
    {
      "cell_type": "code",
      "execution_count": null,
      "metadata": {
        "id": "C9kClUkpPuP5"
      },
      "outputs": [],
      "source": [
        "titanic_df.head(3)"
      ]
    },
    {
      "cell_type": "code",
      "execution_count": null,
      "metadata": {
        "id": "QUWjLfsaPuP5"
      },
      "outputs": [],
      "source": [
        "titanic_drop_df = titanic_df.drop('Age_0', axis=1, inplace=True)\n",
        "titanic_df.head()"
      ]
    },
    {
      "cell_type": "code",
      "execution_count": null,
      "metadata": {
        "id": "G3nf5RuxPuP5"
      },
      "outputs": [],
      "source": [
        "drop_result = titanic_df.drop(['Age_by_10', 'Family_No'], axis=1, inplace=True)\n",
        "print('inplace=True 로 drop 후 반환된 값:',drop_result)\n",
        "\n",
        "titanic_df.head(3)"
      ]
    },
    {
      "cell_type": "code",
      "execution_count": null,
      "metadata": {
        "id": "NhNPRh98PuP6"
      },
      "outputs": [],
      "source": [
        "pd.set_option('display.width', 1000)\n",
        "pd.set_option('display.max_colwidth', 15)\n",
        "print('#### before axis 0 drop ####')\n",
        "print(titanic_df.head(3))\n",
        "\n",
        "titanic_df.drop([0,1,2], axis=0, inplace=True)\n",
        "\n",
        "print('#### after axis 0 drop ####')\n",
        "print(titanic_df.head(3))"
      ]
    },
    {
      "cell_type": "code",
      "source": [
        "titanic_df.head(10)"
      ],
      "metadata": {
        "id": "2uqlv8elDtTp"
      },
      "execution_count": null,
      "outputs": []
    },
    {
      "cell_type": "markdown",
      "metadata": {
        "id": "bVB-dNecPuP6"
      },
      "source": [
        "### **`pandas`의 Index 객체**"
      ]
    },
    {
      "cell_type": "markdown",
      "metadata": {
        "id": "bLQisjc5PuP6"
      },
      "source": [
        "`pandas`의 Index 객체는 Dataframe과 Series의 레코드를 고유하게 식별하는 객체입니다. "
      ]
    },
    {
      "cell_type": "code",
      "execution_count": null,
      "metadata": {
        "id": "KsK4kX_qPuP6"
      },
      "outputs": [],
      "source": [
        "# 원본 파일 재 로딩 \n",
        "titanic_df = pd.read_csv('titanic_train.csv')\n",
        "# Index 객체 추출\n",
        "indexes = titanic_df.index\n",
        "print(indexes)\n",
        "# Index 객체를 실제 값 arrray로 변환 \n",
        "print('Index 객체 array값:\\n',indexes.values)\n"
      ]
    },
    {
      "cell_type": "code",
      "execution_count": null,
      "metadata": {
        "id": "3RU8kiWOPuP6"
      },
      "outputs": [],
      "source": [
        "print(type(indexes.values))\n",
        "print(indexes.values.shape)\n",
        "print(indexes[:5].values)\n",
        "print(indexes.values[:5])\n",
        "print(indexes[6])"
      ]
    },
    {
      "cell_type": "markdown",
      "metadata": {
        "id": "pycx_9I2PuP6"
      },
      "source": [
        "Index 내부의 값은 임의로 변경할 수 없습니다."
      ]
    },
    {
      "cell_type": "code",
      "execution_count": null,
      "metadata": {
        "id": "Jt-9jlpHPuP6"
      },
      "outputs": [],
      "source": [
        "indexes[0] = 5"
      ]
    },
    {
      "cell_type": "code",
      "source": [
        "titanic_df.head()"
      ],
      "metadata": {
        "id": "h25LJWf8FSGh"
      },
      "execution_count": null,
      "outputs": []
    },
    {
      "cell_type": "code",
      "execution_count": null,
      "metadata": {
        "id": "g9748fcOPuP7"
      },
      "outputs": [],
      "source": [
        "titanic_reset_df = titanic_df.reset_index(inplace=False)\n",
        "titanic_reset_df.head()"
      ]
    },
    {
      "cell_type": "code",
      "execution_count": null,
      "metadata": {
        "id": "Q4TeE-vHPuP7"
      },
      "outputs": [],
      "source": [
        "titanic_df_drop = titanic_df.drop([0,1,2], axis=0, inplace=False)\n",
        "print('Before reset:\\n', titanic_df_drop[['Pclass', 'Survived']].head(3))\n",
        "titanic_df_drop.reset_index(inplace=True)\n",
        "print('After reset:\\n', titanic_df_drop[['Pclass', 'Survived']].head(3))"
      ]
    },
    {
      "cell_type": "code",
      "source": [
        "titanic_df_drop.head(10)"
      ],
      "metadata": {
        "id": "rSz05opyF3Gc"
      },
      "execution_count": null,
      "outputs": []
    },
    {
      "cell_type": "markdown",
      "metadata": {
        "id": "bYZG7iBUPuP7"
      },
      "source": [
        "### **데이터 선택 및 필터링**"
      ]
    },
    {
      "cell_type": "markdown",
      "metadata": {
        "id": "0FFq-q_uNhlp"
      },
      "source": [
        "#### **Python native accessors**\n",
        "- 파이썬은 객체(object)의 인덱싱(indexing) 기능을 내장하고 있습니다. (리스트(list)의 인덱싱을 떠올려보세요.) DataFrame에서도 해당 기능을 이용할 수 있습니다.\n",
        "- 이에 더불어 pandas는 고유의 accessor operator도 가지고 있습니다. 바로 `loc`과 `iloc`인데요! 어떤 내용인지 살펴 봅시다."
      ]
    },
    {
      "cell_type": "code",
      "execution_count": null,
      "metadata": {
        "id": "DVFRVRLHNlQ2"
      },
      "outputs": [],
      "source": [
        "titanic_df = pd.read_csv('titanic_train.csv')\n",
        "titanic_df"
      ]
    },
    {
      "cell_type": "markdown",
      "metadata": {
        "id": "aOCxWUfwF5jp"
      },
      "source": [
        "**Index-based selection** <br/>\n",
        "- 첫번째로 살펴볼 개념은 **수치로 표현된 위치**로 데이터에 접근하는 **index-based selection**을 수행하는 연산자(operator), `iloc`입니다. \n",
        "- `iloc`을 통해 `titanic_data`의 '첫번째 행'을 불러내봅시다.\n",
        "\n"
      ]
    },
    {
      "cell_type": "code",
      "execution_count": null,
      "metadata": {
        "id": "w_Eh2vlvIQJ3"
      },
      "outputs": [],
      "source": [
        "titanic_df.iloc[0]"
      ]
    },
    {
      "cell_type": "code",
      "execution_count": null,
      "metadata": {
        "id": "KahL9hPOJCMp"
      },
      "outputs": [],
      "source": [
        "titanic_df.head()"
      ]
    },
    {
      "cell_type": "markdown",
      "metadata": {
        "id": "0pl6yI1NJKZ1"
      },
      "source": [
        "- `iloc`은 행(row)을 기본적으로 참조하고, 그 다음 열(column)을 참조합니다.\n",
        "- `iloc`을 통해 하나의 열을 불러오기 위해서는 다음과 같은 코드를 실행합니다."
      ]
    },
    {
      "cell_type": "code",
      "source": [
        "titanic_df['PassengerId']"
      ],
      "metadata": {
        "id": "JF3_J0TdHHkG"
      },
      "execution_count": null,
      "outputs": []
    },
    {
      "cell_type": "code",
      "execution_count": null,
      "metadata": {
        "id": "AGPjZCkeJfgz"
      },
      "outputs": [],
      "source": [
        "titanic_df.iloc[:,0]"
      ]
    },
    {
      "cell_type": "code",
      "execution_count": null,
      "metadata": {
        "id": "S2G9STftkNl9"
      },
      "outputs": [],
      "source": [
        "titanic_df.iloc[:3, 0]"
      ]
    },
    {
      "cell_type": "code",
      "execution_count": null,
      "metadata": {
        "id": "nzx4tGCTkdEG"
      },
      "outputs": [],
      "source": [
        "titanic_df.iloc[[3, 5, 8], [3, 4]]"
      ]
    },
    {
      "cell_type": "code",
      "execution_count": null,
      "metadata": {
        "id": "naieSk74kiaH"
      },
      "outputs": [],
      "source": [
        "titanic_df.iloc[-5:,1]"
      ]
    },
    {
      "cell_type": "code",
      "execution_count": null,
      "metadata": {
        "id": "NRKyyRrGknVf"
      },
      "outputs": [],
      "source": [
        "titanic_df.iloc[-5:]"
      ]
    },
    {
      "cell_type": "markdown",
      "metadata": {
        "id": "EQCyJbvXktDH"
      },
      "source": [
        "**Label-based selection** <br/>\n",
        "- `loc` 연산자(operator)는 인덱스의 **레이블(label)**로 데이터를 호출합니다.\n",
        "- 테이블 상의 데이터 위치가 아닌 인덱스 값 그 자체로 호출한다는 것이 특징입니다. 아래 예시를 살펴 봅시다."
      ]
    },
    {
      "cell_type": "code",
      "execution_count": null,
      "metadata": {
        "id": "Sg4w_jDsPuP9"
      },
      "outputs": [],
      "source": [
        "titanic_df.head()"
      ]
    },
    {
      "cell_type": "code",
      "execution_count": null,
      "metadata": {
        "id": "xFay2TXCPuP9"
      },
      "outputs": [],
      "source": [
        "titanic_df.iloc[0, 3]"
      ]
    },
    {
      "cell_type": "code",
      "execution_count": null,
      "metadata": {
        "id": "MHoY7w5Tp7vR"
      },
      "outputs": [],
      "source": [
        "titanic_df.loc[0, 'Name']"
      ]
    },
    {
      "cell_type": "code",
      "execution_count": null,
      "metadata": {
        "id": "CkI8YcHA0TFh"
      },
      "outputs": [],
      "source": [
        "titanic_df.loc[:, ['Name', 'Sex', 'Age']]"
      ]
    },
    {
      "cell_type": "code",
      "execution_count": null,
      "metadata": {
        "id": "SXK6ySfM0mRC"
      },
      "outputs": [],
      "source": [
        "titanic_df.loc[:, 'Name':'Age']"
      ]
    },
    {
      "cell_type": "markdown",
      "metadata": {
        "id": "4yPDraZAqeHl"
      },
      "source": [
        "\n",
        "#### [참고] `.iloc[0]`과 `.loc[0]`의 차이 정확히 이해하기\n",
        "- `iloc`과 `loc` 모두 row-first, column-second 입니다.\n",
        "- `.iloc[0]`의 `0`은 **'첫번째 인덱스'**라는 의미의 **숫자 0**을,<br/>\n",
        "`.loc[0]`의 `0`은 **'인덱스의 값이 0인 데이터'**의 **인덱스 0**을 뜻합니다.\n"
      ]
    },
    {
      "cell_type": "code",
      "execution_count": null,
      "metadata": {
        "id": "CiXdHukzPuP9"
      },
      "outputs": [],
      "source": [
        "print(titanic_df.iloc[:3])"
      ]
    },
    {
      "cell_type": "code",
      "execution_count": null,
      "metadata": {
        "id": "Pba0ybLDPuP-"
      },
      "outputs": [],
      "source": [
        "print(titanic_df.loc[:3])"
      ]
    },
    {
      "cell_type": "markdown",
      "metadata": {
        "id": "yjWIWsH5VLaG"
      },
      "source": [
        "### **Index 지정하기**"
      ]
    },
    {
      "cell_type": "markdown",
      "metadata": {
        "id": "B1p2P77LVm_v"
      },
      "source": [
        "- DataFrame의 디폴트 인덱스는 행 번호입니다.\n",
        "- 인덱스로 사용하고 싶은 열을 임의로 지정할 수도 있습니다.\n",
        "- `iloc`과 `loc`의 차이를 명확히 이해하기 위해 `Name`을 index로 사용하는 새로운 DataFrame인 `tmp_df`를 만들어 보겠습니다."
      ]
    },
    {
      "cell_type": "code",
      "execution_count": null,
      "metadata": {
        "id": "YDQbu7ib3F7Z"
      },
      "outputs": [],
      "source": [
        "tmp_df = titanic_df.set_index('Name')\n",
        "tmp_df.head()"
      ]
    },
    {
      "cell_type": "code",
      "execution_count": null,
      "metadata": {
        "id": "GqK1LHRp3NnD"
      },
      "outputs": [],
      "source": [
        "tmp_df.iloc[0]"
      ]
    },
    {
      "cell_type": "code",
      "execution_count": null,
      "metadata": {
        "id": "fZy1M_V83QMr"
      },
      "outputs": [],
      "source": [
        "tmp_df.loc[0]"
      ]
    },
    {
      "cell_type": "markdown",
      "metadata": {
        "id": "VbBQjEIw3qRW"
      },
      "source": [
        "- index가 바뀐 후에도 `tmp_df.iloc[0]`은 `tmp_df`의 첫 번째 행을 호출하며 적당 작동하는 것을 확인할 수 있습니다.\n",
        "- 하지만 `tmp_df.loc[0]`은 `Name`으로 바뀐 index에 `0`이 더 이상 존재하지 않으므로 에러가 발생합니다. "
      ]
    },
    {
      "cell_type": "markdown",
      "metadata": {
        "id": "3pqWtsRnWfN6"
      },
      "source": [
        "### **조건부 선택(필터링)**\n",
        "- DataFrame에서 특정 조건을 만족하는 데이터를 선택하는 방법입니다. \n",
        "- MS Excel에서의 필터링과 유사한 기능입니다.<br/>\n",
        "\n",
        "Titanic호 승선객 중 남성 데이터만을 선택 해보겠습니다."
      ]
    },
    {
      "cell_type": "code",
      "execution_count": null,
      "metadata": {
        "id": "2gFbsQybVenU"
      },
      "outputs": [],
      "source": [
        "titanic_df.Sex"
      ]
    },
    {
      "cell_type": "code",
      "execution_count": null,
      "metadata": {
        "id": "9nx6UyDgWlt7"
      },
      "outputs": [],
      "source": [
        "titanic_df.Sex == 'male'"
      ]
    },
    {
      "cell_type": "code",
      "source": [
        "tmp = titanic_df.Sex == 'male'\n",
        "print(type(tmp))"
      ],
      "metadata": {
        "id": "xIbaBrxJKBsZ"
      },
      "execution_count": null,
      "outputs": []
    },
    {
      "cell_type": "code",
      "execution_count": null,
      "metadata": {
        "id": "B6lAjLZZX5Hq"
      },
      "outputs": [],
      "source": [
        "titanic_df.loc[titanic_df.Sex == 'male']"
      ]
    },
    {
      "cell_type": "code",
      "execution_count": null,
      "metadata": {
        "id": "Ojq4wZmqWfKB"
      },
      "outputs": [],
      "source": [
        "# 나이가 30세 이상인 사람만 불러오기\n",
        "titanic_df.loc[titanic_df.Age >= 30]"
      ]
    },
    {
      "cell_type": "markdown",
      "metadata": {
        "id": "1SDniu-_YWdV"
      },
      "source": [
        "- `loc`과 `bool`을 조합하여 원하는 조건을 만족하는 데이터를 선택할 수 있습니다.\n",
        "- 여러 개의 조건도 입력 가능합니다. `&` (and), `|` (or)를 조합합니다."
      ]
    },
    {
      "cell_type": "code",
      "execution_count": null,
      "metadata": {
        "id": "V9uDzbZaX6Jx"
      },
      "outputs": [],
      "source": [
        "bool_Sex = titanic_df.Sex == 'male'\n",
        "print(bool_Sex)"
      ]
    },
    {
      "cell_type": "code",
      "execution_count": null,
      "metadata": {
        "id": "dRXASxMwPuP_"
      },
      "outputs": [],
      "source": [
        "titanic_df.loc[(titanic_df.Sex == 'male') & (titanic_df.Pclass > 1)]"
      ]
    },
    {
      "cell_type": "code",
      "execution_count": null,
      "metadata": {
        "id": "5Es_J7DYX9Cz"
      },
      "outputs": [],
      "source": [
        "bool_Pclass = titanic_df.Pclass > 1\n",
        "print(bool_Pclass)"
      ]
    },
    {
      "cell_type": "code",
      "execution_count": null,
      "metadata": {
        "id": "5rRdFGumPuQA"
      },
      "outputs": [],
      "source": [
        "print(bool_Sex & bool_Pclass)"
      ]
    },
    {
      "cell_type": "code",
      "execution_count": null,
      "metadata": {
        "id": "EHtmAtpGPuQA"
      },
      "outputs": [],
      "source": [
        "print(bool_Sex | bool_Pclass)"
      ]
    },
    {
      "cell_type": "code",
      "execution_count": null,
      "metadata": {
        "id": "pQTy_-i7YsZS"
      },
      "outputs": [],
      "source": [
        "titanic_df.loc[bool_Sex & bool_Pclass]"
      ]
    },
    {
      "cell_type": "code",
      "execution_count": null,
      "metadata": {
        "id": "f39WT3MwYIBq"
      },
      "outputs": [],
      "source": [
        "# 여성이면서 and 20세 미만\n",
        "titanic_df.loc[(titanic_df.Sex=='female') & (titanic_df.Age<20)]"
      ]
    },
    {
      "cell_type": "code",
      "execution_count": null,
      "metadata": {
        "id": "EqLckgNPZdoV"
      },
      "outputs": [],
      "source": [
        "# 여성이거나 1등석\n",
        "titanic_df.loc[(titanic_df.Sex=='female') | (titanic_df.Pclass==1)]"
      ]
    },
    {
      "cell_type": "code",
      "execution_count": null,
      "metadata": {
        "id": "QT2bc13fZIy0"
      },
      "outputs": [],
      "source": [
        "# 탑승한 항구(Embarked)가 S 또는 C\n",
        "titanic_df.loc[titanic_df.Embarked.isin(['S', 'C'])]"
      ]
    },
    {
      "cell_type": "markdown",
      "metadata": {
        "id": "16jmWxQIbpG8"
      },
      "source": [
        "이외에도 pandas에는 다양한 기능의 built-in conditional selector들이 있습니다. \n",
        "- `isin`: 해당 데이터가 주어진 리스트에 속한 값인가?\n",
        "- `isnull`: 해당 데이터가 `NaN` (Not a Number)인가? (cf. 반대는 `notnull`)"
      ]
    },
    {
      "cell_type": "code",
      "execution_count": null,
      "metadata": {
        "id": "Sf4yjjpKcuwG"
      },
      "outputs": [],
      "source": [
        "titanic_df.loc[titanic_df.Embarked.isin(['S', 'C'])]"
      ]
    },
    {
      "cell_type": "code",
      "execution_count": null,
      "metadata": {
        "id": "LpLtUQNBdHix"
      },
      "outputs": [],
      "source": [
        "titanic_df.loc[titanic_df.Age.isnull()]"
      ]
    },
    {
      "cell_type": "markdown",
      "metadata": {
        "id": "kTFZHqpAddFV"
      },
      "source": [
        "### **데이터 입력하기**\n",
        "- DataFrame의 값을 바꾸거나 새로운 데이터를 추가하는 등 기존의 데이터를 편집할 수 있습니다.\n",
        "- 앞서 배운 인덱싱 기법을 활용합니다."
      ]
    },
    {
      "cell_type": "code",
      "execution_count": null,
      "metadata": {
        "id": "QaL4eJ_Gg5_1"
      },
      "outputs": [],
      "source": [
        "titanic_df = pd.read_csv('titanic_train.csv')"
      ]
    },
    {
      "cell_type": "code",
      "execution_count": null,
      "metadata": {
        "id": "kt8moq7xdg6q"
      },
      "outputs": [],
      "source": [
        "titanic_df.loc[titanic_df.Age.isnull(), 'Age'] = 'unknown'\n",
        "titanic_df.Age"
      ]
    },
    {
      "cell_type": "code",
      "execution_count": null,
      "metadata": {
        "id": "UXNCpSAee-sn"
      },
      "outputs": [],
      "source": [
        "titanic_df['NewColumn'] = titanic_df.Age\n",
        "titanic_df['NewColumn']"
      ]
    },
    {
      "cell_type": "code",
      "execution_count": null,
      "metadata": {
        "id": "1NLe2XKmhaN_"
      },
      "outputs": [],
      "source": [
        "titanic_df.head(20)"
      ]
    },
    {
      "cell_type": "markdown",
      "metadata": {
        "id": "in7PftQ0PuQC"
      },
      "source": [
        "### **정렬, Aggregation함수, GroupBy 적용**"
      ]
    },
    {
      "cell_type": "markdown",
      "metadata": {
        "id": "CJxRumrDPuQC"
      },
      "source": [
        "#### **DataFrame, Series의 정렬: `sort_values()`**"
      ]
    },
    {
      "cell_type": "code",
      "execution_count": null,
      "metadata": {
        "id": "z8pguyToPuQC"
      },
      "outputs": [],
      "source": [
        "titanic_sorted = titanic_df.sort_values(by=['Name'])\n",
        "titanic_sorted.head(3)"
      ]
    },
    {
      "cell_type": "code",
      "execution_count": null,
      "metadata": {
        "id": "ig-B2EG8PuQC"
      },
      "outputs": [],
      "source": [
        "titanic_sorted = titanic_df.sort_values(by=['Pclass', 'Name'], ascending=False)\n",
        "titanic_sorted.head(3)"
      ]
    },
    {
      "cell_type": "markdown",
      "metadata": {
        "id": "59UUjq43PuQD"
      },
      "source": [
        "#### **Aggregation 함수 적용**"
      ]
    },
    {
      "cell_type": "code",
      "execution_count": null,
      "metadata": {
        "id": "5Y5NxxiJPuQD"
      },
      "outputs": [],
      "source": [
        "titanic_df = pd.read_csv('titanic_train.csv')"
      ]
    },
    {
      "cell_type": "code",
      "execution_count": null,
      "metadata": {
        "id": "aEVMJq3iPuQD"
      },
      "outputs": [],
      "source": [
        "titanic_df.count()"
      ]
    },
    {
      "cell_type": "code",
      "execution_count": null,
      "metadata": {
        "id": "IylpeMfRPuQD"
      },
      "outputs": [],
      "source": [
        "titanic_df[['Age', 'Fare']].mean()"
      ]
    },
    {
      "cell_type": "markdown",
      "metadata": {
        "id": "puyBDQhbPuQD"
      },
      "source": [
        "#### **groupby() 이용하기**"
      ]
    },
    {
      "cell_type": "code",
      "execution_count": null,
      "metadata": {
        "id": "LeaDMJp5PuQD"
      },
      "outputs": [],
      "source": [
        "titanic_groupby = titanic_df.groupby(by='Pclass')\n",
        "print(type(titanic_groupby))"
      ]
    },
    {
      "cell_type": "code",
      "execution_count": null,
      "metadata": {
        "id": "OicYioIYPuQE"
      },
      "outputs": [],
      "source": [
        "titanic_groupby = titanic_df.groupby('Pclass').count()\n",
        "titanic_groupby"
      ]
    },
    {
      "cell_type": "code",
      "execution_count": null,
      "metadata": {
        "id": "N4AIERbZPuQE"
      },
      "outputs": [],
      "source": [
        "titanic_groupby = titanic_df.groupby('Pclass')[['PassengerId', 'Survived']].count()\n",
        "titanic_groupby"
      ]
    },
    {
      "cell_type": "code",
      "execution_count": null,
      "metadata": {
        "id": "MlesmyiqPuQE"
      },
      "outputs": [],
      "source": [
        "titanic_df.groupby('Pclass')['Age'].agg([max, min])"
      ]
    },
    {
      "cell_type": "code",
      "execution_count": null,
      "metadata": {
        "id": "G9V9lG31PuQE"
      },
      "outputs": [],
      "source": [
        "agg_format={'Age':'max', 'SibSp':'sum', 'Fare':'mean'}\n",
        "titanic_df.groupby('Pclass').agg(agg_format)"
      ]
    },
    {
      "cell_type": "markdown",
      "metadata": {
        "id": "trJ2TKUPPuQE"
      },
      "source": [
        "#### **결손 데이터 처리하기**"
      ]
    },
    {
      "cell_type": "markdown",
      "metadata": {
        "id": "tJNAXZVEPuQE"
      },
      "source": [
        "#### **`isna()`로 결측치(missing data) 확인**"
      ]
    },
    {
      "cell_type": "code",
      "execution_count": null,
      "metadata": {
        "id": "2s0f8BRSPuQF"
      },
      "outputs": [],
      "source": [
        "titanic_df.isna().head(3)"
      ]
    },
    {
      "cell_type": "code",
      "execution_count": null,
      "metadata": {
        "id": "0h84-wsYPuQF"
      },
      "outputs": [],
      "source": [
        "titanic_df.isna( ).sum( )"
      ]
    },
    {
      "cell_type": "markdown",
      "metadata": {
        "id": "7hUTyfwZPuQF"
      },
      "source": [
        "#### **`fillna()`로 결측치(missing data) 대체하기**"
      ]
    },
    {
      "cell_type": "code",
      "execution_count": null,
      "metadata": {
        "id": "4He0-qsMPuQF"
      },
      "outputs": [],
      "source": [
        "titanic_df['Cabin'] = titanic_df['Cabin'].fillna('C000')\n",
        "titanic_df.head(3)"
      ]
    },
    {
      "cell_type": "code",
      "execution_count": null,
      "metadata": {
        "id": "OSZPgaQaPuQF"
      },
      "outputs": [],
      "source": [
        "titanic_df['Age'] = titanic_df['Age'].fillna(titanic_df['Age'].mean())\n",
        "titanic_df['Embarked'] = titanic_df['Embarked'].fillna('S')\n",
        "titanic_df.isna().sum()"
      ]
    },
    {
      "cell_type": "code",
      "execution_count": null,
      "metadata": {
        "id": "VJ2Ar34BPuQF"
      },
      "outputs": [],
      "source": [
        "titanic_df.to_csv('result.csv')"
      ]
    },
    {
      "cell_type": "markdown",
      "metadata": {
        "id": "66JDAbLZPuQF"
      },
      "source": [
        "### **apply lambda 식으로 데이터 가공하기**"
      ]
    },
    {
      "cell_type": "code",
      "execution_count": null,
      "metadata": {
        "id": "PUBeLnEFPuQG"
      },
      "outputs": [],
      "source": [
        "def get_square(a):\n",
        "    return a**2\n",
        "\n",
        "print('3의 제곱은:',get_square(3))"
      ]
    },
    {
      "cell_type": "code",
      "execution_count": null,
      "metadata": {
        "id": "VJVRjgGDPuQG"
      },
      "outputs": [],
      "source": [
        "lambda_square = lambda x : x ** 2\n",
        "print('3의 제곱은:',lambda_square(3))"
      ]
    },
    {
      "cell_type": "code",
      "execution_count": null,
      "metadata": {
        "id": "hPvhBqAvPuQG"
      },
      "outputs": [],
      "source": [
        "a=[1,2,3]\n",
        "squares = map(lambda x : x**2, a)\n",
        "list(squares)"
      ]
    },
    {
      "cell_type": "code",
      "source": [
        "a = [1, 2, 3]\n",
        "odds = filter(lambda x : x % 2 == 1, a)\n",
        "list(odds)"
      ],
      "metadata": {
        "id": "RtZIAddJBRxO"
      },
      "execution_count": null,
      "outputs": []
    },
    {
      "cell_type": "code",
      "execution_count": null,
      "metadata": {
        "id": "q0sTpa9SPuQG"
      },
      "outputs": [],
      "source": [
        "titanic_df['Name_len']= titanic_df['Name'].apply(lambda x : len(x))\n",
        "titanic_df[['Name','Name_len']].head(3)"
      ]
    },
    {
      "cell_type": "code",
      "execution_count": null,
      "metadata": {
        "id": "FCZ8dDy4PuQG"
      },
      "outputs": [],
      "source": [
        "titanic_df['Child_Adult'] = titanic_df['Age'].apply(lambda x : 'Child' if x <=15 else 'Adult' )\n",
        "titanic_df[['Age','Child_Adult']].head(8)"
      ]
    },
    {
      "cell_type": "code",
      "execution_count": null,
      "metadata": {
        "id": "DSvjknkvPuQG"
      },
      "outputs": [],
      "source": [
        "titanic_df['Age_cat'] = titanic_df['Age'].apply(lambda x : 'Child' if x<=15 else ('Adult' if x <= 60 else \n",
        "                                                                                  'Elderly'))\n",
        "titanic_df['Age_cat'].value_counts()"
      ]
    },
    {
      "cell_type": "code",
      "execution_count": null,
      "metadata": {
        "id": "uSVaUjeRPuQG"
      },
      "outputs": [],
      "source": [
        "# 나이에 따라 세분화된 분류를 수행하는 함수 생성. \n",
        "def get_category(age):\n",
        "    cat = ''\n",
        "    if age <= 5: cat = 'Baby'\n",
        "    elif age <= 12: cat = 'Child'\n",
        "    elif age <= 18: cat = 'Teenager'\n",
        "    elif age <= 25: cat = 'Student'\n",
        "    elif age <= 35: cat = 'Young Adult'\n",
        "    elif age <= 60: cat = 'Adult'\n",
        "    else : cat = 'Elderly'\n",
        "    \n",
        "    return cat\n",
        "\n",
        "# lambda 식에 위에서 생성한 get_category( ) 함수를 반환값으로 지정. \n",
        "# get_category(X)는 입력값으로 ‘Age’ 컬럼 값을 받아서 해당하는 cat 반환\n",
        "titanic_df['Age_cat'] = titanic_df['Age'].apply(lambda x : get_category(x))\n",
        "titanic_df[['Age','Age_cat']].head()\n",
        "    "
      ]
    }
  ],
  "metadata": {
    "language_info": {
      "name": "python"
    },
    "orig_nbformat": 4,
    "colab": {
      "name": "11_12_Pandas.ipynb",
      "provenance": [],
      "collapsed_sections": [],
      "include_colab_link": true
    },
    "kernelspec": {
      "name": "python3",
      "display_name": "Python 3"
    }
  },
  "nbformat": 4,
  "nbformat_minor": 0
}