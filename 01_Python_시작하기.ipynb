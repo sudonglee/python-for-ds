{
  "nbformat": 4,
  "nbformat_minor": 0,
  "metadata": {
    "colab": {
      "name": "01_Python 시작하기.ipynb",
      "private_outputs": true,
      "provenance": [],
      "collapsed_sections": [],
      "authorship_tag": "ABX9TyOxo/S7MmySn0FsJKfOPKg7",
      "include_colab_link": true
    },
    "kernelspec": {
      "name": "python3",
      "display_name": "Python 3"
    },
    "language_info": {
      "name": "python"
    }
  },
  "cells": [
    {
      "cell_type": "markdown",
      "metadata": {
        "id": "view-in-github",
        "colab_type": "text"
      },
      "source": [
        "<a href=\"https://colab.research.google.com/github/sudonglee/python-for-ds/blob/main/01_Python_%EC%8B%9C%EC%9E%91%ED%95%98%EA%B8%B0.ipynb\" target=\"_parent\"><img src=\"https://colab.research.google.com/assets/colab-badge.svg\" alt=\"Open In Colab\"/></a>"
      ]
    },
    {
      "cell_type": "markdown",
      "source": [
        "# **Lecture 01. Python 시작하기** "
      ],
      "metadata": {
        "id": "5E0cHsosIdqJ"
      }
    },
    {
      "cell_type": "markdown",
      "source": [
        "작성자: 이수동 (울산대학교 산업경영공학부 | sudonglee@ulsan.ac.kr)"
      ],
      "metadata": {
        "id": "5aBvkUfBIQ-Q"
      }
    },
    {
      "cell_type": "markdown",
      "source": [
        "# Jupyter Notebook\n",
        "- Jupyter Notebook은 대표적인 대화형 파이썬, IPython(Interactive Python) 툴입니다.\n",
        "- 전체 프로그램에서 특정 코드 영역별로 개별 수행을 지원하여, 이해가 쉽습니다.\n",
        "- 또한 마크다운(Markdown) 편집 기능을 함께 제공합니다. 코드 작성 및 문서화(documentation)를 동시에 할 수 있어 손쉬운 리포팅(reporting)이 가능합니다."
      ],
      "metadata": {
        "id": "n-T6ZjYe2Pet"
      }
    },
    {
      "cell_type": "markdown",
      "source": [
        "# Google Colaboratory\n",
        "- Google Colaboratory(줄여서 Google Colab)은 Google이 제공하는 클라우드 기반의 무료 Jupyter Notebook 개발 환경(Colab notebook)입니다. \n",
        "- Google 계정만 만들면 바로 사용할 수 있으며, Google Drive와 연동 가능합니다.\n",
        "- Python 프로그래밍에 필요한 기본적인 환경이 모두 세팅되어 있으며, 개별적인 추가 환경 설정도 가능합니다.\n",
        "- 필요에 따라 무료로 제공되는 GPU 자원을 사용할 수 있습니다.\n",
        "- 추가적인 Colab 소개는 [이곳](https://https://theorydb.github.io/dev/2019/08/23/dev-ml-colab/) 등 다양한 자료를 참고하기 바랍니다. \n",
        "\n"
      ],
      "metadata": {
        "id": "DcvHwCXT6yI1"
      }
    },
    {
      "cell_type": "markdown",
      "source": [
        "## Cell\n",
        "\n",
        "- Jupyter Notebook은 cell을 기반으로 구동됩니다.\n",
        "- Colab notebook에서는 기본적으로 아래 두가지 유형의 cell을 제공합니다. \n",
        "    - 코드(Code): 커널에서 설정된 언어로 코드를 작성합니다. 코드 실행 결과는 해당 cell 아래에 바로 출력됩니다. \n",
        "    - 텍스트(Markdown): 마크다운 기반 문서를 작성합니다. "
      ],
      "metadata": {
        "id": "on9SQ1f96jQX"
      }
    },
    {
      "cell_type": "code",
      "source": [
        "print('안녕')"
      ],
      "metadata": {
        "id": "riV-0RMPet19"
      },
      "execution_count": null,
      "outputs": []
    },
    {
      "cell_type": "markdown",
      "source": [
        "안녕하세요 이수동입니다."
      ],
      "metadata": {
        "id": "3fFNMkKOetJi"
      }
    },
    {
      "cell_type": "markdown",
      "source": [
        "안녕하세요. 이수동입니다.\n"
      ],
      "metadata": {
        "id": "Td8KXXON7wKU"
      }
    },
    {
      "cell_type": "code",
      "source": [
        "print('Hello world!')"
      ],
      "metadata": {
        "id": "RcrQkq-j7v9X"
      },
      "execution_count": null,
      "outputs": []
    },
    {
      "cell_type": "code",
      "source": [
        "3+2"
      ],
      "metadata": {
        "id": "9nkDihRIe9AE"
      },
      "execution_count": null,
      "outputs": []
    },
    {
      "cell_type": "markdown",
      "source": [
        "## 기본적인 단축키\n",
        "\n",
        "- `B`/`A`: 현재 cell의 아래/위에 새로운 코드 셀을 추가합니다.\n",
        "- `Enter`: 현재 cell을 편집합니다.\n",
        "- `Esc`: 편집 모드에서 커맨드 모드로 변경\n",
        "- `ctrl`+`M`+`D`: 현재 cell을 삭제합니다.\n",
        "- `ctrl`+`M`+`M`: Code cell → Markdown cell\n",
        "- `ctrl`+`M`+`Y`:  Markdown cell → Code cell \n",
        "- `ctrl`+`M`+`Z`:  cell 단위의 실행 취소\n",
        "- `Ctrl`+`Enter`: 현재 cell 실행\n",
        "- `Shift`+`Enter`: 현재 cell 실행 후 다음 cell로 이동\n",
        "- `Alt`+`Enter`: 현재 cell 실행 후 아래에 새로운 cell 추가"
      ],
      "metadata": {
        "id": "UWtdxPeK8JDd"
      }
    }
  ]
}